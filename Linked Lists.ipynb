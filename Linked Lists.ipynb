{
 "cells": [
  {
   "cell_type": "markdown",
   "metadata": {},
   "source": [
    "# Linked List"
   ]
  },
  {
   "cell_type": "code",
   "execution_count": 1,
   "metadata": {},
   "outputs": [
    {
     "name": "stdout",
     "output_type": "stream",
     "text": [
      "2\n",
      "0x1bef01ece30\n"
     ]
    }
   ],
   "source": [
    "# How to create a LL\n",
    "\n",
    "class Node:\n",
    "    def __init__(self,data1,next1=None):\n",
    "        self.data=data1\n",
    "        self.next=next1\n",
    "x=Node(2)\n",
    "y=hex(id(x)) # store the address of x\n",
    "print(x.data)\n",
    "print(y)"
   ]
  },
  {
   "cell_type": "code",
   "execution_count": 2,
   "metadata": {},
   "outputs": [],
   "source": [
    "# Insert a node at end of LL\n",
    "\n",
    "def insertAtEnd(self,head,x):\n",
    "    # code here \n",
    "    if head is None:\n",
    "        return Node(x)\n",
    "    curr = head\n",
    "    while curr.next:\n",
    "        curr = curr.next\n",
    "    curr.next = Node(x)\n",
    "    return head"
   ]
  },
  {
   "cell_type": "code",
   "execution_count": 3,
   "metadata": {},
   "outputs": [],
   "source": [
    "# Delete a LL Node using curr.next=curr.next.next where curr is the previous node of the node to be deleted\n",
    "\n",
    "def deleteNode(node):\n",
    "    # delete the node without head\n",
    "    node.data = node.next.data\n",
    "    node.next = node.next.next"
   ]
  },
  {
   "cell_type": "code",
   "execution_count": 4,
   "metadata": {},
   "outputs": [],
   "source": [
    "# Traversing a LL\n",
    "\n",
    "def printList(head):\n",
    "    curr = head\n",
    "    while curr:\n",
    "        print(curr.data, end=\" \")\n",
    "        curr = curr.next"
   ]
  },
  {
   "cell_type": "code",
   "execution_count": 1,
   "metadata": {},
   "outputs": [],
   "source": [
    "# Reverse a LL iteratively using a stack\n",
    "from collections import deque\n",
    "class Solution:\n",
    "    def reverseList(head):\n",
    "        stack=deque()\n",
    "        curr=head\n",
    "        while curr:\n",
    "            stack.append(curr.val)\n",
    "            curr=curr.next\n",
    "        curr=head\n",
    "        while curr:\n",
    "            curr.val=stack.pop()\n",
    "            curr=curr.next\n",
    "        return head\n",
    "    \n",
    "\n",
    "# Reverse a LL using 3 Pointer Method\n",
    "    def reverseList(head):\n",
    "        prev=None\n",
    "        curr=head\n",
    "        while curr:\n",
    "            front=curr.next\n",
    "            curr.next=prev\n",
    "            prev=curr\n",
    "            curr=front\n",
    "        return prev "
   ]
  },
  {
   "cell_type": "code",
   "execution_count": null,
   "metadata": {},
   "outputs": [],
   "source": [
    "# Detect a loop in LL\n",
    "# Floyd's Cycle Detection Algorithm (Tortoise and Hare Algorithm)\n",
    "# If there is a loop, the fast and slow pointers will meet at some point as everytime in a cycle the net distance bw fast and slow decreases by 1\n",
    "def detectLoop(head):\n",
    "    slow,fast=head,head\n",
    "    while fast and fast.next:\n",
    "        slow=slow.next\n",
    "        fast=fast.next.next\n",
    "        if slow==fast:\n",
    "            return True\n",
    "    return False"
   ]
  },
  {
   "cell_type": "code",
   "execution_count": 6,
   "metadata": {},
   "outputs": [],
   "source": [
    "# Find middle of LL using Tortoise and Hare Method\n",
    "# use two pointers slow and fast initially at head and move slow by 1 and fast by 2\n",
    "# when fast reaches end, slow will be at middle\n",
    "def middle(head):\n",
    "    slow,fast=head,head\n",
    "    while fast and fast.next:\n",
    "        slow=slow.next\n",
    "        fast=fast.next.next\n",
    "    return slow"
   ]
  }
 ],
 "metadata": {
  "kernelspec": {
   "display_name": "Python 3",
   "language": "python",
   "name": "python3"
  },
  "language_info": {
   "codemirror_mode": {
    "name": "ipython",
    "version": 3
   },
   "file_extension": ".py",
   "mimetype": "text/x-python",
   "name": "python",
   "nbconvert_exporter": "python",
   "pygments_lexer": "ipython3",
   "version": "3.12.3"
  }
 },
 "nbformat": 4,
 "nbformat_minor": 2
}
