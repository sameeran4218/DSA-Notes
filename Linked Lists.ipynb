{
 "cells": [
  {
   "cell_type": "markdown",
   "metadata": {},
   "source": [
    "# Linked List"
   ]
  },
  {
   "cell_type": "code",
   "execution_count": 1,
   "metadata": {},
   "outputs": [
    {
     "name": "stdout",
     "output_type": "stream",
     "text": [
      "2\n",
      "0x1bef01ece30\n"
     ]
    }
   ],
   "source": [
    "# How to create a LL\n",
    "\n",
    "class Node:\n",
    "    def __init__(self,data1,next1=None):\n",
    "        self.data=data1\n",
    "        self.next=next1\n",
    "x=Node(2)\n",
    "y=hex(id(x)) # store the address of x\n",
    "print(x.data)\n",
    "print(y)"
   ]
  },
  {
   "cell_type": "code",
   "execution_count": 2,
   "metadata": {},
   "outputs": [],
   "source": [
    "# Insert a node at end of LL\n",
    "\n",
    "def insertAtEnd(self,head,x):\n",
    "    # code here \n",
    "    if head is None:\n",
    "        return Node(x)\n",
    "    curr = head\n",
    "    while curr.next:\n",
    "        curr = curr.next\n",
    "    curr.next = Node(x)\n",
    "    return head"
   ]
  },
  {
   "cell_type": "code",
   "execution_count": 3,
   "metadata": {},
   "outputs": [],
   "source": [
    "# Delete a LL Node using curr.next=curr.next.next where curr is the previous node of the node to be deleted\n",
    "\n",
    "def deleteNode(node):\n",
    "    # delete the node without head\n",
    "    node.data = node.next.data\n",
    "    node.next = node.next.next"
   ]
  },
  {
   "cell_type": "code",
   "execution_count": 4,
   "metadata": {},
   "outputs": [],
   "source": [
    "# Traversing a LL\n",
    "\n",
    "def printList(head):\n",
    "    curr = head\n",
    "    while curr:\n",
    "        print(curr.data, end=\" \")\n",
    "        curr = curr.next"
   ]
  },
  {
   "cell_type": "code",
   "execution_count": 1,
   "metadata": {},
   "outputs": [],
   "source": [
    "# Reverse a LL iteratively using a stack\n",
    "from collections import deque\n",
    "class Solution:\n",
    "    def reverseList(head):\n",
    "        stack=deque()\n",
    "        curr=head\n",
    "        while curr:\n",
    "            stack.append(curr.val)\n",
    "            curr=curr.next\n",
    "        curr=head\n",
    "        while curr:\n",
    "            curr.val=stack.pop()\n",
    "            curr=curr.next\n",
    "        return head\n",
    "    \n",
    "\n",
    "# Reverse a LL using 3 Pointer Method\n",
    "    def reverseList(head):\n",
    "        prev=None\n",
    "        curr=head\n",
    "        while curr:\n",
    "            front=curr.next\n",
    "            curr.next=prev\n",
    "            prev=curr\n",
    "            curr=front\n",
    "        return prev"
   ]
  },
  {
   "cell_type": "code",
   "execution_count": null,
   "metadata": {},
   "outputs": [],
   "source": [
    "# Detect a loop in LL\n",
    "# Floyd's Cycle Detection Algorithm (Tortoise and Hare Algorithm)\n",
    "# If there is a loop, the fast and slow pointers will meet at some point as everytime in a cycle the net distance bw fast and slow decreases by 1\n",
    "def detectLoop(head):\n",
    "    slow,fast=head,head\n",
    "    while fast and fast.next:\n",
    "        slow=slow.next\n",
    "        fast=fast.next.next\n",
    "        if slow==fast:\n",
    "            return True\n",
    "    return False\n",
    "\n",
    "# Detect the starting point of the loop in LL\n",
    "def detectCycle(head):\n",
    "    slow,fast=head,head\n",
    "    cnt=0\n",
    "    while fast and fast.next: # this detects the presence of a loop\n",
    "        slow=slow.next\n",
    "        fast=fast.next.next\n",
    "        if slow==fast:\n",
    "            cnt+=1\n",
    "            break\n",
    "    if cnt==0:\n",
    "        return None\n",
    "    fast=head    # finds the pointer where the loop starts\n",
    "    while fast!=slow:\n",
    "        fast=fast.next\n",
    "        slow=slow.next\n",
    "    return slow"
   ]
  },
  {
   "cell_type": "code",
   "execution_count": 6,
   "metadata": {},
   "outputs": [],
   "source": [
    "# Find middle of LL using Tortoise and Hare Method\n",
    "# use two pointers slow and fast initially at head and move slow by 1 and fast by 2\n",
    "# when fast reaches end, slow will be at middle\n",
    "def middle(head):\n",
    "    slow,fast=head,head\n",
    "    while fast and fast.next:\n",
    "        slow=slow.next\n",
    "        fast=fast.next.next\n",
    "    return slow"
   ]
  },
  {
   "cell_type": "code",
   "execution_count": null,
   "metadata": {},
   "outputs": [],
   "source": [
    "# Find if a LL is palindrome   - brute force - use stack\n",
    "# Find the middle of LL using Tortoise and Hare Method\n",
    "# Reverse the 2nd half of LL\n",
    "# Traverse from head and reversed 2nd half and check if palindrome\n",
    "class Solution:\n",
    "    def isPalindrome(head):\n",
    "        if not head.next:\n",
    "            return True\n",
    "        # find the middle of LL\n",
    "        slow=fast=head\n",
    "        while fast.next and fast.next.next: # stops at middle 1 for even\n",
    "            slow=slow.next\n",
    "            fast=fast.next.next\n",
    "        middle1=slow\n",
    "        prev=None\n",
    "        curr=middle1.next\n",
    "        while curr:   # reverse links in 2nd half of LL so we can traverse back to check for palindrome\n",
    "            front=curr.next\n",
    "            curr.next=prev\n",
    "            prev=curr\n",
    "            curr=front\n",
    "        c1=head\n",
    "        while c1!=prev and c1 and prev:   # Check if palindromic\n",
    "            if c1.val!=prev.val:\n",
    "                return False\n",
    "            c1=c1.next\n",
    "            prev=prev.next\n",
    "        return True"
   ]
  }
 ],
 "metadata": {
  "kernelspec": {
   "display_name": "Python 3",
   "language": "python",
   "name": "python3"
  },
  "language_info": {
   "codemirror_mode": {
    "name": "ipython",
    "version": 3
   },
   "file_extension": ".py",
   "mimetype": "text/x-python",
   "name": "python",
   "nbconvert_exporter": "python",
   "pygments_lexer": "ipython3",
   "version": "3.12.3"
  }
 },
 "nbformat": 4,
 "nbformat_minor": 2
}
