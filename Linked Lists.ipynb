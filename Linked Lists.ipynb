{
 "cells": [
  {
   "cell_type": "markdown",
   "metadata": {},
   "source": [
    "# Singly Linked Lists"
   ]
  },
  {
   "cell_type": "code",
   "execution_count": 4,
   "metadata": {},
   "outputs": [],
   "source": [
    "class SinglyLinkedList:\n",
    "\n",
    "    def __init__(self,val,next=None):\n",
    "        self.val=val\n",
    "        self.next=next\n",
    "    \n",
    "    def __str__(self):\n",
    "        return str(self.val)"
   ]
  },
  {
   "cell_type": "code",
   "execution_count": 5,
   "metadata": {},
   "outputs": [],
   "source": [
    "# Building a linked list . generally we only have reference to the head\n",
    "\n",
    "Head=SinglyLinkedList(1)\n",
    "A=SinglyLinkedList(3)\n",
    "B=SinglyLinkedList(5)\n",
    "C=SinglyLinkedList(7)\n",
    "\n",
    "# point each node to the next. by default the end node points to None\n",
    "\n",
    "Head.next=A\n",
    "A.next=B\n",
    "B.next=C"
   ]
  },
  {
   "cell_type": "code",
   "execution_count": 6,
   "metadata": {},
   "outputs": [
    {
     "name": "stdout",
     "output_type": "stream",
     "text": [
      "1\n",
      "3\n",
      "5\n",
      "7\n"
     ]
    }
   ],
   "source": [
    "# Traverse a Linked List : O(n)\n",
    "\n",
    "curr=Head\n",
    "while curr: # till curr in not None\n",
    "    print(curr)\n",
    "    curr=curr.next"
   ]
  },
  {
   "cell_type": "code",
   "execution_count": 8,
   "metadata": {},
   "outputs": [
    {
     "name": "stdout",
     "output_type": "stream",
     "text": [
      "1-> 3-> 5-> 7\n"
     ]
    }
   ],
   "source": [
    "# Display Linked List : O(n)\n",
    "\n",
    "elements=[]\n",
    "curr=Head\n",
    "while curr:\n",
    "    elements.append(str(curr))\n",
    "    curr=curr.next\n",
    "print('-> '.join(elements))"
   ]
  },
  {
   "cell_type": "code",
   "execution_count": 9,
   "metadata": {},
   "outputs": [
    {
     "data": {
      "text/plain": [
       "True"
      ]
     },
     "execution_count": 9,
     "metadata": {},
     "output_type": "execute_result"
    }
   ],
   "source": [
    "# Search for a Node value : O(n)\n",
    "\n",
    "def search(Head,val):\n",
    "    curr=Head\n",
    "    while curr:\n",
    "        if val==curr.val:\n",
    "            return True\n",
    "        curr=curr.next\n",
    "    return False\n",
    "search(Head,7)"
   ]
  },
  {
   "cell_type": "markdown",
   "metadata": {},
   "source": [
    "# Doubly Linked Lists"
   ]
  },
  {
   "cell_type": "code",
   "execution_count": 10,
   "metadata": {},
   "outputs": [],
   "source": [
    "class DoublyLinkedList:\n",
    "\n",
    "    def __init__(self,val,next=None,prev=None):\n",
    "        self.val=val\n",
    "        self.next=next\n",
    "        self.prev=prev\n",
    "\n",
    "    def __str__(self):\n",
    "        return str(self.val)\n",
    "    "
   ]
  },
  {
   "cell_type": "code",
   "execution_count": 17,
   "metadata": {},
   "outputs": [
    {
     "name": "stdout",
     "output_type": "stream",
     "text": [
      "1\n"
     ]
    }
   ],
   "source": [
    "# build a doubly linked list and display\n",
    "\n",
    "head=tail=DoublyLinkedList(1)\n",
    "# a=DoublyLinkedList(2)\n",
    "# b=DoublyLinkedList(3)\n",
    "# head.next=a\n",
    "# a.next=b\n",
    "# a.prev=head\n",
    "# b.prev=a\n",
    "\n",
    "def display(head):\n",
    "    elements=[]\n",
    "    curr=head\n",
    "    while curr:\n",
    "        elements.append(str(curr.val))\n",
    "        curr=curr.next\n",
    "    print(' <-> '.join(elements))\n",
    "display(head)\n"
   ]
  },
  {
   "cell_type": "code",
   "execution_count": 18,
   "metadata": {},
   "outputs": [
    {
     "name": "stdout",
     "output_type": "stream",
     "text": [
      "7 <-> 1\n"
     ]
    }
   ],
   "source": [
    "# Insert at beginning : O(1)\n",
    "\n",
    "def insert_at_beginning(head,val,tail):\n",
    "    new_node=DoublyLinkedList(val,next=head)\n",
    "    head.prev=new_node\n",
    "    return new_node,tail\n",
    "head,tail=insert_at_beginning(head,7,tail)\n",
    "display(head)"
   ]
  },
  {
   "cell_type": "code",
   "execution_count": 19,
   "metadata": {},
   "outputs": [
    {
     "name": "stdout",
     "output_type": "stream",
     "text": [
      "7 <-> 1 <-> 5\n"
     ]
    }
   ],
   "source": [
    "# Insert at end : O(1)\n",
    "\n",
    "def insert_at_end(head,val,tail):\n",
    "    end_node=DoublyLinkedList(val,prev=tail)\n",
    "    tail.next=end_node\n",
    "    return head,end_node\n",
    "head,tail=insert_at_end(head,5,tail)\n",
    "display(head)"
   ]
  },
  {
   "cell_type": "code",
   "execution_count": null,
   "metadata": {},
   "outputs": [],
   "source": [
    "# Delete duplicates from a sorted linked list\n",
    "\n",
    "class ListNode:\n",
    "    def __init__(self, val=0, next=None):\n",
    "        self.val = val\n",
    "        self.next = next\n",
    "\n",
    "def deleteDuplicates(self,head):\n",
    "    curr=head\n",
    "    while curr.next:\n",
    "        if curr"
   ]
  }
 ],
 "metadata": {
  "kernelspec": {
   "display_name": "Python 3",
   "language": "python",
   "name": "python3"
  },
  "language_info": {
   "codemirror_mode": {
    "name": "ipython",
    "version": 3
   },
   "file_extension": ".py",
   "mimetype": "text/x-python",
   "name": "python",
   "nbconvert_exporter": "python",
   "pygments_lexer": "ipython3",
   "version": "3.12.3"
  }
 },
 "nbformat": 4,
 "nbformat_minor": 2
}
