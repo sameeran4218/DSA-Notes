{
 "cells": [
  {
   "cell_type": "markdown",
   "metadata": {},
   "source": [
    "# Greedy Algorithms"
   ]
  },
  {
   "cell_type": "markdown",
   "metadata": {},
   "source": [
    "Greedy Algorithm follows the approach of making locally optimal choice at each stage to get the globally optimum result.\n",
    "Cons: Making locally optimal choices dont always result in the globally optimum result.\n",
    "Problems on which Greedy Algorthims work:\n",
    "1. When global optimum can be achieved by making locally optimum choices.\n",
    "2. When an optimal solution to the problem can be obtained from optimal solutions of its subproblems.\n",
    "A Greedy Algorithm never reverses its choices."
   ]
  },
  {
   "cell_type": "markdown",
   "metadata": {},
   "source": [
    "## 1. Activity Selection"
   ]
  },
  {
   "cell_type": "markdown",
   "metadata": {},
   "source": [
    "Given n number of activities with their start and end time. Find the maximum number activities a person can do if a person can only perform a single activity in a given time."
   ]
  },
  {
   "cell_type": "code",
   "execution_count": 8,
   "metadata": {},
   "outputs": [
    {
     "name": "stdout",
     "output_type": "stream",
     "text": [
      "Possible activities--> [[1, 2], [3, 4], [5, 7], [8, 9]]. Total possible activities are --> 4\n"
     ]
    }
   ],
   "source": [
    "def activitySelection(nums):\n",
    "    nums.sort(key=lambda x: x[1])  # sort based on finish times\n",
    "    activity=[nums[0]]             # first activity is always chosen\n",
    "    for i in range(1,len(nums)):\n",
    "        if nums[i][0]>=activity[-1][1]:        # if start>=finish of previously selected\n",
    "            activity.append(nums[i])\n",
    "    return activity,len(activity)\n",
    "times=[[0,6],[3,4],[1,2],[5,9],[5,7],[8,9]]\n",
    "print(f'Possible activities--> {activitySelection(times)[0]}. Total possible activities are --> {activitySelection(times)[1]}')"
   ]
  }
 ],
 "metadata": {
  "kernelspec": {
   "display_name": "Python 3",
   "language": "python",
   "name": "python3"
  },
  "language_info": {
   "codemirror_mode": {
    "name": "ipython",
    "version": 3
   },
   "file_extension": ".py",
   "mimetype": "text/x-python",
   "name": "python",
   "nbconvert_exporter": "python",
   "pygments_lexer": "ipython3",
   "version": "3.12.3"
  }
 },
 "nbformat": 4,
 "nbformat_minor": 2
}
