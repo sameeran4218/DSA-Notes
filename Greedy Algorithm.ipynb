{
 "cells": [
  {
   "cell_type": "markdown",
   "metadata": {},
   "source": [
    "# Greedy Algorithms"
   ]
  },
  {
   "cell_type": "markdown",
   "metadata": {},
   "source": [
    "Greedy Algorithm follows the approach of making locally optimal choice at each stage to get the globally optimum result.\n",
    "Cons: Making locally optimal choices dont always result in the globally optimum result.\n",
    "Problems on which Greedy Algorthims work:\n",
    "1. When global optimum can be achieved by making locally optimum choices.\n",
    "2. When an optimal solution to the problem can be obtained from optimal solutions of its subproblems.\n",
    "A Greedy Algorithm never reverses its choices."
   ]
  },
  {
   "cell_type": "code",
   "execution_count": 4,
   "metadata": {},
   "outputs": [
    {
     "data": {
      "text/plain": [
       "3"
      ]
     },
     "execution_count": 4,
     "metadata": {},
     "output_type": "execute_result"
    }
   ],
   "source": [
    "# Assign cookies\n",
    "# Each child i has a greed factor g[i], which is the minimum size of a cookie that the child will be content with; and each cookie j has a size s[j].\n",
    "#  If s[j] >= g[i], we can assign the cookie j to the child i, and the child i will be content.\n",
    "#  Your goal is to maximize the number of your content children and output the maximum number. Each child gets only 1 cookie\n",
    "\n",
    "def assignCookies(greed,size):\n",
    "    greed.sort()\n",
    "    size.sort()\n",
    "    s,g=0,0\n",
    "    cnt=0\n",
    "    while s<len(size) and g<len(greed):\n",
    "        if size[s]>=greed[g]:\n",
    "            cnt+=1\n",
    "            g+=1\n",
    "        s+=1\n",
    "    return cnt\n",
    "greed=[6,7,8,9,10]\n",
    "size=[5,6,7,8]\n",
    "assignCookies(greed,size)\n"
   ]
  },
  {
   "cell_type": "code",
   "execution_count": 47,
   "metadata": {},
   "outputs": [
    {
     "data": {
      "text/plain": [
       "[20, 20, 5, 2, 2]"
      ]
     },
     "execution_count": 47,
     "metadata": {},
     "output_type": "execute_result"
    }
   ],
   "source": [
    "# find out the minimum number of coins required to get the required sum if you have infinite supply of each denomination.\n",
    "# also find out which coins are used.\n",
    "\n",
    "def minCoins(coins,req_sum):\n",
    "    coins_req=[]\n",
    "    for i in reversed(range(len(coins))):\n",
    "        while req_sum>=coins[i]:\n",
    "            req_sum-=coins[i]\n",
    "            coins_req.append(coins[i])\n",
    "    if req_sum!=0:\n",
    "        return -1\n",
    "    return coins_req\n",
    "coins=[1,2,5,10,20,50,100,200,500,1000]\n",
    "req_sum=49\n",
    "minCoins(coins,req_sum)\n"
   ]
  },
  {
   "cell_type": "code",
   "execution_count": 21,
   "metadata": {},
   "outputs": [
    {
     "data": {
      "text/plain": [
       "True"
      ]
     },
     "execution_count": 21,
     "metadata": {},
     "output_type": "execute_result"
    }
   ],
   "source": [
    "# At a lemonade stand, each lemonade costs $5.Each customer will only buy one lemonade and pay with either a $5, $10, or $20 bill. \n",
    "# You must provide the correct change to each customer.\n",
    "# Note that you do not have any change in hand at first.\n",
    "# Given an integer array bills where bills[i] is the bill the ith customer pays, return true if you can provide every customer with the correct change, or false otherwise.\n",
    "\n",
    "def lemonadeChange(bills):\n",
    "    if bills[0]!=5:\n",
    "        return False\n",
    "    freq_change={5:1,10:0,20:0}\n",
    "    for i in range(1,len(bills)):\n",
    "        if bills[i]==10:\n",
    "            if freq_change[5]>=1:\n",
    "                freq_change[5]-=1\n",
    "            else:\n",
    "                return False\n",
    "        if bills[i]==20:\n",
    "            if freq_change[10]>=1 and freq_change[5]>=1:\n",
    "                freq_change[10]-=1\n",
    "                freq_change[5]-=1\n",
    "            elif freq_change[5]>=3:\n",
    "                freq_change[5]-=3\n",
    "            else:\n",
    "                return False\n",
    "        freq_change[bills[i]]+=1\n",
    "    return True\n",
    "bills = [5,5,5,10,20]\n",
    "lemonadeChange(bills)\n",
    "    "
   ]
  },
  {
   "cell_type": "code",
   "execution_count": 13,
   "metadata": {},
   "outputs": [
    {
     "data": {
      "text/plain": [
       "{5: 1}"
      ]
     },
     "execution_count": 13,
     "metadata": {},
     "output_type": "execute_result"
    }
   ],
   "source": [
    "freq={5:1}\n",
    "freq"
   ]
  },
  {
   "cell_type": "markdown",
   "metadata": {},
   "source": [
    "## 1. Activity Selection"
   ]
  },
  {
   "cell_type": "markdown",
   "metadata": {},
   "source": [
    "Given some overlapping time intervals we have to find out the maximum activities a person can do given that a person can only do 1 activity at a time"
   ]
  },
  {
   "cell_type": "code",
   "execution_count": 8,
   "metadata": {},
   "outputs": [
    {
     "name": "stdout",
     "output_type": "stream",
     "text": [
      "Possible activities--> [[1, 2], [3, 4], [5, 7], [8, 9]]. Total possible activities are --> 4\n"
     ]
    }
   ],
   "source": [
    "# Given n number of activities with their start and end time.\n",
    "# Find the maximum number activities a person can do if a person can only perform a single activity in a given time.\n",
    "def activitySelection(nums):\n",
    "    nums.sort(key=lambda x: x[1])  # sort based on finish times\n",
    "    activity=[nums[0]]             # first activity is always chosen\n",
    "    for i in range(1,len(nums)):\n",
    "        if nums[i][0]>=activity[-1][1]:        # if start>=finish of previously selected\n",
    "            activity.append(nums[i])\n",
    "    return activity,len(activity)\n",
    "times=[[0,6],[3,4],[1,2],[5,9],[5,7],[8,9]]\n",
    "print(f'Possible activities--> {activitySelection(times)[0]}. Total possible activities are --> {activitySelection(times)[1]}')"
   ]
  },
  {
   "cell_type": "code",
   "execution_count": 5,
   "metadata": {},
   "outputs": [
    {
     "data": {
      "text/plain": [
       "4"
      ]
     },
     "execution_count": 5,
     "metadata": {},
     "output_type": "execute_result"
    }
   ],
   "source": [
    "# Return the maximum number of meetings that can be accommodated in a single meeting room.\n",
    "# Only one meeting can be held in the meeting room at a particular time. \n",
    "def maximumMeetings(n,start,end):\n",
    "    timings=[]\n",
    "    for i in range(n):\n",
    "        timings.append([start[i],end[i]])\n",
    "    timings.sort(key=lambda x: x[1])\n",
    "    meetings=[timings[0]]\n",
    "    for j in range(1,n):\n",
    "        if timings[j][0]>meetings[-1][1]:\n",
    "            meetings.append(timings[j])\n",
    "    return len(meetings)\n",
    "n = 6 \n",
    "start = [1, 3, 0, 5, 8, 5]\n",
    "end =  [2, 4, 6, 7, 9, 9]\n",
    "maximumMeetings(n,start,end)\n"
   ]
  },
  {
   "cell_type": "markdown",
   "metadata": {},
   "source": [
    "## 2. Fractional Knapsack"
   ]
  },
  {
   "cell_type": "markdown",
   "metadata": {},
   "source": [
    "Given an array of pairs (vaue,weight) we have to fill up a knapsack such that total weight equals max weight.\n",
    "Condition: we have to maximize the value in the knapsack\n",
    "Note: you can pick up fractional weight and values\n"
   ]
  },
  {
   "cell_type": "code",
   "execution_count": 1,
   "metadata": {},
   "outputs": [
    {
     "data": {
      "text/plain": [
       "380.0"
      ]
     },
     "execution_count": 1,
     "metadata": {},
     "output_type": "execute_result"
    }
   ],
   "source": [
    "# Given an array of pairs (vaue,weight) we have to fill up a knapsack such that total weight equals max weight.\n",
    "# Condition: we have to maximize the value in the knapsack\n",
    "# Note: you can pick up fractional weight and values\n",
    "\n",
    "def maximizeValue(arr,total_weight): # Note in this you have to sort the value per unit weight in descending order\n",
    "    arr.sort(key= lambda x: x[0]/x[1],reverse=True)\n",
    "    total_val=0\n",
    "    for i in range(len(arr)):\n",
    "        if arr[i][1]<=total_weight:\n",
    "            total_val+=arr[i][0]\n",
    "            total_weight-=arr[i][1]\n",
    "        else:\n",
    "            total_val+=(arr[i][0]/arr[i][1])*total_weight\n",
    "            break\n",
    "    return total_val\n",
    "arr=[(100,20),(60,10),(100,50),(200,50)]\n",
    "total_weight=90\n",
    "maximizeValue(arr,total_weight)\n"
   ]
  },
  {
   "cell_type": "code",
   "execution_count": 23,
   "metadata": {},
   "outputs": [
    {
     "data": {
      "text/plain": [
       "91"
      ]
     },
     "execution_count": 23,
     "metadata": {},
     "output_type": "execute_result"
    }
   ],
   "source": [
    "# You are assigned to put some amount of boxes onto one truck. You are given a 2D array boxTypes, where boxTypes[i] = [numberOfBoxesi, numberOfUnitsPerBoxi]:\n",
    "# numberOfBoxesi is the number of boxes of type i.numberOfUnitsPerBoxi is the number of units in each box of the type i.\n",
    "# You are also given an integer truckSize, which is the maximum number of boxes that can be put on the truck. \n",
    "# You can choose any boxes to put on the truck as long as the number of boxes does not exceed truckSize.\n",
    "# Return the maximum total number of units that can be put on the truck\n",
    "\n",
    "def maximumUnits(boxTypes,truckSize):\n",
    "    boxTypes.sort(key=lambda x: x[1],reverse=True)  # sort in descending order based on number of units per box\n",
    "    wt_rem=truckSize\n",
    "    cur_wt=0\n",
    "    max_units=0\n",
    "    for i in range(len(boxTypes)):\n",
    "        if wt_rem==0:\n",
    "            return max_units\n",
    "        if boxTypes[i][0]<=wt_rem:              # if box wt less than the remaining wt add the box and update the max units\n",
    "            cur_wt+=boxTypes[i][0]\n",
    "            max_units+=boxTypes[i][0]*boxTypes[i][1]\n",
    "        else:                                   # if box wt greater than remaining wt add fractional box and update max units\n",
    "            cur_wt+=wt_rem\n",
    "            max_units+=wt_rem*boxTypes[i][1]\n",
    "        wt_rem=truckSize-cur_wt\n",
    "boxTypes = [[5,10],[2,5],[4,7],[3,9]]\n",
    "truckSize = 10\n",
    "maximumUnits(boxTypes,truckSize)"
   ]
  },
  {
   "cell_type": "markdown",
   "metadata": {},
   "source": [
    "## 3. Job Sequencing"
   ]
  },
  {
   "cell_type": "code",
   "execution_count": 39,
   "metadata": {},
   "outputs": [
    {
     "data": {
      "text/plain": [
       "(2, 60)"
      ]
     },
     "execution_count": 39,
     "metadata": {},
     "output_type": "execute_result"
    }
   ],
   "source": [
    "# Given a set of n jobs where each jobi has a deadline and profit associated with it.\n",
    "# Each job takes 1 unit of time to complete and only one job can be scheduled at a time\n",
    "# Find the number of jobs done and the maximum profit. Deadline of the job is the time on or before which job needs to be completed to earn the profit.\n",
    "\n",
    "def jobScheduling(jobs):\n",
    "    jobs.sort(key=lambda x: x[2],reverse=True)\n",
    "    cnt=0\n",
    "    max_profit=0\n",
    "    max_deadline=0\n",
    "    for i in range(len(jobs)):\n",
    "        if jobs[i][1]>=max_deadline:\n",
    "            max_deadline=jobs[i][1]\n",
    "    job_schedule=[-1]*(max_deadline+1)\n",
    "    for i in range(len(jobs)):\n",
    "        for j in range(jobs[i][1],0,-1):\n",
    "            if job_schedule[j]==-1:\n",
    "                job_schedule[j]=jobs[i]\n",
    "                cnt+=1\n",
    "                max_profit+=jobs[i][2]\n",
    "                break\n",
    "    return cnt,max_profit\n",
    "\n",
    "jobs = [[1,4,20],[2,1,1],[3,1,40],[4,1,30]]\n",
    "jobScheduling(jobs)\n"
   ]
  }
 ],
 "metadata": {
  "kernelspec": {
   "display_name": "Python 3",
   "language": "python",
   "name": "python3"
  },
  "language_info": {
   "codemirror_mode": {
    "name": "ipython",
    "version": 3
   },
   "file_extension": ".py",
   "mimetype": "text/x-python",
   "name": "python",
   "nbconvert_exporter": "python",
   "pygments_lexer": "ipython3",
   "version": "3.12.3"
  }
 },
 "nbformat": 4,
 "nbformat_minor": 2
}
