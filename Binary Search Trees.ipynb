{
 "cells": [
  {
   "cell_type": "markdown",
   "metadata": {},
   "source": [
    "# Binary Seacrch Trees"
   ]
  },
  {
   "cell_type": "code",
   "execution_count": null,
   "metadata": {},
   "outputs": [],
   "source": [
    "# Search an element in BST\n",
    "\n",
    "def searchBST(self, root: Optional[TreeNode], val: int) -> Optional[TreeNode]:\n",
    "    while root:\n",
    "        if root.val==val:\n",
    "            return root\n",
    "        if root.val>val:\n",
    "            root=root.left\n",
    "        else:\n",
    "            root=root.right\n",
    "    return None"
   ]
  },
  {
   "cell_type": "code",
   "execution_count": null,
   "metadata": {},
   "outputs": [],
   "source": [
    "# Find Ceil/Floor in BST for a given key\n",
    "\n",
    "def findCeil(root,key):\n",
    "    ans=-1\n",
    "    while root:\n",
    "        if root.val>=key:\n",
    "            ans=root.val\n",
    "            root=root.left\n",
    "        else:\n",
    "            root=root.right\n",
    "    return ans\n",
    "\n",
    "def findFloor(root,key):\n",
    "    ans=-1\n",
    "    while root:\n",
    "        if root.val<=key:\n",
    "            ans=root.val\n",
    "            root=root.right\n",
    "        else:\n",
    "            root=root.left\n",
    "    return ans"
   ]
  },
  {
   "cell_type": "code",
   "execution_count": null,
   "metadata": {},
   "outputs": [],
   "source": [
    "# Insert a Node in BST \n",
    "\n",
    "class TreeNode:\n",
    "    def __init__(self, val=0, left=None, right=None):\n",
    "        self.val = val\n",
    "        self.left = left\n",
    "        self.right = right\n",
    "\n",
    "def insertIntoBST(self, root: Optional[TreeNode], val: int) -> Optional[TreeNode]:\n",
    "    if not root:\n",
    "        return TreeNode(val)\n",
    "    ans=curr=root\n",
    "    while curr:\n",
    "        ans=curr\n",
    "        if curr.val>val:\n",
    "            curr=curr.left\n",
    "        else:\n",
    "            curr=curr.right\n",
    "    dummy=TreeNode(val)\n",
    "    if ans.val>dummy.val:\n",
    "        ans.left=dummy\n",
    "    else:\n",
    "        ans.right=dummy\n",
    "    return root"
   ]
  },
  {
   "cell_type": "code",
   "execution_count": null,
   "metadata": {},
   "outputs": [],
   "source": [
    "# Find K-th smallest element in BST\n",
    "# using property of BST i.e Left<Root<Right we use inorder traversal to find kth smallest element\n",
    "# for k-th largest element we use reverse inorder traversal i.e Right Root Left\n",
    "\n",
    "def kthSmallest(self, root: Optional[TreeNode], k: int) -> int:\n",
    "    k_smallest=[0]\n",
    "    def inorder(root,counter,k,k_smallest):\n",
    "        if not root or counter[0]>=k:\n",
    "            return\n",
    "        inorder(root.left,counter,k,k_smallest)\n",
    "        counter[0]+=1\n",
    "        if counter[0]==k:\n",
    "            k_smallest[0]=root.val\n",
    "            return\n",
    "        inorder(root.right,counter,k,k_smallest)\n",
    "    inorder(root,[0],k,k_smallest)\n",
    "    return k_smallest[0]"
   ]
  },
  {
   "cell_type": "code",
   "execution_count": null,
   "metadata": {},
   "outputs": [],
   "source": [
    "# Check if a tree is BST or not\n",
    "# every node has a given range of values it can take eg for root node it can take any value from -inf to +inf\n",
    "# for left child of root node it can take any value from -inf to root.val\n",
    "# for right child of root node it can take any value from root.val to +inf\n",
    "\n",
    "def isValidBST(self, root: Optional[TreeNode]) -> bool:\n",
    "    def preorder(root,l,r):\n",
    "        if not root:\n",
    "            return True\n",
    "        if root.val<=l or root.val>=r:\n",
    "            return False\n",
    "        return preorder(root.left,l,root.val) and preorder(root.right,root.val,r)\n",
    "    return preorder(root,float('-inf'),float('inf'))"
   ]
  }
 ],
 "metadata": {
  "kernelspec": {
   "display_name": "Python 3",
   "language": "python",
   "name": "python3"
  },
  "language_info": {
   "name": "python",
   "version": "3.12.3"
  }
 },
 "nbformat": 4,
 "nbformat_minor": 2
}
