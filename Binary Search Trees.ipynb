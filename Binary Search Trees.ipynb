{
 "cells": [
  {
   "cell_type": "markdown",
   "metadata": {},
   "source": [
    "# Binary Seacrch Trees"
   ]
  },
  {
   "cell_type": "code",
   "execution_count": null,
   "metadata": {},
   "outputs": [],
   "source": [
    "# Search an element in BST\n",
    "\n",
    "def searchBST(self, root: Optional[TreeNode], val: int) -> Optional[TreeNode]:\n",
    "    while root:\n",
    "        if root.val==val:\n",
    "            return root\n",
    "        if root.val>val:\n",
    "            root=root.left\n",
    "        else:\n",
    "            root=root.right\n",
    "    return None"
   ]
  },
  {
   "cell_type": "code",
   "execution_count": null,
   "metadata": {},
   "outputs": [],
   "source": [
    "# Find Ceil/Floor in BST for a given key\n",
    "\n",
    "def findCeil(root,key):\n",
    "    ans=-1\n",
    "    while root:\n",
    "        if root.val>=key:\n",
    "            ans=root.val\n",
    "            root=root.left\n",
    "        else:\n",
    "            root=root.right\n",
    "    return ans\n",
    "\n",
    "def findFloor(root,key):\n",
    "    ans=-1\n",
    "    while root:\n",
    "        if root.val<=key:\n",
    "            ans=root.val\n",
    "            root=root.right\n",
    "        else:\n",
    "            root=root.left\n",
    "    return ans"
   ]
  },
  {
   "cell_type": "code",
   "execution_count": null,
   "metadata": {},
   "outputs": [],
   "source": [
    "# Insert a Node in BST \n",
    "\n",
    "class TreeNode:\n",
    "    def __init__(self, val=0, left=None, right=None):\n",
    "        self.val = val\n",
    "        self.left = left\n",
    "        self.right = right\n",
    "\n",
    "def insertIntoBST(self, root: Optional[TreeNode], val: int) -> Optional[TreeNode]:\n",
    "    if not root:\n",
    "        return TreeNode(val)\n",
    "    ans=curr=root\n",
    "    while curr:\n",
    "        ans=curr\n",
    "        if curr.val>val:\n",
    "            curr=curr.left\n",
    "        else:\n",
    "            curr=curr.right\n",
    "    dummy=TreeNode(val)\n",
    "    if ans.val>dummy.val:\n",
    "        ans.left=dummy\n",
    "    else:\n",
    "        ans.right=dummy\n",
    "    return root"
   ]
  }
 ],
 "metadata": {
  "kernelspec": {
   "display_name": "Python 3",
   "language": "python",
   "name": "python3"
  },
  "language_info": {
   "name": "python",
   "version": "3.12.3"
  }
 },
 "nbformat": 4,
 "nbformat_minor": 2
}
