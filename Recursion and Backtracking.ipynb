{
 "cells": [
  {
   "cell_type": "markdown",
   "metadata": {},
   "source": [
    "# Recursion"
   ]
  },
  {
   "cell_type": "code",
   "execution_count": 5,
   "metadata": {},
   "outputs": [
    {
     "name": "stdout",
     "output_type": "stream",
     "text": [
      "1 2 3 4 5 "
     ]
    }
   ],
   "source": [
    "# print numbers from 1 to n in inccreasing order\n",
    "def inc(n):\n",
    "    if n==1:\n",
    "        print(n,end=' ')\n",
    "        return\n",
    "    inc(n-1)\n",
    "    print(n,end=' ')\n",
    "inc(5)"
   ]
  },
  {
   "cell_type": "code",
   "execution_count": 2,
   "metadata": {},
   "outputs": [
    {
     "data": {
      "text/plain": [
       "3"
      ]
     },
     "execution_count": 2,
     "metadata": {},
     "output_type": "execute_result"
    }
   ],
   "source": [
    "# print nth fibonacci number\n",
    "def fib(n):\n",
    "    if n==0 or n==1:\n",
    "        return n\n",
    "    temp1=fib(n-1)\n",
    "    temp2=fib(n-2)\n",
    "    return temp1+temp2\n",
    "fib(4)"
   ]
  },
  {
   "cell_type": "code",
   "execution_count": 14,
   "metadata": {},
   "outputs": [
    {
     "name": "stdout",
     "output_type": "stream",
     "text": [
      "128\n"
     ]
    }
   ],
   "source": [
    "# print a to the power n using recursion\n",
    "def pow(a,n):\n",
    "    if n==1:\n",
    "        return a\n",
    "    temp1=pow(a,n//2)\n",
    "    if n%2==0:\n",
    "        return temp1*temp1\n",
    "    else:\n",
    "        return temp1*temp1*a\n",
    "\n",
    "def power(a,n):\n",
    "    if n<0:\n",
    "        print(1/pow(a,abs(n)))\n",
    "    else:\n",
    "        print(pow(a,n))\n",
    "power(2,7)\n"
   ]
  },
  {
   "cell_type": "code",
   "execution_count": 1,
   "metadata": {},
   "outputs": [
    {
     "name": "stdout",
     "output_type": "stream",
     "text": [
      "True\n"
     ]
    }
   ],
   "source": [
    "# check if a string is palindrome or not \n",
    "def palindrome(s,start,end):\n",
    "    if start>=end:\n",
    "        return True\n",
    "    if s[start]==s[end]:\n",
    "        start+=1\n",
    "        end-=1\n",
    "        return palindrome(s, start, end)\n",
    "    else:\n",
    "        return False\n",
    "s='MALAYALAM'\n",
    "print(palindrome(s,0,len(s)-1))"
   ]
  },
  {
   "cell_type": "code",
   "execution_count": 6,
   "metadata": {},
   "outputs": [
    {
     "name": "stdout",
     "output_type": "stream",
     "text": [
      "89\n"
     ]
    }
   ],
   "source": [
    "# number of ways to reach the nth stair - can climb 1 or 2 stairs at a time\n",
    "# f(n)={f(n-1)+1}+{f(n-2)+2}\n",
    "def stairs(n):\n",
    "    if n==1 or n==2:\n",
    "        return n\n",
    "    temp1=stairs(n-1)\n",
    "    temp2=stairs(n-2)\n",
    "    return temp1+temp2\n",
    "print(stairs(10))"
   ]
  },
  {
   "cell_type": "code",
   "execution_count": 7,
   "metadata": {},
   "outputs": [
    {
     "name": "stdout",
     "output_type": "stream",
     "text": [
      "[6, 5, 4, 3, 2, 1]\n"
     ]
    }
   ],
   "source": [
    "# reverse an array\n",
    "def reverse(arr,start,end):\n",
    "    if start>=end:\n",
    "        return arr\n",
    "    arr[start],arr[end]=arr[end],arr[start]\n",
    "    start+=1\n",
    "    end-=1\n",
    "    return reverse(arr,start,end)\n",
    "arr=[1,2,3,4,5,6]\n",
    "print(reverse(arr,0,len(arr)-1))"
   ]
  },
  {
   "cell_type": "code",
   "execution_count": 22,
   "metadata": {},
   "outputs": [
    {
     "name": "stdout",
     "output_type": "stream",
     "text": [
      "abc ab ac a bc b c  "
     ]
    }
   ],
   "source": [
    "# all possible subsequences\n",
    "def subsequence(s,ans,index):\n",
    "    if len(s)==index:\n",
    "        print(ans,end=' ')\n",
    "        return\n",
    "    # include i\n",
    "    subsequence(s,ans+s[index],index+1)\n",
    "    # not include i\n",
    "    subsequence(s,ans,index+1)\n",
    "    return \n",
    "s='abc'\n",
    "ans=''\n",
    "index=0\n",
    "subsequence(s,ans,index)"
   ]
  },
  {
   "cell_type": "code",
   "execution_count": 23,
   "metadata": {},
   "outputs": [
    {
     "name": "stdout",
     "output_type": "stream",
     "text": [
      "[1, 2, 3]\n",
      "[1, 2]\n",
      "[1, 3]\n",
      "[1]\n",
      "[2, 3]\n",
      "[2]\n",
      "[3]\n",
      "[]\n"
     ]
    }
   ],
   "source": [
    "# all possible subsets\n",
    "def subset(arr,sub,index):\n",
    "    if index==len(arr):\n",
    "        print(sub)\n",
    "        return \n",
    "    # include i\n",
    "    sub.append(arr[index])\n",
    "    subset(arr,sub,index+1)\n",
    "    # not include i\n",
    "    sub.pop()\n",
    "    subset(arr,sub,index+1)\n",
    "    return \n",
    "arr=[1,2,3]\n",
    "sub=[]\n",
    "subset(arr,sub,0)\n"
   ]
  },
  {
   "cell_type": "code",
   "execution_count": null,
   "metadata": {},
   "outputs": [
    {
     "name": "stdout",
     "output_type": "stream",
     "text": [
      "True\n"
     ]
    }
   ],
   "source": [
    "# Check if a susbset sum is equal to target\n",
    "def subsetSum(arr, tempSum, ind, target):\n",
    "    if tempSum == target:  # Check if target is met first\n",
    "        return True\n",
    "    if ind >= len(arr) or tempSum > target:  # Then check for bounds or excess\n",
    "        return False\n",
    "    include = subsetSum(arr, tempSum + arr[ind], ind + 1, target)\n",
    "    exclude = subsetSum(arr, tempSum, ind + 1, target)\n",
    "    return include or exclude\n",
    "\n",
    "print(subsetSum([1, 2, 3], 0, 0, 5)) "
   ]
  },
  {
   "cell_type": "code",
   "execution_count": 17,
   "metadata": {},
   "outputs": [
    {
     "name": "stdout",
     "output_type": "stream",
     "text": [
      "3\n"
     ]
    }
   ],
   "source": [
    "# number of subsets with a given sum\n",
    "def subsetSum(arr,tempSum,index,target,cnt):\n",
    "    if tempSum==target:\n",
    "        cnt[0]+=1\n",
    "        return \n",
    "    if index>=len(arr):\n",
    "        return\n",
    "    # include index\n",
    "    temp1=subsetSum(arr,tempSum+arr[index],index+1,target,cnt)\n",
    "    # dont include index\n",
    "    temp2=subsetSum(arr, tempSum, index + 1, target,cnt)\n",
    "    return temp1 or temp2\n",
    "arr=[5, 2, 3, 10, 6, 8]\n",
    "target = 10\n",
    "tempSum=0\n",
    "index=0\n",
    "cnt=[0]\n",
    "subsetSum(arr,tempSum,index,target,cnt)\n",
    "print(cnt[0])"
   ]
  },
  {
   "cell_type": "code",
   "execution_count": 13,
   "metadata": {},
   "outputs": [
    {
     "name": "stdout",
     "output_type": "stream",
     "text": [
      "[[1, 2, 3], [1, 3, 2], [2, 1, 3], [2, 3, 1], [3, 2, 1], [3, 1, 2]]\n"
     ]
    }
   ],
   "source": [
    "# generate all possible permutations\n",
    "# swap and index or not\n",
    "ans=[]\n",
    "def permute(arr,index):\n",
    "    if index==len(arr):\n",
    "        ans.append(arr[:]) # create copy of arr to store in ans\n",
    "        return \n",
    "    for j in range(index,len(arr)):\n",
    "        # swap with the next index\n",
    "        arr[index],arr[j]=arr[j],arr[index]\n",
    "        permute(arr,index+1)\n",
    "        # return to original state of array\n",
    "        arr[index], arr[j] = arr[j], arr[index]\n",
    "    return\n",
    "arr=[1,2,3]\n",
    "permute(arr,0)\n",
    "print(ans)"
   ]
  },
  {
   "cell_type": "code",
   "execution_count": 29,
   "metadata": {},
   "outputs": [
    {
     "name": "stdout",
     "output_type": "stream",
     "text": [
      "['ad', 'ae', 'af', 'bd', 'be', 'bf', 'cd', 'ce', 'cf']\n"
     ]
    }
   ],
   "source": [
    "# https://assets.leetcode.com/uploads/2022/03/15/1200px-telephone-keypad2svg.png\n",
    "# generate all possible words from the given phone digits\n",
    "map=['','','abc','def','ghi','jkl','mno','pqrs','tuv','wxyz']\n",
    "ans=[]\n",
    "def word(arr,temp,index):\n",
    "    if index==len(arr):\n",
    "        ans.append(temp)\n",
    "        return\n",
    "    chars=map[arr[index]] # get the characters at the specified number\n",
    "    for j in range(0,len(chars)):\n",
    "        word(arr,temp+chars[j],index+1)  # add each character of each number to temp\n",
    "    return\n",
    "digits=[2,3]\n",
    "word(digits,'',0)\n",
    "print(ans)"
   ]
  },
  {
   "cell_type": "code",
   "execution_count": 27,
   "metadata": {},
   "outputs": [
    {
     "name": "stdout",
     "output_type": "stream",
     "text": [
      "['100', '101', '000', '001', '010']\n"
     ]
    }
   ],
   "source": [
    "# generate all possible n length binary string without consectutive ones\n",
    "def noConsOnes(n):\n",
    "    ans = []\n",
    "    def binary(n, temp, index):\n",
    "        if index == n:\n",
    "            ans.append(\"\".join(temp))\n",
    "            return\n",
    "        if temp[-1] == '1':\n",
    "            temp.append('0')\n",
    "            binary(n, temp, index + 1)\n",
    "            temp.pop()  # Backtrack\n",
    "        else:  # temp[-1] == '0'\n",
    "            temp.append('0')\n",
    "            binary(n, temp, index + 1)\n",
    "            temp.pop()  # Backtrack\n",
    "            temp.append('1')\n",
    "            binary(n, temp, index + 1)\n",
    "            temp.pop()  # Backtrack\n",
    "    # Start with both possible initial digits\n",
    "    binary(n, ['1'], 1)\n",
    "    binary(n, ['0'], 1)\n",
    "    return ans\n",
    "print(noConsOnes(3))"
   ]
  },
  {
   "cell_type": "markdown",
   "metadata": {},
   "source": [
    "# Backtracking"
   ]
  },
  {
   "cell_type": "code",
   "execution_count": null,
   "metadata": {},
   "outputs": [
    {
     "name": "stdout",
     "output_type": "stream",
     "text": [
      "[[2, 2, 3], [7]]\n"
     ]
    }
   ],
   "source": [
    "# Combination Sum I\n",
    "# print all possible sets whose sum equals to target. You may choose a given element unlimited number of times\n",
    "# Backtracking Condition - if currSum> target--> backtrack\n",
    "# Recursion Condition - if index==len(arr) --> return \n",
    "ans=[]\n",
    "def targetSum(arr,temp,index,target,currSum):\n",
    "    # bounding condition \n",
    "    if currSum>target:\n",
    "        return\n",
    "    # base condition\n",
    "    if index==len(arr):\n",
    "        if currSum==target:\n",
    "            ans.append(temp[:])\n",
    "        return\n",
    "    # inclusion \n",
    "    currSum+=arr[index]\n",
    "    temp.append(arr[index])\n",
    "    targetSum(arr,temp,index,target,currSum)  # not index+1 as we can choose a given index unlimited number of times\n",
    "    # exclusion\n",
    "    currSum-=arr[index]\n",
    "    temp.pop()\n",
    "    targetSum(arr,temp,index+1,target,currSum)\n",
    "arr=[2,3,6,7]\n",
    "target=7\n",
    "targetSum(arr,[],0,target,0)\n",
    "print(ans)"
   ]
  },
  {
   "cell_type": "code",
   "execution_count": 18,
   "metadata": {},
   "outputs": [
    {
     "name": "stdout",
     "output_type": "stream",
     "text": [
      "{(1, 7), (1, 1, 6), (1, 2, 5), (2, 6)}\n"
     ]
    }
   ],
   "source": [
    "# Combination Sum 2\n",
    "# print all possible sets whose sum equals to target. you can use an element at most once.\n",
    "# no duplicate answers\n",
    "ans=set()\n",
    "def targetSum(arr,temp,index,target,currSum):\n",
    "    # bounding condition \n",
    "    if currSum>target:\n",
    "        return\n",
    "    # base condition\n",
    "    if index==len(arr):\n",
    "        if currSum==target:\n",
    "            tp=tuple(sorted(temp))\n",
    "            if tp not in ans:\n",
    "                ans.add(tp)\n",
    "        return\n",
    "    # inclusion \n",
    "    currSum+=arr[index]\n",
    "    temp.append(arr[index])\n",
    "    targetSum(arr,temp,index+1,target,currSum)  # index+1 as we can choose a given index at most once\n",
    "    # exclusion\n",
    "    currSum-=arr[index]\n",
    "    temp.pop()\n",
    "    targetSum(arr,temp,index+1,target,currSum)\n",
    "arr=[10,1,2,7,6,1,5]\n",
    "target=8\n",
    "targetSum(arr,[],0,target,0)\n",
    "print(ans)"
   ]
  },
  {
   "cell_type": "code",
   "execution_count": null,
   "metadata": {},
   "outputs": [
    {
     "name": "stdout",
     "output_type": "stream",
     "text": [
      "[[2, 4, 1, 3], [3, 1, 4, 2]]\n"
     ]
    }
   ],
   "source": [
    "# N-Queen Problem\n",
    "# arrange n queens on a nxn chessboard such that no two queens can attack each other\n",
    "\n",
    "ans = []\n",
    "# Bounding condition\n",
    "def isSafe(board, n, r, c):\n",
    "    for i in range(r):  # Check column up to the current row\n",
    "        if board[i][c] == 1:\n",
    "            return False\n",
    "    for i, j in zip(range(r - 1, -1, -1), range(c - 1, -1, -1)):  # Check upper-left diagonal\n",
    "        if board[i][j] == 1:\n",
    "            return False\n",
    "    for i, j in zip(range(r - 1, -1, -1), range(c + 1, n)):  # Check upper-right diagonal\n",
    "        if board[i][j] == 1:\n",
    "            return False\n",
    "    return True\n",
    "\n",
    "def arrangeQueens(n, board, r, temp):\n",
    "    # Base case\n",
    "    if r == n:\n",
    "        ans.append(temp[:])  # Add the solution to the result list\n",
    "        return\n",
    "\n",
    "    for i in range(n):\n",
    "        if isSafe(board, n, r, i):\n",
    "            board[r][i] = 1  # Place the queen\n",
    "            temp.append(i + 1)  # Add column (1-based index) to the current solution\n",
    "            arrangeQueens(n, board, r + 1, temp)  # Move to the next row\n",
    "            board[r][i] = 0  # Backtrack\n",
    "            temp.pop()  # Remove the column from the current solution\n",
    "n = 4\n",
    "board = [[0] * n for _ in range(n)]\n",
    "arrangeQueens(n, board, 0, [])\n",
    "print(ans)\n"
   ]
  },
  {
   "cell_type": "code",
   "execution_count": null,
   "metadata": {},
   "outputs": [
    {
     "name": "stdout",
     "output_type": "stream",
     "text": [
      "['DDRDRR', 'DDRDDRR']\n"
     ]
    }
   ],
   "source": [
    "# Rat in Maze Problem \n",
    "# a rat can move up,down,left,right only if the given cell contains '1' .You cannot revisit a cell.\n",
    "# Return all possible ways in which a rat can go from (0,0) to (n-1,n-1) in a nxn maze (return ans in lexographical order)\n",
    "\n",
    "ans=[]\n",
    "\n",
    "def move(maze, visited, n, srcx, scry):\n",
    "    # Check if the move is valid within bounds and conditions\n",
    "    return 0 <= srcx < n and 0 <= scry < n and maze[srcx][scry] == 1 and not visited[srcx][scry]\n",
    "\n",
    "def solveMaze(maze,visited,n,r,c,temp):\n",
    "    if r==n-1 and c==n-1:\n",
    "        ans.append(temp[:])\n",
    "        return \n",
    "    # Mark the cell as visited\n",
    "    visited[r][c]=1\n",
    "    # Explore all possible directions (D, L, R, U)\n",
    "    if move(maze,visited,n,r+1,c):\n",
    "        temp+='D'\n",
    "        solveMaze(maze,visited,n,r+1,c,temp)\n",
    "    if move(maze,visited,n,r,c-1):\n",
    "        temp+='L'\n",
    "        solveMaze(maze,visited,n,r,c-1,temp)\n",
    "    if move(maze,visited,n,r,c+1):\n",
    "        temp+='R'\n",
    "        solveMaze(maze,visited,n,r,c+1,temp)\n",
    "    if move(maze,visited,n,r-1,c):\n",
    "        temp+='U'\n",
    "        solveMaze(maze,visited,n,r-1,c,temp)\n",
    "    # Backtrack: Unmark the cell as visited\n",
    "    visited[r][c]=0\n",
    "maze=[[1, 0, 0, 0], [1, 1, 0, 1], [1, 1, 0, 0], [0, 1, 1, 1]]\n",
    "n=4\n",
    "visited=[[0]*n for i in range(n)]\n",
    "solveMaze(maze,visited,n,0,0,'')\n",
    "print(ans)\n"
   ]
  },
  {
   "cell_type": "code",
   "execution_count": 12,
   "metadata": {},
   "outputs": [
    {
     "name": "stdout",
     "output_type": "stream",
     "text": [
      "[3, 1, 6, 5, 7, 8, 4, 9, 2]\n",
      "[5, 2, 9, 1, 3, 4, 7, 6, 8]\n",
      "[4, 8, 7, 6, 2, 9, 5, 3, 1]\n",
      "[2, 6, 3, 4, 1, 5, 9, 8, 7]\n",
      "[9, 7, 4, 8, 6, 3, 1, 2, 5]\n",
      "[8, 5, 1, 7, 9, 2, 6, 4, 3]\n",
      "[1, 3, 8, 9, 4, 7, 2, 5, 6]\n",
      "[6, 9, 2, 3, 5, 1, 8, 7, 4]\n",
      "[7, 4, 5, 2, 8, 6, 3, 1, 9]\n"
     ]
    }
   ],
   "source": [
    "# Sudoku Solver\n",
    "def solveSudoku(grid):\n",
    "    def check(grid, row, col, num):\n",
    "        # Check if the number is in the current row\n",
    "        for r in range(9):\n",
    "            if grid[r][col]==num:\n",
    "                return False\n",
    "        # Check if the number is in the current column\n",
    "        for c in range(9):\n",
    "            if grid[row][c]==num:\n",
    "                return False\n",
    "        # Check if the number is in the 3x3 subgrid\n",
    "        startRow, startCol = row - row % 3, col - col % 3\n",
    "        for r in range(startRow, startRow + 3):\n",
    "            for c in range(startCol, startCol + 3):\n",
    "                if grid[r][c] == num:\n",
    "                    return False\n",
    "        # Safe to place the number\n",
    "        return True\n",
    "\n",
    "    def solve(grid, row, col):\n",
    "        # If reached the end of the board, Sudoku is solved\n",
    "        if row == 9:\n",
    "            return True\n",
    "        # Move to the next row if end of the current row is reached\n",
    "        if col == 9:\n",
    "            return solve(grid, row + 1, 0)\n",
    "        # Skip filled cells\n",
    "        if grid[row][col] != 0:\n",
    "            return solve(grid, row, col + 1)\n",
    "        # Try placing numbers 1 to 9\n",
    "        for num in range(1, 10):\n",
    "            if check(grid, row, col, num):\n",
    "                grid[row][col] = num\n",
    "                if solve(grid, row, col + 1):\n",
    "                    return True\n",
    "                # Backtrack if placement doesn't lead to a solution\n",
    "                grid[row][col] = 0\n",
    "        return False\n",
    "    return solve(grid, 0, 0)\n",
    "\n",
    "grid = [\n",
    "    [3, 0, 6, 5, 0, 8, 4, 0, 0],\n",
    "    [5, 2, 0, 0, 0, 0, 0, 0, 0],\n",
    "    [0, 8, 7, 0, 0, 0, 0, 3, 1],\n",
    "    [0, 0, 3, 0, 1, 0, 0, 8, 0],\n",
    "    [9, 0, 0, 8, 6, 3, 0, 0, 5],\n",
    "    [0, 5, 0, 0, 9, 0, 6, 0, 0],\n",
    "    [1, 3, 0, 0, 0, 0, 2, 5, 0],\n",
    "    [0, 0, 0, 0, 0, 0, 0, 7, 4],\n",
    "    [0, 0, 5, 2, 0, 6, 3, 0, 0]]\n",
    "solveSudoku(grid)\n",
    "for row in grid:\n",
    "    print(row)\n"
   ]
  }
 ],
 "metadata": {
  "kernelspec": {
   "display_name": "Python 3",
   "language": "python",
   "name": "python3"
  },
  "language_info": {
   "codemirror_mode": {
    "name": "ipython",
    "version": 3
   },
   "file_extension": ".py",
   "mimetype": "text/x-python",
   "name": "python",
   "nbconvert_exporter": "python",
   "pygments_lexer": "ipython3",
   "version": "3.12.3"
  }
 },
 "nbformat": 4,
 "nbformat_minor": 2
}
