{
 "cells": [
  {
   "cell_type": "code",
   "execution_count": 7,
   "metadata": {},
   "outputs": [
    {
     "name": "stdout",
     "output_type": "stream",
     "text": [
      "[2, 8, 13, 21, 28, 29]\n",
      "[0, 2, 8, 13, 21, 28, 29]\n"
     ]
    }
   ],
   "source": [
    "# Prefix Array \n",
    "# an array that of same length as the original array, such that Pr[i] contains sum from A[0] to A[i]\n",
    "# eg : A = { 2 , 6 , 5 , 8 , 7 , 1 } so Pr= { 2 , 8 , 13 , 21 , 28 , 29 }\n",
    "# Advantages :  if you are asked repeatedly to find the sum of first K elements of the array A (note : K may vary from 0 to N-1 ) then it may take lot of time.\n",
    "#  But if we construct prefix array of the given array then we can answer the query in O( 1 ) time by just printing PA[ K − 1 ].\n",
    "#  suppose you are asked to calculate the sum of elements of array A from index L to index R ( L ≤ R) \n",
    "# We can answer the query in O( 1 ) time by just printing, PA[ R ] − PA[ L − 1 ]\n",
    "a=[2,6,5,8,7,1]\n",
    "# for 0 based indexing\n",
    "pr=[a[0]]\n",
    "for i in range(1,len(a)):\n",
    "    pr.append(pr[-1]+a[i])\n",
    "print(pr)\n",
    "# for 1 based indexing\n",
    "pr=[0]\n",
    "for i in a:\n",
    "    pr.append(pr[-1]+i)\n",
    "print(pr)\n"
   ]
  },
  {
   "cell_type": "code",
   "execution_count": null,
   "metadata": {},
   "outputs": [],
   "source": [
    "# How to traverse all possible leading diagonals in a matrix\n",
    "def diagonal(matrix,n):\n",
    "    # traverse the lower diagonals\n",
    "    for i in range(n):\n",
    "        for j in range(n - i):\n",
    "            print(matrix[i+j][j])\n",
    "    # traverse the upper diagonals\n",
    "    for j in range(1, n):\n",
    "        for i in range(n - j):\n",
    "            print(matrix[i][i + j])"
   ]
  },
  {
   "cell_type": "code",
   "execution_count": null,
   "metadata": {},
   "outputs": [],
   "source": [
    "# Return the largest odd number in a string\n",
    "\n",
    "def largest_odd(s):\n",
    "    for i in reversed(range(len(s))):\n",
    "        if int(s[i])%2!=0:\n",
    "            return s[:i+1]\n",
    "          \n",
    "s=input()\n",
    "print(largest_odd(s))"
   ]
  },
  {
   "cell_type": "code",
   "execution_count": null,
   "metadata": {},
   "outputs": [],
   "source": [
    "# Reverse each word in the string\n",
    "\n",
    "# Note: strs[::-1] reverses a string\n",
    "\n",
    "def reverse_words(s):\n",
    "    reverse=[]\n",
    "    for i in reversed(range(len(s))):\n",
    "        reverse.append(s[i])\n",
    "    return reverse\n",
    "        \n",
    "s=list(input().split())\n",
    "print(reverse_words(s))\n"
   ]
  },
  {
   "cell_type": "code",
   "execution_count": null,
   "metadata": {},
   "outputs": [],
   "source": [
    "# Longest Common Prefix\n",
    "\n",
    "# Note: when you apply sort function on a list of strings, they are sorted by simultaneously comparing each element\n",
    "# eg. flower>flight as in both strings fl is common but o > i.\n",
    "\n",
    "def common_prefix(strs):\n",
    "    strs=sorted(strs)\n",
    "    k=0\n",
    "    cp=\"\"\n",
    "    while k<len(strs[0]) and k<len(strs[-1]):\n",
    "        if strs[0][k]==strs[-1][k]:\n",
    "            cp+=strs[0][k]\n",
    "            k+=1\n",
    "        else:\n",
    "            return cp\n",
    "            \n",
    "\n",
    "strs=list(input().split())\n",
    "print(common_prefix(strs))"
   ]
  },
  {
   "cell_type": "code",
   "execution_count": null,
   "metadata": {},
   "outputs": [],
   "source": [
    "# check if one string can be converted to another after a certain amount of rotations\n",
    "\n",
    "def rotation(s,goal):\n",
    "    if len(s)!=len(goal):\n",
    "        return False\n",
    "    for i in range(len(s)):\n",
    "        rotated=s[i:]+s[:i]\n",
    "        if goal==rotated:\n",
    "            return True\n",
    "    return False\n",
    "s,goal=input().split(' ')\n",
    "print(rotation(s,goal))"
   ]
  },
  {
   "cell_type": "code",
   "execution_count": null,
   "metadata": {},
   "outputs": [],
   "source": [
    "# return a string sorted in descending order of frequency of element\n",
    "\n",
    "from collections import Counter\n",
    "def sort(s):\n",
    "    lst=[letter*count for letter ,count in Counter(s).most_common()]\n",
    "    return ''.join(lst)\n",
    "\n",
    "s=input()\n",
    "sort(s)"
   ]
  },
  {
   "cell_type": "code",
   "execution_count": null,
   "metadata": {},
   "outputs": [],
   "source": [
    "# Convert a roman number to integer\n",
    "\n",
    "roman_to_int={'I':1,'V':5,'X':10,'L':50,'C':100,'D':500,'M':1000}\n",
    "num=input()\n",
    "index=0\n",
    "sum=0\n",
    "for index in range(len(num)):\n",
    "    if index<len(num)-1 and roman_to_int[num[index]]<roman_to_int[num[index+1]]:\n",
    "        sum-=roman_to_int[num[index]]\n",
    "    else:\n",
    "        sum+=roman_to_int[num[index]]\n",
    "print(sum)\n"
   ]
  },
  {
   "cell_type": "code",
   "execution_count": null,
   "metadata": {},
   "outputs": [],
   "source": [
    "# Return the sum of beauties of all possible substrings of a given string\n",
    "# beauty of a string is difference between the frequency of its most frequent and least frequent character\n",
    "\n",
    "def beauty (s):\n",
    "    freq={}\n",
    "    for char in s:\n",
    "        if char in freq:\n",
    "            freq[char]+=1\n",
    "        else:\n",
    "            freq[char]=1\n",
    "    lst=sorted(list(freq.values()),reverse=True)\n",
    "    return lst[0]-lst[-1]\n",
    "\n",
    "def return_beauty(strs):\n",
    "    lst=[]\n",
    "    for i in range(len(strs)):\n",
    "        for j in range(i+1,len(strs)+1):\n",
    "            lst.append(beauty(strs[i:j]))\n",
    "    return sum(lst)\n",
    "\n",
    "strs=input()\n",
    "print(return_beauty(strs))"
   ]
  },
  {
   "cell_type": "code",
   "execution_count": null,
   "metadata": {},
   "outputs": [],
   "source": [
    "#Is Subsequence\n",
    "# Given two strings s and t, return true if s is a subsequence of t, or false otherwise.\n",
    "# A subsequence of a string is a new string that is formed from the original string by deleting some (can be none)\n",
    "# of the characters without disturbing the relative positions of the remaining characters. \n",
    "# (i.e., \"ace\" is a subsequence of \"abcde\" while \"aec\" is not).\n",
    "\n",
    "s='ab'\n",
    "t='baab'\n",
    "def isSubsequence(s: str, t: str) -> bool:\n",
    "    i,j=0,0\n",
    "    while i<len(s) and j<len(t):\n",
    "        if s[i]==t[j]:\n",
    "            i+=1\n",
    "        j+=1\n",
    "    return i==len(s)\n",
    "isSubsequence(s,t)"
   ]
  },
  {
   "cell_type": "code",
   "execution_count": null,
   "metadata": {},
   "outputs": [],
   "source": [
    "# Given an integer array nums, return an array answer such that answer[i] is equal to the product of all the elements of nums except nums[i].\n",
    "# The product of any prefix or suffix of nums is guaranteed to fit in a 32-bit integer.\n",
    "# You must write an algorithm that runs in O(n) time and without using the division operation.\n",
    "\n",
    "class Solution:\n",
    "    def productExceptSelf(nums):\n",
    "        l_mult = 1\n",
    "        r_mult = 1\n",
    "        n = len(nums)\n",
    "        l_arr = [0] * n\n",
    "        r_arr = [0] * n\n",
    "        \n",
    "        for i in range(n): \n",
    "            j = -i -1\n",
    "            l_arr[i] = l_mult\n",
    "            r_arr[j] = r_mult\n",
    "            l_mult *= nums[i]\n",
    "            r_mult *= nums[j]\n",
    "\n",
    "        return [l*r for l, r in zip(l_arr, r_arr)]"
   ]
  },
  {
   "cell_type": "code",
   "execution_count": null,
   "metadata": {},
   "outputs": [],
   "source": [
    "# You are given an array prices where prices[i] is the price of a given stock on the ith day.\n",
    "# You want to maximize your profit by choosing a single day to buy one stock and choosing a different day in the future to sell that stock.\n",
    "# Return the maximum profit you can achieve from this transaction. If you cannot achieve any profit, return 0.\n",
    "\n",
    "class Solution:\n",
    "    def maxProfit(prices):\n",
    "        max_profit = 0\n",
    "        profit = 0\n",
    "        mini = float('inf')\n",
    "        for i in prices:\n",
    "            if i<mini:\n",
    "                mini = i\n",
    "            elif i>mini:\n",
    "                profit = i-mini\n",
    "            max_profit = max(max_profit,profit)\n",
    "        return max_profit\n",
    "\n",
    "        "
   ]
  },
  {
   "cell_type": "code",
   "execution_count": null,
   "metadata": {},
   "outputs": [],
   "source": [
    "# the extend method of a list can be used to flatten a 2d list into a 1d list.\n",
    "# O(k) time complexity where k is the no. of elements in initial list\n",
    "# note: it converts a 3d list into a 2d list\n",
    "\n",
    "mat=[[1,2,3],[4,5,6],[7,8,9]]\n",
    "res=[]\n",
    "for i in mat:\n",
    "    res.extend(i)\n",
    "res"
   ]
  },
  {
   "cell_type": "code",
   "execution_count": null,
   "metadata": {},
   "outputs": [],
   "source": [
    "# Spiral Traversal of 2D Matrix\n",
    "\n",
    "def spiral(mat,k,left,right,top,bot):\n",
    "    while top<=bot and left<=right: # go on till top<=bottom and left<=right\n",
    "        for i in range(left,right+1): # traverse left to right\n",
    "            mat[top][i]=k\n",
    "            k+=1\n",
    "        top+=1\n",
    "        for i in range(top,bot+1):# traverse top to bottom\n",
    "            mat[i][right]=k\n",
    "            k+=1\n",
    "        right-=1\n",
    "        if top<=bot: # check if top<=bottom is valid checks if we have to traverse right to left\n",
    "            for i in range(right,left-1,-1):\n",
    "                mat[bot][i]=k\n",
    "                k+=1\n",
    "            bot-=1\n",
    "        if left<=right: # check if left<=right condition is valid checks if we have to traverse top to bottom\n",
    "            for i in range(bot,top-1,-1):\n",
    "                mat[i][left]=k\n",
    "                k+=1\n",
    "            left+=1\n",
    "    return mat\n",
    "\n",
    "n,m=list(map(int,input().split()))\n",
    "mat=[[0]*m for i in range(n)]\n",
    "k=1\n",
    "left,top=0,0\n",
    "right,bot=m-1,n-1\n",
    "mat=spiral(mat,k,left,right,top,bot)\n",
    "for row in mat:\n",
    "    print(row)"
   ]
  },
  {
   "cell_type": "code",
   "execution_count": 1,
   "metadata": {},
   "outputs": [
    {
     "name": "stdout",
     "output_type": "stream",
     "text": [
      "[0, 0, 1, 2, 4, 5, 9, 3, 8, 6, 7]\n"
     ]
    }
   ],
   "source": [
    "# index array - an array in which the ith element contains the position of i in the original array\n",
    "arr=[1,2,3,7,4,5,9,10,8,6]\n",
    "index=[0]*(len(arr)+1)\n",
    "for i in range(len(arr)):\n",
    "    index[arr[i]]=i\n",
    "print(index)"
   ]
  },
  {
   "cell_type": "code",
   "execution_count": null,
   "metadata": {},
   "outputs": [],
   "source": [
    "# Find the Majority Element (>N/2 times) - Moore's Majority Voting Algorithm\n",
    "\n",
    "class Solution:\n",
    "    def majorityElement(self, arr):\n",
    "        # Moore's Majority Voting Algorithm\n",
    "        # O(n) time and O(1) space complexity\n",
    "        n=len(arr)\n",
    "        cnt=0\n",
    "        # when count becomes zero means no majority element in that subarray, so choose a new element\n",
    "        for i in range(n):\n",
    "            if cnt==0:\n",
    "                ele=arr[i]\n",
    "                cnt+=1\n",
    "            else:\n",
    "                if arr[i]==ele:\n",
    "                    cnt+=1\n",
    "                else:\n",
    "                    cnt-=1\n",
    "        return ele"
   ]
  },
  {
   "cell_type": "code",
   "execution_count": 6,
   "metadata": {},
   "outputs": [
    {
     "name": "stdout",
     "output_type": "stream",
     "text": [
      "5\n",
      "8\n"
     ]
    }
   ],
   "source": [
    "A = [5, -2, 3 , 1, 2]\n",
    "B = 3\n",
    "for c in range(1,B):\n",
    "    s=sum(A[:B-c])+sum(A[-c:])\n",
    "    print(s)"
   ]
  },
  {
   "cell_type": "code",
   "execution_count": null,
   "metadata": {},
   "outputs": [],
   "source": []
  }
 ],
 "metadata": {
  "kernelspec": {
   "display_name": "Python 3",
   "language": "python",
   "name": "python3"
  },
  "language_info": {
   "codemirror_mode": {
    "name": "ipython",
    "version": 3
   },
   "file_extension": ".py",
   "mimetype": "text/x-python",
   "name": "python",
   "nbconvert_exporter": "python",
   "pygments_lexer": "ipython3",
   "version": "3.12.3"
  }
 },
 "nbformat": 4,
 "nbformat_minor": 2
}
