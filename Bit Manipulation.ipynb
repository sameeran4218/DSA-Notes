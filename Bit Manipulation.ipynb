{
 "cells": [
  {
   "cell_type": "markdown",
   "metadata": {},
   "source": [
    "# Bit Manipulation"
   ]
  },
  {
   "cell_type": "markdown",
   "metadata": {},
   "source": [
    "## Operators\n",
    "- & and\n",
    "- | or\n",
    "- ^ xor\n",
    "- << >> left shift and right shift\n",
    "- ~ not"
   ]
  },
  {
   "cell_type": "code",
   "execution_count": null,
   "metadata": {},
   "outputs": [],
   "source": [
    "# function to convert a decimal number to representation in any base k  \n",
    "\n",
    "def binary(num,k):\n",
    "    if num==0:\n",
    "        return '0'\n",
    "    rem=''\n",
    "    while num>0:\n",
    "        rem+=str(num%k)\n",
    "        num=num//k\n",
    "    return rem[::-1]\n",
    "binary(13,2)\n",
    "\n",
    "# function to convert representation in any base k to decimal\n",
    "\n",
    "def decimal(nums,k):\n",
    "    nums=str(nums)\n",
    "    p=0\n",
    "    sum=0\n",
    "    for i in reversed(range(len(nums))):\n",
    "        sum+=int(nums[i])*(k**p)\n",
    "        p+=1\n",
    "    return sum\n",
    "decimal(1111,2)"
   ]
  },
  {
   "cell_type": "markdown",
   "metadata": {},
   "source": [
    "## Tricks "
   ]
  },
  {
   "cell_type": "code",
   "execution_count": 24,
   "metadata": {},
   "outputs": [
    {
     "data": {
      "text/plain": [
       "3"
      ]
     },
     "execution_count": 24,
     "metadata": {},
     "output_type": "execute_result"
    }
   ],
   "source": [
    "# swap two no.s without temp variable - XOR operator\n",
    "def swap(a,b):\n",
    "    a=a^b\n",
    "    b=a^b\n",
    "    a=a^b\n",
    "    return a,b\n",
    "swap(5,6)\n",
    "\n",
    "# check if i^th bit is set or not using <<,&\n",
    "def isSet(a,i):\n",
    "    if (a&(1<<i))!=0:\n",
    "        return True\n",
    "    return False\n",
    "isSet(13,2)\n",
    "\n",
    "# check if i^th bit is set or not using >>,&\n",
    "def isSet(a,i):\n",
    "    if (1&(a>>i))!=0:\n",
    "        return True\n",
    "    return False\n",
    "isSet(13,1)\n",
    "\n",
    "# set the i^th bit and keep the rest same\n",
    "def setBit(a,i):\n",
    "    a=a|(1<<i)\n",
    "    return a\n",
    "setBit(9,2)\n",
    "\n",
    "# clear the i^th bit and keep the rest same\n",
    "def clearBit(a,i):\n",
    "    a=a&(~(1<<i))\n",
    "    return a\n",
    "clearBit(13,2)\n",
    "\n",
    "# toggle the i^th bit - make 1-->0 and 0-->1\n",
    "def toggle(a,i):\n",
    "    a=a^(1<<i)\n",
    "    return a\n",
    "toggle(13,1)\n",
    "\n",
    "# remove the last set bit(rightmost) i.e clear it\n",
    "def removeLastSetBit(a):\n",
    "    a=a&(a-1)\n",
    "    return a\n",
    "removeLastSetBit(14)\n",
    "\n",
    "# check if a number is power of 2 or not --- every number which is a power of 2 will only have 1 set bit -- so if we remove the last set bit result is 0\n",
    "def checkPower(a):\n",
    "    if (a&(a-1))==0:\n",
    "        return True\n",
    "    return False\n",
    "checkPower(32)\n",
    "\n",
    "# count number of set bits ---   n%2 => n&1 n&1=1 if odd n&1=0 if even --- n/2 => n>>1\n",
    "def countSetBits(a):\n",
    "    cnt=0\n",
    "    while a>0:\n",
    "        cnt+=a&1   # a%2\n",
    "        a=a>>1    # a/2\n",
    "    return cnt\n",
    "countSetBits(13)"
   ]
  }
 ],
 "metadata": {
  "kernelspec": {
   "display_name": "Python 3",
   "language": "python",
   "name": "python3"
  },
  "language_info": {
   "codemirror_mode": {
    "name": "ipython",
    "version": 3
   },
   "file_extension": ".py",
   "mimetype": "text/x-python",
   "name": "python",
   "nbconvert_exporter": "python",
   "pygments_lexer": "ipython3",
   "version": "3.12.3"
  }
 },
 "nbformat": 4,
 "nbformat_minor": 2
}
