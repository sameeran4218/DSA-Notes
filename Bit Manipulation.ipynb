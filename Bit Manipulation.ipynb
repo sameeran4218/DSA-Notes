{
 "cells": [
  {
   "cell_type": "markdown",
   "metadata": {},
   "source": [
    "# Bit Manipulation"
   ]
  },
  {
   "cell_type": "markdown",
   "metadata": {},
   "source": [
    "## Operators\n",
    "- & and\n",
    "- | or\n",
    "- ^ xor\n",
    "- << >> left shift and right shift\n",
    "- ~ not"
   ]
  },
  {
   "cell_type": "code",
   "execution_count": 1,
   "metadata": {},
   "outputs": [
    {
     "data": {
      "text/plain": [
       "170"
      ]
     },
     "execution_count": 1,
     "metadata": {},
     "output_type": "execute_result"
    }
   ],
   "source": [
    "# function to convert a decimal number to representation in any base k  \n",
    "\n",
    "def binary(num,k):\n",
    "    if num==0:\n",
    "        return '0'\n",
    "    rem=''\n",
    "    while num>0:\n",
    "        rem+=str(num%k)\n",
    "        num=num//k\n",
    "    return rem[::-1]\n",
    "binary(13,2)\n",
    "\n",
    "# function to convert representation in any base k to decimal\n",
    "\n",
    "def decimal(nums,k):\n",
    "    nums=str(nums)\n",
    "    p=0\n",
    "    sum=0\n",
    "    for i in reversed(range(len(nums))):\n",
    "        sum+=int(nums[i])*(k**p)\n",
    "        p+=1\n",
    "    return sum\n",
    "decimal(10101010,2)"
   ]
  },
  {
   "cell_type": "markdown",
   "metadata": {},
   "source": [
    "## Tricks "
   ]
  },
  {
   "cell_type": "code",
   "execution_count": null,
   "metadata": {},
   "outputs": [],
   "source": [
    "# swap two no.s without temp variable - XOR operator\n",
    "def swap(a,b):\n",
    "    a=a^b\n",
    "    b=a^b\n",
    "    a=a^b\n",
    "    return a,b\n",
    "swap(5,6)\n",
    "\n",
    "# check if i^th bit is set or not using <<,&\n",
    "def isSet(a,i):\n",
    "    if (a&(1<<i))!=0:\n",
    "        return True\n",
    "    return False\n",
    "isSet(13,2)\n",
    "\n",
    "# check if i^th bit is set or not using >>,&\n",
    "def isSet(a,i):\n",
    "    if (1&(a>>i))!=0:\n",
    "        return True\n",
    "    return False\n",
    "isSet(13,1)\n",
    "\n",
    "# set the i^th bit and keep the rest same\n",
    "def setBit(a,i):\n",
    "    a=a|(1<<i)\n",
    "    return a\n",
    "setBit(9,2)\n",
    "\n",
    "# clear the i^th bit and keep the rest same\n",
    "def clearBit(a,i):\n",
    "    a=a&(~(1<<i))\n",
    "    return a\n",
    "clearBit(13,2)\n",
    "\n",
    "# toggle the i^th bit - make 1-->0 and 0-->1\n",
    "def toggle(a,i):\n",
    "    a=a^(1<<i)\n",
    "    return a\n",
    "toggle(13,1)\n",
    "\n",
    "# remove the last set bit(rightmost) i.e clear it\n",
    "def removeLastSetBit(a):\n",
    "    a=a&(a-1)\n",
    "    return a\n",
    "removeLastSetBit(14)\n",
    "\n",
    "# check if a number is power of 2 or not --- every number which is a power of 2 will only have 1 set bit -- so if we remove the last set bit result is 0\n",
    "def checkPower(a):\n",
    "    if (a&(a-1))==0:\n",
    "        return True\n",
    "    return False\n",
    "checkPower(32)\n",
    "\n",
    "# count number of set bits ---   n%2 => n&1 n&1=1 if odd n&1=0 if even --- n/2 => n>>1\n",
    "def countSetBits(a):\n",
    "    cnt=0\n",
    "    while a>0:\n",
    "        cnt+=a&1   # a%2\n",
    "        a=a>>1    # a/2\n",
    "    return cnt\n",
    "countSetBits(13)"
   ]
  },
  {
   "cell_type": "code",
   "execution_count": 8,
   "metadata": {},
   "outputs": [
    {
     "data": {
      "text/plain": [
       "7"
      ]
     },
     "execution_count": 8,
     "metadata": {},
     "output_type": "execute_result"
    }
   ],
   "source": [
    "# divide two integers without using the / operator\n",
    "def divide(dividend,divisor):\n",
    "    sign=True\n",
    "    if dividend>=0 and divisor<0:\n",
    "        sign=False\n",
    "    if dividend<0 and divisor>0:\n",
    "        sign=False\n",
    "    ans=0\n",
    "    n=abs(dividend)\n",
    "    d=abs(divisor)\n",
    "    \n",
    "    # 22/3 = 3*7 = 3(2^2 +2^1 +2^0) thus the max possible power of 2 that can be substracted is 2\n",
    "    # similarly in this code at each point we find the max possible power of 2 that can be substracted\n",
    "    # add 2^cnt to the answer and update the n as n=n-d*(2^cnt)\n",
    "    # return the ans\n",
    "\n",
    "    while (n>=d):\n",
    "        cnt=0\n",
    "        while (n>=(d<<(cnt+1))):\n",
    "            cnt+=1\n",
    "        ans+=1<<cnt\n",
    "        n-=d*(1<<cnt)\n",
    "    if ans>=(2**31) and sign==True:\n",
    "        return 2**31-1\n",
    "    if ans>=(2**31) and sign==False:\n",
    "        return 2**(-31)\n",
    "    if sign:\n",
    "        return ans\n",
    "    return -1*ans\n",
    "divide(22,3)"
   ]
  },
  {
   "cell_type": "code",
   "execution_count": 3,
   "metadata": {},
   "outputs": [
    {
     "data": {
      "text/plain": [
       "4"
      ]
     },
     "execution_count": 3,
     "metadata": {},
     "output_type": "execute_result"
    }
   ],
   "source": [
    "# find the min number of bit flips required to convert a number to another\n",
    "\n",
    "def minBitFlips(start,goal):\n",
    "    xor=start^goal\n",
    "    cnt=0\n",
    "    while xor>0:\n",
    "        cnt+=xor&1\n",
    "        xor=xor>>1\n",
    "    return cnt\n",
    "\n",
    "# every element in an array occurs twice. find the only unique element.\n",
    "def unique(nums):\n",
    "    for i in range(len(nums)-1):\n",
    "        nums[i+1]=nums[i]^nums[i+1]\n",
    "    return nums[-1]"
   ]
  },
  {
   "cell_type": "code",
   "execution_count": 10,
   "metadata": {},
   "outputs": [
    {
     "data": {
      "text/plain": [
       "[[], [1], [2], [1, 2], [3], [1, 3], [2, 3], [1, 2, 3]]"
      ]
     },
     "execution_count": 10,
     "metadata": {},
     "output_type": "execute_result"
    }
   ],
   "source": [
    "# find the power set (all possible subsets) of the given array\n",
    "def powerSet(nums):\n",
    "    n=len(nums)\n",
    "    res=[]\n",
    "    for i in range((1<<n)-1):\n",
    "        lst=[]\n",
    "        for j in range(len(nums)):\n",
    "            if (i&(1<<j))!=0:\n",
    "                lst.append(nums[j])\n",
    "        res.append(lst)\n",
    "    res.append(nums)\n",
    "    return res\n",
    "powerSet([1,2,3])\n",
    "\n"
   ]
  },
  {
   "cell_type": "code",
   "execution_count": null,
   "metadata": {},
   "outputs": [],
   "source": [
    "# find XOR of number from 1 to N\n",
    "def find(n):                   # this follows a recurring pattern \n",
    "    if n%4==1:\n",
    "        return 1\n",
    "    if n%4==2:\n",
    "        return n+1\n",
    "    if n%4==3:\n",
    "        return 0\n",
    "    if n%4==0:\n",
    "        return n\n",
    "\n",
    "# find XOR of number from L to R\n",
    "def findXOR(l, r):                # (1^2^3)^(1^2^3^4^5^6^7)= (4^5^6^7) as n^n=0 . thus find(l-1)^find(r)\n",
    "    return find(l-1)^find(r)"
   ]
  }
 ],
 "metadata": {
  "kernelspec": {
   "display_name": "Python 3",
   "language": "python",
   "name": "python3"
  },
  "language_info": {
   "codemirror_mode": {
    "name": "ipython",
    "version": 3
   },
   "file_extension": ".py",
   "mimetype": "text/x-python",
   "name": "python",
   "nbconvert_exporter": "python",
   "pygments_lexer": "ipython3",
   "version": "3.12.3"
  }
 },
 "nbformat": 4,
 "nbformat_minor": 2
}
