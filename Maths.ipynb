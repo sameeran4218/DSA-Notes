{
 "cells": [
  {
   "cell_type": "markdown",
   "metadata": {},
   "source": [
    "# Maths"
   ]
  },
  {
   "cell_type": "markdown",
   "metadata": {},
   "source": [
    "## Number Theory"
   ]
  },
  {
   "cell_type": "markdown",
   "metadata": {},
   "source": [
    "When we ever you are tasked with finding a number that always divides two other numbers - check for GCD of the two given numbers."
   ]
  },
  {
   "cell_type": "markdown",
   "metadata": {},
   "source": [
    "Total no. of perfect squares upto n is -> sqrt(n). Thus no. of non-perfect squares till n are -> n-sqrt(n)"
   ]
  },
  {
   "cell_type": "code",
   "execution_count": 8,
   "metadata": {},
   "outputs": [
    {
     "data": {
      "text/plain": [
       "5"
      ]
     },
     "execution_count": 8,
     "metadata": {},
     "output_type": "execute_result"
    }
   ],
   "source": [
    "## GCD of two numbers - Euclidean Algorithm\n",
    "# GCD of n1 and n2 is the same as GCD of n1 and n2%n1 and so on until the numbers become equal or n2<n1\n",
    "#LCM *GCD = n1*n2\n",
    "\n",
    "def gcd(n1, n2):\n",
    "    if n1 == 0:\n",
    "        return n2\n",
    "    return gcd(n2%n1, n1)\n",
    "gcd(10, 15)"
   ]
  },
  {
   "cell_type": "code",
   "execution_count": null,
   "metadata": {},
   "outputs": [],
   "source": [
    "# Check for Prime in O(sqrt(n))\n",
    "# if i is a factor then n/i is also a factor (if n/i not equal to i)\n",
    "import math\n",
    "def isprime(n):\n",
    "    if n<=1:\n",
    "          return False\n",
    "    for i in range(2,int(math.sqrt(n)+1)):\n",
    "         if n%i==0:\n",
    "              return False\n",
    "    return True\n",
    "\n",
    "print(isprime(37))"
   ]
  },
  {
   "cell_type": "code",
   "execution_count": 10,
   "metadata": {},
   "outputs": [
    {
     "name": "stdout",
     "output_type": "stream",
     "text": [
      "prime factors= [2, 2, 3, 5]\n"
     ]
    }
   ],
   "source": [
    "# Find prime factors of a number in O(sqrt(n)*logn)\n",
    "import math\n",
    "def factors(n):\n",
    "    lst=[]\n",
    "    for i in range(2,int(math.sqrt(n))):\n",
    "        while(n%i==0):\n",
    "            lst.append(i)\n",
    "            n=n/i\n",
    "    if n!=1:\n",
    "        lst.append(n)\n",
    "    return lst\n",
    "\n",
    "lst=factors(60)\n",
    "print('prime factors=',lst)"
   ]
  },
  {
   "cell_type": "code",
   "execution_count": 9,
   "metadata": {},
   "outputs": [
    {
     "name": "stdout",
     "output_type": "stream",
     "text": [
      "2 3 5 7 11 13 17 19 23 29 "
     ]
    }
   ],
   "source": [
    "# Sieve of Eratosthenes - Find all prime numbers upto n\n",
    "# pre compute whether a number is prime or not and store in a list\n",
    "def sieve(n):\n",
    "    prime=[1]*(n+1)\n",
    "    for i in range(2,int(math.sqrt(n))+1): # run loop till sqrt(n)\n",
    "        if prime[i]==1:\n",
    "            for j in range(i*i,n+1,i): # start from i*i instead of 2*i\n",
    "                prime[j]=0\n",
    "    # here if prime[i]==1 then i is prime\n",
    "    for i in range(2,n+1):\n",
    "        if prime[i]==1:\n",
    "            print(i,end=' ')\n",
    "sieve(30)    \n",
    "# TC=O(nloglogn)- for precomputation"
   ]
  },
  {
   "cell_type": "code",
   "execution_count": null,
   "metadata": {},
   "outputs": [],
   "source": [
    "# Count number of primes in range L->R\n",
    "\n",
    "def countPrimes(l,r):\n",
    "    prime=sieve(r)\n",
    "    count=0\n",
    "    for i in range(r+1):\n",
    "        if prime[i]==1:\n",
    "            count+=1\n",
    "            prime[i]=count\n",
    "    # using prefix sums we can say number of primes in range l->r is prime[r]-prime[l-1]\n",
    "    return prime[r]-prime[l-1]"
   ]
  },
  {
   "cell_type": "code",
   "execution_count": 3,
   "metadata": {},
   "outputs": [
    {
     "data": {
      "text/plain": [
       "37"
      ]
     },
     "execution_count": 3,
     "metadata": {},
     "output_type": "execute_result"
    }
   ],
   "source": [
    "# Find smallest prime factor that divides a given number\n",
    "import math\n",
    "def smallestPrimeFactor(n):\n",
    "    prime=[1]*(n+1)\n",
    "    for i in range(2,int(math.sqrt(n))+1):\n",
    "        if prime[i]==1:\n",
    "            for j in range(i*i,n+1,i):\n",
    "                prime[j]=0\n",
    "            if prime[n]==0:\n",
    "                return i\n",
    "    return n\n",
    "smallestPrimeFactor(37)"
   ]
  },
  {
   "cell_type": "code",
   "execution_count": 7,
   "metadata": {},
   "outputs": [
    {
     "data": {
      "text/plain": [
       "81"
      ]
     },
     "execution_count": 7,
     "metadata": {},
     "output_type": "execute_result"
    }
   ],
   "source": [
    "# Power Exponentiation in O(logn)\n",
    "\n",
    "def pow(x,n):\n",
    "    ans=1\n",
    "    while n>0:\n",
    "        if n%2!=0:\n",
    "            ans=ans*x\n",
    "            n-=1\n",
    "        else:\n",
    "            n=n//2\n",
    "            x=x*x\n",
    "    return ans\n",
    "pow(3,4)"
   ]
  },
  {
   "cell_type": "code",
   "execution_count": null,
   "metadata": {},
   "outputs": [],
   "source": [
    "# how to express a number in terms of powers of another number along with coefficients\n",
    "# eg 5= (1)2^2 +(1)2^0\n",
    "# sum of coefficients=1+1=2\n",
    "\n",
    "import math\n",
    "def sum_of_coefficients(n, k):\n",
    "    exponent=math.floor(math.log(n,k))\n",
    "    coefficients=0\n",
    "    while n > 0: \n",
    "        coefficients+=n//(k**exponent)\n",
    "        n = n % (k**exponent)\n",
    "        exponent-=1\n",
    "    return coefficients\n",
    "sum_of_coefficients(6492,10)"
   ]
  },
  {
   "cell_type": "code",
   "execution_count": null,
   "metadata": {},
   "outputs": [],
   "source": [
    "# Codeforces 1765M\n",
    "# find the minimum LCM of two numbers a,b such that a+b=n\n",
    "import math\n",
    "def leastLCM(n):\n",
    "    a=1\n",
    "    for i in range(2,int(math.sqrt(n))+1):\n",
    "        if n%i==0:\n",
    "            a=n//i\n",
    "            break\n",
    "    return a,n-a\n",
    "\n",
    "t=int(input())\n",
    "for _ in range(t):\n",
    "    n=int(input())\n",
    "    print(leastLCM(n)[0],leastLCM(n)[1])"
   ]
  },
  {
   "cell_type": "code",
   "execution_count": null,
   "metadata": {},
   "outputs": [],
   "source": [
    "# find out if a number is of the form A*x +B*y=n where A,B are constants\n",
    "# eg: 4x+7y=n\n",
    "def lucky(n):\n",
    "    # Start with the maximum possible number of 7s\n",
    "    num_sevens = n // 7\n",
    "    while num_sevens >= 0:\n",
    "        remaining = n - 7 * num_sevens\n",
    "        if remaining % 4 == 0:  # if remaining is divisible by 4 \n",
    "            num_fours = remaining // 4\n",
    "            return '4' * num_fours + '7' * num_sevens\n",
    "        num_sevens -= 1\n",
    "    return -1\n",
    "n = int(input())\n",
    "print(lucky(n))\n"
   ]
  },
  {
   "cell_type": "code",
   "execution_count": null,
   "metadata": {},
   "outputs": [],
   "source": [
    "# distribute a given number into groups such that sum of sqaure of each element of group is minimum\n",
    "# eg distribute 10 into 4 groups -->[3,3,2,2] so 3^2+3^2+2^2+2^2 is minimum\n",
    "def distribute(n,m):\n",
    "    # take n%m elements as [n/m]+1\n",
    "    # take remaining elements as [n/m]\n",
    "    arr=[n//m]*m\n",
    "    for i in range(n%m):\n",
    "        arr[i]=n//m+1\n",
    "    return arr\n",
    "print(distribute(7,4))"
   ]
  },
  {
   "cell_type": "code",
   "execution_count": null,
   "metadata": {},
   "outputs": [
    {
     "name": "stdout",
     "output_type": "stream",
     "text": [
      "1 5\n"
     ]
    }
   ],
   "source": [
    "# find how far away a number is from the closest multiple of the base\n",
    "def closest_multiple(x,z):\n",
    "    distance_from_previous_closest_multiple=x%z\n",
    "    distance_from_next_closest_multiple=z-x%z\n",
    "    print(distance_from_previous_closest_multiple,distance_from_next_closest_multiple)\n",
    "closest_multiple(13,6)"
   ]
  },
  {
   "cell_type": "markdown",
   "metadata": {},
   "source": [
    "## Combinatorics"
   ]
  },
  {
   "cell_type": "code",
   "execution_count": 3,
   "metadata": {},
   "outputs": [
    {
     "data": {
      "text/plain": [
       "10"
      ]
     },
     "execution_count": 3,
     "metadata": {},
     "output_type": "execute_result"
    }
   ],
   "source": [
    "# Calculate nCk (binomial coeffiecnt)\n",
    "# useful when you have to choose k elements from a set of n \n",
    "def nCk(n, k):\n",
    "    if k > n:\n",
    "        return 0\n",
    "    if k == 0 or k == n:\n",
    "        return 1\n",
    "    res = 1\n",
    "    for i in range(k):\n",
    "        res = res * (n-i)//(i+1)\n",
    "    return res\n",
    "nCk(5,2)"
   ]
  },
  {
   "cell_type": "markdown",
   "metadata": {},
   "source": [
    "This formula can be used to calculate all the binomial coefficients from the previous one in constant time\n",
    "\n",
    "nC0=1, hence we can calculate nC1 and from there on we can calculate the rest "
   ]
  },
  {
   "attachments": {
    "image.png": {
     "image/png": "[encoded data removed]"
    }
   },
   "cell_type": "markdown",
   "metadata": {},
   "source": [
    "![image.png](attachment:image.png)"
   ]
  },
  {
   "cell_type": "code",
   "execution_count": 9,
   "metadata": {},
   "outputs": [
    {
     "data": {
      "text/plain": [
       "16"
      ]
     },
     "execution_count": 9,
     "metadata": {},
     "output_type": "execute_result"
    }
   ],
   "source": [
    "# sum of binomial coefficients nC0+nC1...nC(k) can be written using the above formula \n",
    "def sum_nCk(n,k):\n",
    "    sum=1\n",
    "    current=1 #nC0\n",
    "    for i in range(1,k+1):\n",
    "        current=current*(n-i+1)//(i)\n",
    "        sum+=current\n",
    "    return sum\n",
    "sum_nCk(5,3)\n"
   ]
  },
  {
   "cell_type": "markdown",
   "metadata": {},
   "source": [
    "Divisibility of 7"
   ]
  },
  {
   "cell_type": "code",
   "execution_count": null,
   "metadata": {},
   "outputs": [],
   "source": [
    "# Input : 8955795758\n",
    "# Output : Divisible by 7\n",
    "#        Explanation:\n",
    "#        We express the number in terms of triplets \n",
    "#        of digits as follows.\n",
    "#                 (008)(955)(795)(758)\n",
    "#        Now, 758- 795 + 955 - 8 = 910, which is \n",
    "#        divisible by 7"
   ]
  }
 ],
 "metadata": {
  "kernelspec": {
   "display_name": "Python 3",
   "language": "python",
   "name": "python3"
  },
  "language_info": {
   "codemirror_mode": {
    "name": "ipython",
    "version": 3
   },
   "file_extension": ".py",
   "mimetype": "text/x-python",
   "name": "python",
   "nbconvert_exporter": "python",
   "pygments_lexer": "ipython3",
   "version": "3.12.3"
  }
 },
 "nbformat": 4,
 "nbformat_minor": 2
}
