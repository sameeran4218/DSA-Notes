{
 "cells": [
  {
   "cell_type": "markdown",
   "metadata": {},
   "source": [
    "# Maths"
   ]
  },
  {
   "cell_type": "code",
   "execution_count": null,
   "metadata": {},
   "outputs": [],
   "source": [
    "## GCD of two numbers - Euclidean Algorithm\n",
    "# GCD of n1 and n2 is the same as GCD of n1 and n2-n1 and so on until the numbers become equal or n2<n1\n",
    "#LCM *GCD = n1*n2\n",
    "def gcd(n1,n2):\n",
    "    if n1==n2:\n",
    "        return n1\n",
    "    if n2<n1:\n",
    "        return n2\n",
    "    else:\n",
    "        return gcd(n1,n2-n1)\n",
    "a=12\n",
    "b=18\n",
    "gcd=gcd(a,b)\n",
    "print('GCD=',gcd)\n",
    "print('LCM=',(a*b)/gcd)"
   ]
  },
  {
   "cell_type": "code",
   "execution_count": null,
   "metadata": {},
   "outputs": [],
   "source": [
    "# Check for Prime in O(sqrt(n))\n",
    "# if i is a factor then n/i is also a factor (if n/i not equal to i)\n",
    "import math\n",
    "def isprime(n):\n",
    "    if n<=1:\n",
    "          return False\n",
    "    for i in range(2,int(math.sqrt(n)+1)):\n",
    "         if n%i==0:\n",
    "              return False\n",
    "    return True\n",
    "\n",
    "print(isprime(37))\n",
    "\n"
   ]
  },
  {
   "cell_type": "code",
   "execution_count": null,
   "metadata": {},
   "outputs": [],
   "source": [
    "# Find prime factors of a number in O(logn)\n",
    "import math\n",
    "def factors(n):\n",
    "    lst=[]\n",
    "    for i in range(2,int(math.sqrt(n))):\n",
    "        if n%i==0:\n",
    "            lst.append(i)\n",
    "            while(n%i==0):\n",
    "                n=n/i\n",
    "    if n!=1:\n",
    "        lst.append(n)\n",
    "    return lst\n",
    "\n",
    "lst=factors(37)\n",
    "print('prime factors=',lst)"
   ]
  },
  {
   "cell_type": "code",
   "execution_count": null,
   "metadata": {},
   "outputs": [],
   "source": [
    "# how to express a number in terms of powers of another number along with coefficients\n",
    "# eg 5= (1)2^2 +(1)2^0\n",
    "# sum of coefficients=1+1=2\n",
    "\n",
    "import math\n",
    "def sum_of_coefficients(n, k):\n",
    "    exponent=math.floor(math.log(n,k))\n",
    "    coefficients=0\n",
    "    while n > 0: \n",
    "        coefficients+=n//(k**exponent)\n",
    "        n = n % (k**exponent)\n",
    "        exponent-=1\n",
    "    return coefficients\n",
    "sum_of_coefficients(6492,10)"
   ]
  },
  {
   "cell_type": "code",
   "execution_count": null,
   "metadata": {},
   "outputs": [],
   "source": [
    "# Codeforces 1765M\n",
    "# find the minimum LCM of two numbers a,b such that a+b=n\n",
    "import math\n",
    "def leastLCM(n):\n",
    "    a=1\n",
    "    for i in range(2,int(math.sqrt(n))+1):\n",
    "        if n%i==0:\n",
    "            a=n//i\n",
    "            break\n",
    "    return a,n-a\n",
    "\n",
    "t=int(input())\n",
    "for _ in range(t):\n",
    "    n=int(input())\n",
    "    print(leastLCM(n)[0],leastLCM(n)[1])"
   ]
  },
  {
   "cell_type": "code",
   "execution_count": null,
   "metadata": {},
   "outputs": [],
   "source": [
    "# find out if a number is of the form A*x +B*y=n where A,B are constants\n",
    "# eg: 4x+7y=n\n",
    "def lucky(n):\n",
    "    # Start with the maximum possible number of 7s\n",
    "    num_sevens = n // 7\n",
    "    while num_sevens >= 0:\n",
    "        remaining = n - 7 * num_sevens\n",
    "        if remaining % 4 == 0:  # if remaining is divisible by 4 \n",
    "            num_fours = remaining // 4\n",
    "            return '4' * num_fours + '7' * num_sevens\n",
    "        num_sevens -= 1\n",
    "    return -1\n",
    "n = int(input())\n",
    "print(lucky(n))\n"
   ]
  },
  {
   "cell_type": "code",
   "execution_count": null,
   "metadata": {},
   "outputs": [],
   "source": [
    "# distribute a given number into groups such that sum of sqaure of each element of group is minimum\n",
    "# eg distribute 10 into 4 groups -->[3,3,2,2] so 3^2+3^2+2^2+2^2 is minimum\n",
    "def distribute(n,m):\n",
    "    # take n%m elements as [n/m]+1\n",
    "    # take remaining elements as [n/m]\n",
    "    arr=[n//m]*m\n",
    "    for i in range(n%m):\n",
    "        arr[i]=n//m+1\n",
    "    return arr\n",
    "print(distribute(7,4))"
   ]
  },
  {
   "cell_type": "code",
   "execution_count": null,
   "metadata": {},
   "outputs": [
    {
     "name": "stdout",
     "output_type": "stream",
     "text": [
      "1 5\n"
     ]
    }
   ],
   "source": [
    "# find how far away a number is from the closest multiple of the base\n",
    "def closest_multiple(x,z):\n",
    "    distance_from_previous_closest_multiple=x%z\n",
    "    distance_from_next_closest_multiple=z-x%z\n",
    "    print(distance_from_previous_closest_multiple,distance_from_next_closest_multiple)\n",
    "closest_multiple(13,6)"
   ]
  },
  {
   "cell_type": "code",
   "execution_count": null,
   "metadata": {},
   "outputs": [],
   "source": [
    "# Calculate nCk (binomial coeffiecnt)\n",
    "# useful when you have to choose k elements from a set of n \n",
    "def nCk(n, k):\n",
    "    if k > n:\n",
    "        return 0\n",
    "    if k == 0 or k == n:\n",
    "        return 1\n",
    "    res = 1\n",
    "    for i in range(1, k+1):\n",
    "        res = res * (n - i + 1) // i\n",
    "    return res"
   ]
  }
 ],
 "metadata": {
  "kernelspec": {
   "display_name": "Python 3",
   "language": "python",
   "name": "python3"
  },
  "language_info": {
   "codemirror_mode": {
    "name": "ipython",
    "version": 3
   },
   "file_extension": ".py",
   "mimetype": "text/x-python",
   "name": "python",
   "nbconvert_exporter": "python",
   "pygments_lexer": "ipython3",
   "version": "3.12.3"
  }
 },
 "nbformat": 4,
 "nbformat_minor": 2
}
