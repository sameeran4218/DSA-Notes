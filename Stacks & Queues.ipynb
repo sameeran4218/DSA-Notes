{
 "cells": [
  {
   "cell_type": "markdown",
   "metadata": {},
   "source": [
    "# Stacks"
   ]
  },
  {
   "cell_type": "code",
   "execution_count": null,
   "metadata": {},
   "outputs": [],
   "source": [
    "# Python stack can be implemented using the deque class from the collections module. \n",
    "# Deque is preferred over the list in the cases where we need quicker append and pop operations from both the ends of the container\n",
    "# Deque provides an O(1) time complexity for append and pop operations as compared to list which provides O(n) time complexity. "
   ]
  },
  {
   "cell_type": "code",
   "execution_count": 12,
   "metadata": {},
   "outputs": [
    {
     "name": "stdout",
     "output_type": "stream",
     "text": [
      "deque(['a', 'b', 'c'])\n",
      "leftmost a\n",
      "rightmost c\n",
      "size 3\n",
      "\n",
      "Elements popped from stack:\n",
      "c\n",
      "b\n",
      "a\n",
      "\n",
      "Stack after elements are popped:\n",
      "deque([])\n"
     ]
    }
   ],
   "source": [
    "# Python program to demonstrate stack implementation using collections.deque\n",
    "\n",
    "from collections import deque\n",
    "\n",
    "stack = deque()\n",
    "\n",
    "# append() function to push\n",
    "# element in the stack\n",
    "stack.append('a')\n",
    "stack.append('b')\n",
    "stack.append('c')\n",
    "\n",
    "# initial stack\n",
    "print(stack)\n",
    "\n",
    "# can use [0] and [-1] to peek at end elements from both sides\n",
    "print('leftmost',stack[0])\n",
    "print('rightmost',stack[-1])\n",
    "\n",
    "# use len() to get size of stack\n",
    "print('size',len(stack))\n",
    "\n",
    "# note in deque pop means removing elements from right -LIFO \n",
    "# popleft means removing elements from the left - FIFO\n",
    "\n",
    "# pop() used to remove element from stack in LIFO order\n",
    "print('\\nElements popped from stack:')\n",
    "print(stack.pop())\n",
    "print(stack.pop())\n",
    "print(stack.pop())\n",
    "\n",
    "print('\\nStack after elements are popped:')\n",
    "print(stack)\n",
    "\n",
    "# uncommenting print(stack.pop())\n",
    "# will cause an IndexError\n",
    "# as the stack is now empty"
   ]
  },
  {
   "cell_type": "code",
   "execution_count": null,
   "metadata": {},
   "outputs": [],
   "source": [
    "# Implementing Stacks using Arrays\n",
    "\n",
    "class implementStack:\n",
    "    stack=[0]*10\n",
    "    top=-1\n",
    "    def push(x):\n",
    "        top+=1\n",
    "        stack[top]=x\n",
    "    def peek(top):\n",
    "        if top==-1:\n",
    "            return\n",
    "        return stack[top]\n",
    "    def pop(top):\n",
    "        if top==-1:\n",
    "            return\n",
    "        ele=stack[top]\n",
    "        top-=1\n",
    "        return ele\n",
    "    def size(top):\n",
    "        return top+1"
   ]
  },
  {
   "cell_type": "code",
   "execution_count": 14,
   "metadata": {},
   "outputs": [],
   "source": [
    "# Implement Stack using Queues\n",
    "\n",
    "from collections import deque\n",
    "class MyStack:\n",
    "    def __init__(self):\n",
    "        self.queue1=deque()\n",
    "\n",
    "    def push(self, x: int) -> None:\n",
    "        self.queue1.append(x)\n",
    "    def pop(self) -> int:\n",
    "        if len(self.queue1)>0:\n",
    "            return self.queue1.pop()\n",
    "\n",
    "    def top(self) -> int:\n",
    "        if len(self.queue1)>0:\n",
    "            top_element=self.queue1.pop()\n",
    "            self.queue1.append(top_element)\n",
    "            return top_element        \n",
    "\n",
    "    def empty(self) -> bool:\n",
    "        return not self.queue1        \n",
    "\n",
    "# Your MyStack object will be instantiated and called as such:\n",
    "# obj = MyStack()\n",
    "# obj.push(x)\n",
    "# param_2 = obj.pop()\n",
    "# param_3 = obj.top()\n",
    "# param_4 = obj.empty()"
   ]
  },
  {
   "cell_type": "markdown",
   "metadata": {},
   "source": [
    "# Queues"
   ]
  },
  {
   "cell_type": "code",
   "execution_count": 8,
   "metadata": {},
   "outputs": [
    {
     "name": "stdout",
     "output_type": "stream",
     "text": [
      "Initial queue\n",
      "deque(['a', 'b', 'c'])\n",
      "\n",
      "Elements dequeued from the queue\n",
      "a\n",
      "b\n",
      "c\n",
      "\n",
      "Queue after removing elements\n",
      "deque([])\n"
     ]
    }
   ],
   "source": [
    "# Implementing Queues using Collections.Deque\n",
    "\n",
    "from collections import deque\n",
    "q = deque()\n",
    "q.append('a')\n",
    "q.append('b')\n",
    "q.append('c')\n",
    "print(\"Initial queue\")\n",
    "print(q)\n",
    "print(\"\\nElements dequeued from the queue\")\n",
    "print(q.popleft())\n",
    "print(q.popleft())\n",
    "print(q.popleft())\n",
    "\n",
    "print(\"\\nQueue after removing elements\")\n",
    "print(q)"
   ]
  },
  {
   "cell_type": "code",
   "execution_count": null,
   "metadata": {},
   "outputs": [],
   "source": [
    "# Implementing queues using arrays\n",
    "\n",
    "class implementQueue:\n",
    "    currSize=0\n",
    "    start,end=-1,-1\n",
    "    size=10\n",
    "    queue=[0]*size\n",
    "    \n",
    "    def push(queue,size,start,end,currSize,x):\n",
    "        if currSize==0:\n",
    "            start=end=1\n",
    "            queue[end]=x\n",
    "            currSize=1\n",
    "        if currSize==size:\n",
    "            print('queue is filled')\n",
    "            return\n",
    "        else:\n",
    "            end=(end+1)%size\n",
    "            queue[end]=x\n",
    "            currSize+=1\n",
    "        return\n",
    "    \n",
    "    def pop(queue,size,currSize,start,end):\n",
    "        if currSize==0:\n",
    "            print('queue is empty')\n",
    "            return \n",
    "        ele=queue[start]\n",
    "        if currSize==1: # destroy the queue\n",
    "            start=end=-1\n",
    "        else:\n",
    "            start=(start+1)%size\n",
    "            currSize-=1\n",
    "        return ele\n",
    "    \n",
    "    def peek(queue,currSize,start):\n",
    "        if currSize==0:\n",
    "            return\n",
    "        return queue[start]\n",
    "    \n",
    "    def size(currSize):\n",
    "        return currSize\n",
    "    "
   ]
  }
 ],
 "metadata": {
  "kernelspec": {
   "display_name": "Python 3",
   "language": "python",
   "name": "python3"
  },
  "language_info": {
   "codemirror_mode": {
    "name": "ipython",
    "version": 3
   },
   "file_extension": ".py",
   "mimetype": "text/x-python",
   "name": "python",
   "nbconvert_exporter": "python",
   "pygments_lexer": "ipython3",
   "version": "3.12.3"
  }
 },
 "nbformat": 4,
 "nbformat_minor": 2
}
