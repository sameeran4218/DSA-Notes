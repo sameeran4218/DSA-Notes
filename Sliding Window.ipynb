{
 "cells": [
  {
   "cell_type": "markdown",
   "metadata": {},
   "source": [
    "#  Sliding Window"
   ]
  },
  {
   "cell_type": "code",
   "execution_count": null,
   "metadata": {},
   "outputs": [],
   "source": [
    "# find the longest substring without repeating characters\n",
    "\n",
    "s='abcabcbb'\n",
    "def longestSubstring(s):\n",
    "    left=0\n",
    "    st=set()\n",
    "    length=0\n",
    "    max_length=0\n",
    "    for right in range(len(s)):\n",
    "        while s[right] in st:\n",
    "            st.remove(s[left])\n",
    "            left+=1\n",
    "\n",
    "        length=(right-left)+1\n",
    "        max_length=max(max_length,length)\n",
    "        st.add(s[right])\n",
    "    return max_length\n",
    "longestSubstring(s)\n",
    "        \n"
   ]
  },
  {
   "cell_type": "code",
   "execution_count": null,
   "metadata": {},
   "outputs": [],
   "source": [
    "# Find the subarray of length k with maximum average \n",
    "\n",
    "def maxaverage(nums,k):\n",
    "    cur_sum=sum(nums[0:k])\n",
    "    max_avg=cur_sum/k\n",
    "\n",
    "    for i in range(k,len(nums)):\n",
    "        cur_sum+=nums[i]\n",
    "        cur_sum-=nums[i-k]\n",
    "        avg=cur_sum/k\n",
    "        max_avg=max(max_avg,avg)\n",
    "        \n",
    "    return max_avg\n",
    "\n",
    "nums=[1,12,-5,-6,50,3]\n",
    "k=4\n",
    "maxaverage(nums,k)"
   ]
  },
  {
   "cell_type": "code",
   "execution_count": 3,
   "metadata": {},
   "outputs": [
    {
     "data": {
      "text/plain": [
       "6"
      ]
     },
     "execution_count": 3,
     "metadata": {},
     "output_type": "execute_result"
    }
   ],
   "source": [
    "# Max Consecutive Ones III\n",
    "# Given a binary array nums and an integer k, return the maximum number of consecutive 1's in the array if you can flip at most k 0's.\n",
    "\n",
    "nums = [1,1,1,0,0,0,1,1,1,1,0]\n",
    "k = 2\n",
    "def longestOnes(nums, k: int) -> int:\n",
    "    max_length=0\n",
    "    cnt=0\n",
    "    n=len(nums)\n",
    "    left=0\n",
    "    if nums.count(0)<k:\n",
    "        return len(nums)\n",
    "    for right in range(n):\n",
    "        if nums[right]==0:\n",
    "            cnt+=1\n",
    "        if cnt<k:\n",
    "            continue\n",
    "        if cnt==k:\n",
    "            length=right-left+1\n",
    "            max_length=max(max_length,length)\n",
    "        if cnt>k:\n",
    "            while cnt>k:\n",
    "                if nums[left]==0:\n",
    "                    cnt-=1\n",
    "                left+=1\n",
    "    return max_length\n",
    "longestOnes(nums,k)\n",
    "\n"
   ]
  },
  {
   "cell_type": "code",
   "execution_count": 7,
   "metadata": {},
   "outputs": [
    {
     "data": {
      "text/plain": [
       "5"
      ]
     },
     "execution_count": 7,
     "metadata": {},
     "output_type": "execute_result"
    }
   ],
   "source": [
    "# You are given a string s and an integer k. You can choose any character of the string and change it to any other uppercase English character. \n",
    "# You can perform this operation at most k times.\n",
    "# Return the length of the longest substring containing the same letter you can get after performing the above operations.\n",
    "\n",
    "def characterReplacement(s,k):\n",
    "    freq={}\n",
    "    l=0\n",
    "    n=len(s)\n",
    "    max_length=0\n",
    "    for r in range(n):\n",
    "        if s[r] not in freq:\n",
    "            freq[s[r]]=0\n",
    "        freq[s[r]]+=1\n",
    "        length=r-l+1\n",
    "        if length-max(freq.values())>k:\n",
    "                freq[s[l]]-=1\n",
    "                l+=1\n",
    "        max_length=max(max_length,r-l+1)\n",
    "    return max_length\n",
    "s = \"AABABBA\"\n",
    "k = 2\n",
    "characterReplacement(s,k)\n",
    "\n",
    "            "
   ]
  },
  {
   "cell_type": "code",
   "execution_count": 8,
   "metadata": {},
   "outputs": [
    {
     "data": {
      "text/plain": [
       "4"
      ]
     },
     "execution_count": 8,
     "metadata": {},
     "output_type": "execute_result"
    }
   ],
   "source": [
    "# You are given a string s and an integer k. You can choose any character of the string and change it to any other uppercase English character. \n",
    "# You can perform this operation at most k times.\n",
    "# Return the length of the longest substring containing the same letter you can get after performing the above operations.\n",
    "\n",
    "nums = [2,2,2,1,2,2,1,2,2,2]\n",
    "k = 2\n",
    "def niceSubarray(nums,k):\n",
    "    n=len(nums)\n",
    "    left=0\n",
    "    subarray=0\n",
    "    cnt=0\n",
    "    for right in range(n):\n",
    "        if nums[right]%2==1:\n",
    "            cnt+=1\n",
    "        if cnt==k:\n",
    "            subarray+=1\n",
    "            if nums[left]%2==1:\n",
    "                cnt-=1\n",
    "            left+=1\n",
    "    return subarray\n",
    "niceSubarray(nums,k)\n",
    "\n"
   ]
  },
  {
   "cell_type": "code",
   "execution_count": null,
   "metadata": {},
   "outputs": [],
   "source": []
  }
 ],
 "metadata": {
  "kernelspec": {
   "display_name": "Python 3",
   "language": "python",
   "name": "python3"
  },
  "language_info": {
   "codemirror_mode": {
    "name": "ipython",
    "version": 3
   },
   "file_extension": ".py",
   "mimetype": "text/x-python",
   "name": "python",
   "nbconvert_exporter": "python",
   "pygments_lexer": "ipython3",
   "version": "3.12.3"
  }
 },
 "nbformat": 4,
 "nbformat_minor": 2
}
