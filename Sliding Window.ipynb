{
 "cells": [
  {
   "cell_type": "markdown",
   "metadata": {},
   "source": [
    "#  Sliding Window"
   ]
  },
  {
   "cell_type": "code",
   "execution_count": null,
   "metadata": {},
   "outputs": [],
   "source": [
    "# find the longest substring without repeating characters\n",
    "\n",
    "s='abcabcbb'\n",
    "def longestSubstring(s):\n",
    "    left=0\n",
    "    st=set()\n",
    "    length=0\n",
    "    max_length=0\n",
    "    for right in range(len(s)):\n",
    "        while s[right] in st:\n",
    "            st.remove(s[left])\n",
    "            left+=1\n",
    "\n",
    "        length=(right-left)+1\n",
    "        max_length=max(max_length,length)\n",
    "        st.add(s[right])\n",
    "    return max_length\n",
    "longestSubstring(s)\n",
    "        \n"
   ]
  },
  {
   "cell_type": "code",
   "execution_count": null,
   "metadata": {},
   "outputs": [],
   "source": [
    "# Find the subarray of length k with maximum average \n",
    "\n",
    "def maxaverage(nums,k):\n",
    "    cur_sum=sum(nums[0:k])\n",
    "    max_avg=cur_sum/k\n",
    "\n",
    "    for i in range(k,len(nums)):\n",
    "        cur_sum+=nums[i]\n",
    "        cur_sum-=nums[i-k]\n",
    "        avg=cur_sum/k\n",
    "        max_avg=max(max_avg,avg)\n",
    "        \n",
    "    return max_avg\n",
    "\n",
    "nums=[1,12,-5,-6,50,3]\n",
    "k=4\n",
    "maxaverage(nums,k)"
   ]
  },
  {
   "cell_type": "code",
   "execution_count": 3,
   "metadata": {},
   "outputs": [
    {
     "data": {
      "text/plain": [
       "6"
      ]
     },
     "execution_count": 3,
     "metadata": {},
     "output_type": "execute_result"
    }
   ],
   "source": [
    "# Max Consecutive Ones III\n",
    "# Given a binary array nums and an integer k, return the maximum number of consecutive 1's in the array if you can flip at most k 0's.\n",
    "\n",
    "nums = [1,1,1,0,0,0,1,1,1,1,0]\n",
    "k = 2\n",
    "def longestOnes(nums, k: int) -> int:\n",
    "    max_length=0\n",
    "    cnt=0\n",
    "    n=len(nums)\n",
    "    left=0\n",
    "    if nums.count(0)<k:\n",
    "        return len(nums)\n",
    "    for right in range(n):\n",
    "        if nums[right]==0:\n",
    "            cnt+=1\n",
    "        if cnt<k:\n",
    "            continue\n",
    "        if cnt==k:\n",
    "            length=right-left+1\n",
    "            max_length=max(max_length,length)\n",
    "        if cnt>k:\n",
    "            while cnt>k:\n",
    "                if nums[left]==0:\n",
    "                    cnt-=1\n",
    "                left+=1\n",
    "    return max_length\n",
    "longestOnes(nums,k)\n",
    "\n"
   ]
  },
  {
   "cell_type": "code",
   "execution_count": 7,
   "metadata": {},
   "outputs": [
    {
     "data": {
      "text/plain": [
       "5"
      ]
     },
     "execution_count": 7,
     "metadata": {},
     "output_type": "execute_result"
    }
   ],
   "source": [
    "# You are given a string s and an integer k. You can choose any character of the string and change it to any other uppercase English character. \n",
    "# You can perform this operation at most k times.\n",
    "# Return the length of the longest substring containing the same letter you can get after performing the above operations.\n",
    "\n",
    "def characterReplacement(s,k):\n",
    "    freq={}\n",
    "    l=0\n",
    "    n=len(s)\n",
    "    max_length=0\n",
    "    for r in range(n):\n",
    "        if s[r] not in freq:\n",
    "            freq[s[r]]=0\n",
    "        freq[s[r]]+=1\n",
    "        length=r-l+1\n",
    "        if length-max(freq.values())>k:\n",
    "                freq[s[l]]-=1\n",
    "                l+=1\n",
    "        max_length=max(max_length,r-l+1)\n",
    "    return max_length\n",
    "s = \"AABABBA\"\n",
    "k = 2\n",
    "characterReplacement(s,k)\n",
    "\n",
    "            "
   ]
  },
  {
   "cell_type": "code",
   "execution_count": 21,
   "metadata": {},
   "outputs": [],
   "source": [
    "# Given an array of positive integers nums and a positive integer target, return the minimal length of a subarray\n",
    "# whose sum is greater than or equal to target. If there is no such subarray, return 0 instead.\n",
    "\n",
    "def minSubArrayLen(target,nums):\n",
    "    l = 0\n",
    "    r = 0\n",
    "    sum_count = nums[0]\n",
    "    min_len = float('inf')\n",
    "    while r <= len(nums) - 1:\n",
    "        if sum_count < target:\n",
    "            r += 1\n",
    "            if r <= len(nums) - 1:\n",
    "                sum_count += nums[r]\n",
    "        else:\n",
    "            min_len = min(min_len, r-l + 1)\n",
    "            sum_count -= nums[l]\n",
    "            l += 1\n",
    "    if min_len == float('inf'):\n",
    "        return 0\n",
    "    return min_len"
   ]
  },
  {
   "cell_type": "code",
   "execution_count": 8,
   "metadata": {},
   "outputs": [
    {
     "data": {
      "text/plain": [
       "True"
      ]
     },
     "execution_count": 8,
     "metadata": {},
     "output_type": "execute_result"
    }
   ],
   "source": [
    "# Given two strings s1 and s2, return true if s2 contains a permutationof s1, or false otherwise.\n",
    "# In other words, return true if one of s1's permutations is the substring of s2.\n",
    "\n",
    "from collections import Counter\n",
    "def isPermutation(s1,s2):\n",
    "    n=len(s1)\n",
    "    left,right=0,0\n",
    "    freq2={}\n",
    "    freq1=dict(Counter(s1))\n",
    "    while right<=len(s2)-1:\n",
    "        if s2[right] not in freq2:\n",
    "            freq2[s2[right]]=0\n",
    "        freq2[s2[right]]+=1\n",
    "        if right-left+1==n:\n",
    "            if freq2==freq1:\n",
    "                return True\n",
    "            else:\n",
    "                if freq2[s2[left]]==1:\n",
    "                    del freq2[s2[left]]\n",
    "                else:\n",
    "                    freq2[s2[left]]-=1\n",
    "                left+=1\n",
    "        right+=1\n",
    "    return False\n",
    "\n",
    "s1 = \"ab\"\n",
    "s2 = \"eidboabo\"\n",
    "isPermutation(s1,s2)\n",
    "\n"
   ]
  },
  {
   "cell_type": "code",
   "execution_count": 24,
   "metadata": {},
   "outputs": [
    {
     "data": {
      "text/plain": [
       "4"
      ]
     },
     "execution_count": 24,
     "metadata": {},
     "output_type": "execute_result"
    }
   ],
   "source": [
    "nums=[1,0,1,0,1]\n",
    "goal=2\n",
    "\n",
    "# count the number of binary subarrays with sum<=goal.\n",
    "\n",
    "def binarySubarraySum1(nums,goal):\n",
    "    l,r=0,0\n",
    "    cnt=0\n",
    "    cur_sum=0\n",
    "    n=len(nums)\n",
    "    if goal<0:\n",
    "        return 0\n",
    "    while r<=n-1:\n",
    "        cur_sum+=nums[r]       # the no. of subarrays until that point in the array is equal to the length of the window                 \n",
    "        while cur_sum>goal:    # eg. if [1,0,1,0] is valid then subarrays are [1,0,1,0],[0,1,0],[1,0],[0] for the given window\n",
    "            cur_sum-=nums[l]\n",
    "            l+=1\n",
    "        cnt+=r-l+1\n",
    "        r+=1\n",
    "    return cnt\n",
    "\n",
    "# count number of binary subarrays with sum exactly equal to goal\n",
    "# for that we say for binary subarrays sum<=2 --> sum<=1 + sum==2.\n",
    "# we need to find subarrays with sum==2 . thus number of them  equals no. of subarrays (sum<=2) - no. of subarrays(sum<=1)\n",
    "\n",
    "def binarySubarraySum2(nums,goal):\n",
    "    cnt1=binarySubarraySum1(nums,goal)\n",
    "    cnt2=binarySubarraySum1(nums,goal-1)\n",
    "    return cnt1-cnt2\n",
    "\n",
    "binarySubarraySum2(nums,goal)\n"
   ]
  },
  {
   "cell_type": "code",
   "execution_count": 9,
   "metadata": {},
   "outputs": [
    {
     "data": {
      "text/plain": [
       "16"
      ]
     },
     "execution_count": 9,
     "metadata": {},
     "output_type": "execute_result"
    }
   ],
   "source": [
    "nums = [2,2,2,1,2,2,1,2,2,2]\n",
    "k = 2\n",
    "\n",
    "# function to calculate no. of subarrays with sum<=k\n",
    "\n",
    "def binarySumSubarray(nums,k):\n",
    "    l,r=0,0\n",
    "    n=len(nums)\n",
    "    cur_sum=0\n",
    "    cnt=0\n",
    "    while r<=n-1:\n",
    "        cur_sum+=nums[r]\n",
    "        if cur_sum>k:\n",
    "            while cur_sum>k:\n",
    "                cur_sum-=nums[l]\n",
    "                l+=1\n",
    "        cnt+=r-l+1           # gives no. of subarrays when cur_sum<=k\n",
    "        r+=1\n",
    "    return cnt\n",
    "\n",
    "# count number of 'nice' subarrays with exactly k odd elements\n",
    "# converting problem into binary Subarrays with sum==goal\n",
    "\n",
    "def niceSubarray(nums,k):\n",
    "    for i in range(len(nums)):\n",
    "        if nums[i]%2==0:\n",
    "            nums[i]=0\n",
    "        else:\n",
    "            nums[i]=1\n",
    "    return binarySumSubarray(nums,k)-binarySumSubarray(nums,k-1)\n",
    "\n",
    "niceSubarray(nums,k)\n",
    "    "
   ]
  },
  {
   "cell_type": "code",
   "execution_count": 36,
   "metadata": {},
   "outputs": [
    {
     "data": {
      "text/plain": [
       "10"
      ]
     },
     "execution_count": 36,
     "metadata": {},
     "output_type": "execute_result"
    }
   ],
   "source": [
    "def numberOfSubstrings(s: str) -> int:\n",
    "    def atMostTwoDistinct(s):\n",
    "        l = r = 0\n",
    "        n = len(s)\n",
    "        char_count = {}\n",
    "        cnt = 0\n",
    "        \n",
    "        while r < n:\n",
    "            # Add the character at r to the current window\n",
    "            if s[r] not in char_count:\n",
    "                char_count[s[r]]=0\n",
    "            char_count[s[r]]+=1\n",
    "            \n",
    "            # If we have more than two distinct characters, shrink the window\n",
    "            while len(char_count) > 2:\n",
    "                char_count[s[l]] -= 1\n",
    "                if char_count[s[l]] == 0:\n",
    "                    del char_count[s[l]]\n",
    "                l += 1\n",
    "            \n",
    "            # Count all substrings ending at r\n",
    "            cnt += r - l + 1\n",
    "            r += 1\n",
    "        \n",
    "        return cnt\n",
    "    \n",
    "    n = len(s)\n",
    "    total_substrings = (n * (n + 1)) // 2\n",
    "    at_most_two_substrings = atMostTwoDistinct(s)\n",
    "    \n",
    "    # no.of substrings with all 3 characters = Total no. of substrings - no. of substrings with at most 2 characters\n",
    "    return total_substrings - at_most_two_substrings\n",
    "\n",
    "s='abcabc'\n",
    "numberOfSubstrings(s)\n"
   ]
  },
  {
   "cell_type": "code",
   "execution_count": null,
   "metadata": {},
   "outputs": [],
   "source": []
  }
 ],
 "metadata": {
  "kernelspec": {
   "display_name": "Python 3",
   "language": "python",
   "name": "python3"
  },
  "language_info": {
   "codemirror_mode": {
    "name": "ipython",
    "version": 3
   },
   "file_extension": ".py",
   "mimetype": "text/x-python",
   "name": "python",
   "nbconvert_exporter": "python",
   "pygments_lexer": "ipython3",
   "version": "3.12.3"
  }
 },
 "nbformat": 4,
 "nbformat_minor": 2
}
