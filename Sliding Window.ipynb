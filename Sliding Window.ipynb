{
 "cells": [
  {
   "cell_type": "code",
   "execution_count": null,
   "metadata": {},
   "outputs": [],
   "source": [
    "# find the longest substring without repeating characters\n",
    "# Variable length sliding window\n",
    "\n",
    "s='abcabcbb'\n",
    "def longestSubstring(s):\n",
    "    left=0\n",
    "    st=set()\n",
    "    length=0\n",
    "    max_length=0\n",
    "    for right in range(len(s)):\n",
    "        while s[right] in st:\n",
    "            st.remove(s[left])\n",
    "            left+=1\n",
    "\n",
    "        length=(right-left)+1\n",
    "        max_length=max(max_length,length)\n",
    "        st.add(s[right])\n",
    "    return max_length\n",
    "longestSubstring(s)\n",
    "        \n"
   ]
  },
  {
   "cell_type": "code",
   "execution_count": null,
   "metadata": {},
   "outputs": [],
   "source": [
    "# Find the subarray of length k with maximum average \n",
    "# Fixed Length sliding window\n",
    "\n",
    "def maxaverage(nums,k):\n",
    "    cur_sum=sum(nums[0:k])\n",
    "    max_avg=cur_sum/k\n",
    "\n",
    "    for i in range(k,len(nums)):\n",
    "        cur_sum+=nums[i]\n",
    "        cur_sum-=nums[i-k]\n",
    "        avg=cur_sum/k\n",
    "        max_avg=max(max_avg,avg)\n",
    "        \n",
    "    return max_avg\n",
    "\n",
    "nums=[1,12,-5,-6,50,3]\n",
    "k=4\n",
    "maxaverage(nums,k)"
   ]
  }
 ],
 "metadata": {
  "kernelspec": {
   "display_name": "Python 3",
   "language": "python",
   "name": "python3"
  },
  "language_info": {
   "codemirror_mode": {
    "name": "ipython",
    "version": 3
   },
   "file_extension": ".py",
   "mimetype": "text/x-python",
   "name": "python",
   "nbconvert_exporter": "python",
   "pygments_lexer": "ipython3",
   "version": "3.12.3"
  }
 },
 "nbformat": 4,
 "nbformat_minor": 2
}
