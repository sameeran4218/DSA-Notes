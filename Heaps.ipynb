{
 "cells": [
  {
   "cell_type": "markdown",
   "id": "7bdf26d1",
   "metadata": {},
   "source": [
    "min-heap and max-heap arrays represent the preorder traversal of the binary tree."
   ]
  },
  {
   "cell_type": "markdown",
   "id": "550d5895",
   "metadata": {},
   "source": [
    "heapq library only supports min-heap. to build a max-heap we can just negate the values."
   ]
  },
  {
   "cell_type": "code",
   "execution_count": 49,
   "id": "658e7a9d",
   "metadata": {},
   "outputs": [
    {
     "data": {
      "text/plain": [
       "[-4, 0, 1, 3, 2, 5, 10, 8, 12, 9]"
      ]
     },
     "execution_count": 49,
     "metadata": {},
     "output_type": "execute_result"
    }
   ],
   "source": [
    "# Build Min Heap (Heapify)\n",
    "# TC: O(n) SC: O(1) arranges in place\n",
    "\n",
    "import heapq\n",
    "arr=[-4,3,1,0,2,5,10,8,12,9]\n",
    "heapq.heapify(arr)\n",
    "arr"
   ]
  },
  {
   "cell_type": "code",
   "execution_count": null,
   "id": "8218310b",
   "metadata": {},
   "outputs": [
    {
     "data": {
      "text/plain": [
       "[-4, 0, 1, 3, 2, 5, 10, 8, 12, 9, 7]"
      ]
     },
     "execution_count": 50,
     "metadata": {},
     "output_type": "execute_result"
    }
   ],
   "source": [
    "# Heap Push\n",
    "# Insert an element. TC O(log n) SC: O(1)\n",
    "\n",
    "heapq.heappush(arr, 7)\n",
    "arr\n",
    "print(arr[0]) # peek the min element"
   ]
  },
  {
   "cell_type": "code",
   "execution_count": 51,
   "id": "4e57f67e",
   "metadata": {},
   "outputs": [
    {
     "data": {
      "text/plain": [
       "-4"
      ]
     },
     "execution_count": 51,
     "metadata": {},
     "output_type": "execute_result"
    }
   ],
   "source": [
    "# Extract Min\n",
    "# Remove the smallest element. TC O(log n) SC: O(1)\n",
    "mini=heapq.heappop(arr)\n",
    "mini"
   ]
  },
  {
   "cell_type": "code",
   "execution_count": 52,
   "id": "603b9c85",
   "metadata": {},
   "outputs": [
    {
     "data": {
      "text/plain": [
       "[0, 1, 2, 3, 5, 7, 8, 9, 10, 12]"
      ]
     },
     "execution_count": 52,
     "metadata": {},
     "output_type": "execute_result"
    }
   ],
   "source": [
    "# Heap Sort\n",
    "# Sort the array in ascending order. TC O(n log n) SC: O(n)\n",
    "ans=[0]*len(arr)\n",
    "for i in range(len(arr)):\n",
    "    ans[i]=heapq.heappop(arr)\n",
    "ans"
   ]
  },
  {
   "cell_type": "code",
   "execution_count": 53,
   "id": "69d4e979",
   "metadata": {},
   "outputs": [
    {
     "data": {
      "text/plain": [
       "12"
      ]
     },
     "execution_count": 53,
     "metadata": {},
     "output_type": "execute_result"
    }
   ],
   "source": [
    "# Max Heap\n",
    "# Invert the sign of the elements in the array\n",
    "arr=[-4,3,1,0,2,5,10,8,12,9]\n",
    "for i in range(len(arr)):\n",
    "    arr[i]=-arr[i]\n",
    "max_heap=heapq.heapify(arr)\n",
    "largest=-heapq.heappop(arr)\n",
    "largest"
   ]
  },
  {
   "cell_type": "code",
   "execution_count": 54,
   "id": "04de344e",
   "metadata": {},
   "outputs": [
    {
     "data": {
      "text/plain": [
       "[-4, 0, 1, 3, 2, 5, 10, 8, 12, 9]"
      ]
     },
     "execution_count": 54,
     "metadata": {},
     "output_type": "execute_result"
    }
   ],
   "source": [
    "# Build heap from scratch. When we have to add elements one by one\n",
    "# TC: O(nlog n) SC: O(n)\n",
    "arr=[-4,3,1,0,2,5,10,8,12,9]\n",
    "heap = []\n",
    "for i in arr:\n",
    "    heapq.heappush(heap, i)\n",
    "heap"
   ]
  }
 ],
 "metadata": {
  "kernelspec": {
   "display_name": "Python 3",
   "language": "python",
   "name": "python3"
  },
  "language_info": {
   "codemirror_mode": {
    "name": "ipython",
    "version": 3
   },
   "file_extension": ".py",
   "mimetype": "text/x-python",
   "name": "python",
   "nbconvert_exporter": "python",
   "pygments_lexer": "ipython3",
   "version": "3.12.3"
  }
 },
 "nbformat": 4,
 "nbformat_minor": 5
}
