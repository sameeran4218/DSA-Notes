{
 "cells": [
  {
   "cell_type": "markdown",
   "metadata": {},
   "source": [
    "# Recursion"
   ]
  },
  {
   "cell_type": "code",
   "execution_count": 5,
   "metadata": {},
   "outputs": [
    {
     "name": "stdout",
     "output_type": "stream",
     "text": [
      "1 2 3 4 5 "
     ]
    }
   ],
   "source": [
    "# print numbers from 1 to n in inccreasing order\n",
    "def inc(n):\n",
    "    if n==1:\n",
    "        print(n,end=' ')\n",
    "        return\n",
    "    inc(n-1)\n",
    "    print(n,end=' ')\n",
    "inc(5)"
   ]
  },
  {
   "cell_type": "code",
   "execution_count": 2,
   "metadata": {},
   "outputs": [
    {
     "data": {
      "text/plain": [
       "3"
      ]
     },
     "execution_count": 2,
     "metadata": {},
     "output_type": "execute_result"
    }
   ],
   "source": [
    "# print nth fibonacci number\n",
    "def fib(n):\n",
    "    if n==0 or n==1:\n",
    "        return n\n",
    "    temp1=fib(n-1)\n",
    "    temp2=fib(n-2)\n",
    "    return temp1+temp2\n",
    "fib(4)"
   ]
  },
  {
   "cell_type": "code",
   "execution_count": 14,
   "metadata": {},
   "outputs": [
    {
     "name": "stdout",
     "output_type": "stream",
     "text": [
      "128\n"
     ]
    }
   ],
   "source": [
    "# print a to the power n using recursion\n",
    "def pow(a,n):\n",
    "    if n==1:\n",
    "        return a\n",
    "    temp1=pow(a,n//2)\n",
    "    if n%2==0:\n",
    "        return temp1*temp1\n",
    "    else:\n",
    "        return temp1*temp1*a\n",
    "\n",
    "def power(a,n):\n",
    "    if n<0:\n",
    "        print(1/pow(a,abs(n)))\n",
    "    else:\n",
    "        print(pow(a,n))\n",
    "power(2,7)\n"
   ]
  },
  {
   "cell_type": "code",
   "execution_count": 1,
   "metadata": {},
   "outputs": [
    {
     "name": "stdout",
     "output_type": "stream",
     "text": [
      "True\n"
     ]
    }
   ],
   "source": [
    "# check if a string is palindrome or not \n",
    "def palindrome(s,start,end):\n",
    "    if start>=end:\n",
    "        return True\n",
    "    if s[start]==s[end]:\n",
    "        start+=1\n",
    "        end-=1\n",
    "        return palindrome(s, start, end)\n",
    "    else:\n",
    "        return False\n",
    "s='MALAYALAM'\n",
    "print(palindrome(s,0,len(s)-1))"
   ]
  },
  {
   "cell_type": "code",
   "execution_count": 6,
   "metadata": {},
   "outputs": [
    {
     "name": "stdout",
     "output_type": "stream",
     "text": [
      "89\n"
     ]
    }
   ],
   "source": [
    "# number of ways to reach the nth stair - can climb 1 or 2 stairs at a time\n",
    "# f(n)={f(n-1)+1}+{f(n-2)+2}\n",
    "def stairs(n):\n",
    "    if n==1 or n==2:\n",
    "        return n\n",
    "    temp1=stairs(n-1)\n",
    "    temp2=stairs(n-2)\n",
    "    return temp1+temp2\n",
    "print(stairs(10))"
   ]
  },
  {
   "cell_type": "code",
   "execution_count": 7,
   "metadata": {},
   "outputs": [
    {
     "name": "stdout",
     "output_type": "stream",
     "text": [
      "[6, 5, 4, 3, 2, 1]\n"
     ]
    }
   ],
   "source": [
    "# reverse an array\n",
    "def reverse(arr,start,end):\n",
    "    if start>=end:\n",
    "        return arr\n",
    "    arr[start],arr[end]=arr[end],arr[start]\n",
    "    start+=1\n",
    "    end-=1\n",
    "    return reverse(arr,start,end)\n",
    "arr=[1,2,3,4,5,6]\n",
    "print(reverse(arr,0,len(arr)-1))"
   ]
  },
  {
   "cell_type": "code",
   "execution_count": 22,
   "metadata": {},
   "outputs": [
    {
     "name": "stdout",
     "output_type": "stream",
     "text": [
      "abc ab ac a bc b c  "
     ]
    }
   ],
   "source": [
    "# all possible subsequences\n",
    "def subsequence(s,ans,index):\n",
    "    if len(s)==index:\n",
    "        print(ans,end=' ')\n",
    "        return\n",
    "    # include i\n",
    "    subsequence(s,ans+s[index],index+1)\n",
    "    # not include i\n",
    "    subsequence(s,ans,index+1)\n",
    "    return \n",
    "s='abc'\n",
    "ans=''\n",
    "index=0\n",
    "subsequence(s,ans,index)"
   ]
  },
  {
   "cell_type": "code",
   "execution_count": 23,
   "metadata": {},
   "outputs": [
    {
     "name": "stdout",
     "output_type": "stream",
     "text": [
      "[1, 2, 3]\n",
      "[1, 2]\n",
      "[1, 3]\n",
      "[1]\n",
      "[2, 3]\n",
      "[2]\n",
      "[3]\n",
      "[]\n"
     ]
    }
   ],
   "source": [
    "# all possible subsets\n",
    "def subset(arr,sub,index):\n",
    "    if index==len(arr):\n",
    "        print(sub)\n",
    "        return \n",
    "    # include i\n",
    "    sub.append(arr[index])\n",
    "    subset(arr,sub,index+1)\n",
    "    # not include i\n",
    "    sub.pop()\n",
    "    subset(arr,sub,index+1)\n",
    "    return \n",
    "arr=[1,2,3]\n",
    "sub=[]\n",
    "subset(arr,sub,0)\n"
   ]
  },
  {
   "cell_type": "code",
   "execution_count": 30,
   "metadata": {},
   "outputs": [
    {
     "data": {
      "text/plain": [
       "True"
      ]
     },
     "execution_count": 30,
     "metadata": {},
     "output_type": "execute_result"
    }
   ],
   "source": [
    "# if subset sum equal to target\n",
    "def subset(arr,tempSum,index,sum_req):\n",
    "    if sum_req==tempSum :\n",
    "        return True\n",
    "    if index>=len(arr):\n",
    "        return False\n",
    "    temp1=subset(arr,tempSum+arr[index],index+1,sum_req)\n",
    "    temp2=subset(arr,tempSum,index+1,sum_req)\n",
    "    return temp1 or temp2\n",
    "arr=[3,34,4,2,5,12]\n",
    "sum_req=9\n",
    "subset(arr,0,0,sum_req)\n"
   ]
  },
  {
   "cell_type": "code",
   "execution_count": 33,
   "metadata": {},
   "outputs": [
    {
     "name": "stdout",
     "output_type": "stream",
     "text": [
      "[2, 3, 1]\n",
      "[2, 3, 1]\n",
      "[2, 1, 3]\n",
      "[2, 1, 3]\n"
     ]
    }
   ],
   "source": [
    "# find all possible permutations \n",
    "def permute(arr,temp,index):\n",
    "    if index>=len(arr)-1:\n",
    "        print(temp)\n",
    "        return\n",
    "    # swap index with index+1\n",
    "    temp=arr\n",
    "    temp[index],temp[index+1]=temp[index+1],temp[index]\n",
    "    permute(arr,temp,index+1)\n",
    "    # dont swap index\n",
    "    permute(arr,temp,index+1)\n",
    "    return \n",
    "arr=[1,2,3]\n",
    "temp=[]\n",
    "index=0\n",
    "permute(arr,temp,index)"
   ]
  },
  {
   "cell_type": "code",
   "execution_count": null,
   "metadata": {},
   "outputs": [],
   "source": []
  }
 ],
 "metadata": {
  "kernelspec": {
   "display_name": "Python 3",
   "language": "python",
   "name": "python3"
  },
  "language_info": {
   "codemirror_mode": {
    "name": "ipython",
    "version": 3
   },
   "file_extension": ".py",
   "mimetype": "text/x-python",
   "name": "python",
   "nbconvert_exporter": "python",
   "pygments_lexer": "ipython3",
   "version": "3.12.3"
  }
 },
 "nbformat": 4,
 "nbformat_minor": 2
}
