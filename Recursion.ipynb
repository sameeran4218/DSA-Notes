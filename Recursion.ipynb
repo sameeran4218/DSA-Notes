{
 "cells": [
  {
   "cell_type": "code",
   "execution_count": 29,
   "metadata": {},
   "outputs": [
    {
     "data": {
      "text/plain": [
       "True"
      ]
     },
     "execution_count": 29,
     "metadata": {},
     "output_type": "execute_result"
    }
   ],
   "source": [
    "s = \" \"\n",
    "s=s.lower()\n",
    "# Create a set of lowercase alphabets and numbers\n",
    "alpha= set('abcdefghijklmnopqrstuvwxyz0123456789')\n",
    "t=''\n",
    "for i in range(len(s)):\n",
    "    if s[i] not in alpha:\n",
    "        continue\n",
    "    t+=s[i]\n",
    "\n",
    "i,j=0,len(t)-1\n",
    "def validPalindrome(t,i,j):\n",
    "    if j<=i:\n",
    "        return True\n",
    "    if t[i]==t[j]:\n",
    "        return validPalindrome(t,i+1,j-1)\n",
    "\n",
    "    else:\n",
    "        return False\n",
    "validPalindrome(t,i,j)\n",
    "        \n",
    "\n"
   ]
  }
 ],
 "metadata": {
  "kernelspec": {
   "display_name": "Python 3",
   "language": "python",
   "name": "python3"
  },
  "language_info": {
   "codemirror_mode": {
    "name": "ipython",
    "version": 3
   },
   "file_extension": ".py",
   "mimetype": "text/x-python",
   "name": "python",
   "nbconvert_exporter": "python",
   "pygments_lexer": "ipython3",
   "version": "3.12.3"
  }
 },
 "nbformat": 4,
 "nbformat_minor": 2
}
