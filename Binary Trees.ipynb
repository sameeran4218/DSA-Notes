{
 "cells": [
  {
   "cell_type": "markdown",
   "metadata": {},
   "source": [
    "# Binary Trees"
   ]
  },
  {
   "cell_type": "code",
   "execution_count": 1,
   "metadata": {},
   "outputs": [],
   "source": [
    "# How to create a binary tree\n",
    "\n",
    "class BT:\n",
    "    def __init__(self,val):\n",
    "        self.left=None\n",
    "        self.right=None\n",
    "        self.val=val\n",
    "root=BT(1)\n",
    "child1=BT(2)\n",
    "child2=BT(3)\n",
    "root.left=child1\n",
    "root.right=child2"
   ]
  },
  {
   "cell_type": "code",
   "execution_count": null,
   "metadata": {},
   "outputs": [],
   "source": [
    "# Preorder Traversal\n",
    "\n",
    "def preorder(root):\n",
    "    if not root:\n",
    "        return \n",
    "    print(root.val)\n",
    "    preorder(root.left)\n",
    "    preorder(root.right)\n",
    "preorder(root)"
   ]
  },
  {
   "cell_type": "code",
   "execution_count": null,
   "metadata": {},
   "outputs": [],
   "source": [
    "# Inorder Traversal\n",
    "\n",
    "def inorder(root):\n",
    "    if not root:\n",
    "        return\n",
    "    inorder(root.left)\n",
    "    print(root.val)\n",
    "    inorder(root.right)\n",
    "inorder(root)"
   ]
  },
  {
   "cell_type": "code",
   "execution_count": null,
   "metadata": {},
   "outputs": [],
   "source": [
    "# Postorder Traversal\n",
    "\n",
    "def postorder(root):\n",
    "    if not root:\n",
    "        return \n",
    "    postorder(root.left)\n",
    "    postorder(root.right)\n",
    "    print(root.val)\n",
    "postorder(root)"
   ]
  },
  {
   "cell_type": "code",
   "execution_count": null,
   "metadata": {},
   "outputs": [],
   "source": [
    "# Breadth First Search  - return result grouped level-wise\n",
    "\n",
    "from collections import deque\n",
    "def BFS(root):\n",
    "    if not root:\n",
    "        return []\n",
    "    q=deque([root])\n",
    "    ans=[]\n",
    "    while q:\n",
    "        level=[]\n",
    "        for _ in range(len(q)):\n",
    "            node=q.popleft()\n",
    "            level.append(node.val)\n",
    "            if node.left:\n",
    "                q.append(node.left)\n",
    "            if node.right:\n",
    "                q.append(node.right)\n",
    "        ans.append(level)\n",
    "    return ans"
   ]
  },
  {
   "cell_type": "code",
   "execution_count": null,
   "metadata": {},
   "outputs": [],
   "source": [
    "# Iterative Preorder Traversal\n",
    "\n",
    "from collections import deque\n",
    "class Solution:\n",
    "    def preorderTraversal(root):\n",
    "        if not root:\n",
    "            return []\n",
    "        ans=[]\n",
    "        stack=deque([root])\n",
    "        while stack:\n",
    "            ele=stack.pop()\n",
    "            ans.append(ele.val)\n",
    "            if ele.right:\n",
    "                stack.append(ele.right)\n",
    "            if ele.left:\n",
    "                stack.append(ele.left)    \n",
    "        return ans"
   ]
  },
  {
   "cell_type": "code",
   "execution_count": null,
   "metadata": {},
   "outputs": [],
   "source": [
    "# Iterative Inorder Traversal\n",
    "\n",
    "from collections import deque\n",
    "class Solution:\n",
    "    def inorderTraversal(root):\n",
    "        stack=deque()\n",
    "        ans=[]\n",
    "        while True:\n",
    "            if root:\n",
    "                stack.append(root)\n",
    "                root=root.left\n",
    "            else:\n",
    "                if not stack:\n",
    "                    break\n",
    "                ele=stack.pop()\n",
    "                ans.append(ele.val)\n",
    "                root=ele.right\n",
    "        return ans"
   ]
  },
  {
   "cell_type": "code",
   "execution_count": null,
   "metadata": {},
   "outputs": [],
   "source": [
    "# Iterative Postorder Traversal - 2 stacks\n",
    "\n",
    "from collections import deque\n",
    "class Solution:\n",
    "    def postorderTraversal(root):\n",
    "        if not root:\n",
    "            return []\n",
    "        ans=[]\n",
    "        st1=deque([root])\n",
    "        st2=deque()\n",
    "        while st1:\n",
    "            ele=st1.pop()\n",
    "            st2.append(ele)\n",
    "            if ele.left:\n",
    "                st1.append(ele.left)\n",
    "            if ele.right:\n",
    "                st1.append(ele.right)\n",
    "        while st2:\n",
    "            ele=st2.pop()\n",
    "            ans.append(ele.val)\n",
    "        return ans"
   ]
  },
  {
   "cell_type": "code",
   "execution_count": null,
   "metadata": {},
   "outputs": [],
   "source": [
    "# Iterative Postorder Traversal - 1 stack\n",
    "\n",
    "from collections import deque\n",
    "class Solution:\n",
    "    def postorderTraversal(root):\n",
    "        if not root:\n",
    "            return []\n",
    "        ans=[]\n",
    "        st=deque()\n",
    "        while root or st:\n",
    "            if root:\n",
    "                st.append(root)\n",
    "                root=root.left\n",
    "            else:\n",
    "                temp=st[-1].right\n",
    "                if temp:\n",
    "                    root=temp\n",
    "                else:\n",
    "                   temp=st.pop()\n",
    "                   ans.append(temp.val)\n",
    "                   while st and temp==st[-1].right:\n",
    "                        temp=st.pop()\n",
    "                        ans.append(temp.val)\n",
    "        return ans"
   ]
  },
  {
   "cell_type": "code",
   "execution_count": null,
   "metadata": {},
   "outputs": [],
   "source": [
    "# Height of Binary Tree\n",
    "# height of a given node is 1 + max height of nodes to left and nodes to right\n",
    "\n",
    "def maxDepth(root):\n",
    "    def height(root):\n",
    "        if not root:\n",
    "            return 0\n",
    "        temp1=height(root.left)\n",
    "        temp2=height(root.right)\n",
    "        return 1+max(temp1,temp2)\n",
    "    return height(root)"
   ]
  },
  {
   "cell_type": "code",
   "execution_count": null,
   "metadata": {},
   "outputs": [],
   "source": [
    "# Height Balanced Tree\n",
    "# depth of two subtrees of each node doesnt differ by more than 1\n",
    "\n",
    "def isBalanced(root):\n",
    "    def height(root):\n",
    "        if not root:\n",
    "            return 0\n",
    "        leftht=height(root.left)\n",
    "        rightht=height(root.right)\n",
    "        if abs(leftht-rightht)>1 or leftht<0 or rightht<0:\n",
    "            return -1\n",
    "        return 1+max(leftht,rightht)\n",
    "    return height(root)>=0"
   ]
  },
  {
   "cell_type": "code",
   "execution_count": null,
   "metadata": {},
   "outputs": [],
   "source": [
    "# Diameter of Binary Tree - max distance between any two nodes\n",
    "\n",
    "class Solution:\n",
    "    def height(self,root,dia):\n",
    "        if not root:\n",
    "            return 0\n",
    "        lh=self.height(root.left,dia)\n",
    "        rh=self.height(root.right,dia)\n",
    "        dia[0]=max(dia[0],lh+rh)\n",
    "        return 1+max(lh,rh)\n",
    "    def diameterOfBinaryTree(self,root):\n",
    "        dia=[0]\n",
    "        self.height(root,dia)\n",
    "        return dia[0]"
   ]
  },
  {
   "cell_type": "code",
   "execution_count": null,
   "metadata": {},
   "outputs": [],
   "source": [
    "# Zig Zag Traversal of Binary Tree\n",
    "\n",
    "from collections import deque\n",
    "class Solution:\n",
    "    def zigzagLevelOrder(root):\n",
    "        if not root:\n",
    "            return []\n",
    "        ans=[]\n",
    "        cnt=0\n",
    "        q=deque([root])\n",
    "        while q:\n",
    "            levels=[]\n",
    "            sz=len(q)\n",
    "            for i in range(sz):\n",
    "                ele=q.popleft()\n",
    "                levels.append(ele.val)\n",
    "                if ele.left:\n",
    "                    q.append(ele.left)\n",
    "                if ele.right:\n",
    "                    q.append(ele.right)\n",
    "            if cnt%2==0:\n",
    "                ans.append(levels) \n",
    "            else:\n",
    "                ans.append(levels[::-1]) # reverse order for odd cnt\n",
    "            cnt+=1\n",
    "        return ans"
   ]
  },
  {
   "cell_type": "code",
   "execution_count": null,
   "metadata": {},
   "outputs": [],
   "source": [
    "# Check if two trees are identical\n",
    "\n",
    "def isSameTree(p,q):\n",
    "    def preorder(p,q):\n",
    "        if not p and not q:\n",
    "            return True\n",
    "        if not p or not q:\n",
    "            return False\n",
    "        if p.val!=q.val:\n",
    "            return False\n",
    "        return preorder(p.left,q.left) and preorder(p.right,q.right)\n",
    "    return preorder(p,q)"
   ]
  },
  {
   "cell_type": "code",
   "execution_count": null,
   "metadata": {},
   "outputs": [],
   "source": [
    "# Invert a binary tree about its vertical axis\n",
    "def invert(root):\n",
    "    if not root:\n",
    "        return\n",
    "    root.left,root.right=root.right,root.left\n",
    "    invert(root.left)\n",
    "    invert(root.right)     "
   ]
  },
  {
   "cell_type": "code",
   "execution_count": null,
   "metadata": {},
   "outputs": [],
   "source": [
    "# Check if a binary tree is mirror of itself about the vertical axis\n",
    "def isSymmetric(root):\n",
    "    def mirror(p,q):\n",
    "        if not p and not q:\n",
    "            return True\n",
    "        if not p or not q:\n",
    "            return False\n",
    "        return p.val==q.val and mirror(p.left,q.right) and mirror(p.right,q.left)\n",
    "    return mirror(root.left,root.right)"
   ]
  }
 ],
 "metadata": {
  "kernelspec": {
   "display_name": "Python 3",
   "language": "python",
   "name": "python3"
  },
  "language_info": {
   "codemirror_mode": {
    "name": "ipython",
    "version": 3
   },
   "file_extension": ".py",
   "mimetype": "text/x-python",
   "name": "python",
   "nbconvert_exporter": "python",
   "pygments_lexer": "ipython3",
   "version": "3.12.3"
  }
 },
 "nbformat": 4,
 "nbformat_minor": 2
}
