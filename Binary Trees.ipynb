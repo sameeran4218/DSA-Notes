{
 "cells": [
  {
   "cell_type": "markdown",
   "metadata": {},
   "source": [
    "# Binary Trees"
   ]
  },
  {
   "cell_type": "code",
   "execution_count": 1,
   "metadata": {},
   "outputs": [],
   "source": [
    "# How to create a binary tree\n",
    "\n",
    "class BT:\n",
    "    def __init__(self,val):\n",
    "        self.left=None\n",
    "        self.right=None\n",
    "        self.val=val\n",
    "root=BT(1)\n",
    "child1=BT(2)\n",
    "child2=BT(3)\n",
    "root.left=child1\n",
    "root.right=child2"
   ]
  },
  {
   "cell_type": "code",
   "execution_count": null,
   "metadata": {},
   "outputs": [],
   "source": [
    "# Preorder Traversal\n",
    "\n",
    "def preorder(root):\n",
    "    if not root:\n",
    "        return \n",
    "    print(root.val)\n",
    "    preorder(root.left)\n",
    "    preorder(root.right)\n",
    "preorder(root)"
   ]
  },
  {
   "cell_type": "code",
   "execution_count": null,
   "metadata": {},
   "outputs": [],
   "source": [
    "# Inorder Traversal\n",
    "\n",
    "def inorder(root):\n",
    "    if not root:\n",
    "        return\n",
    "    inorder(root.left)\n",
    "    print(root.val)\n",
    "    inorder(root.right)\n",
    "inorder(root)"
   ]
  },
  {
   "cell_type": "code",
   "execution_count": null,
   "metadata": {},
   "outputs": [],
   "source": [
    "# Postorder Traversal\n",
    "\n",
    "def postorder(root):\n",
    "    if not root:\n",
    "        return \n",
    "    postorder(root.left)\n",
    "    postorder(root.right)\n",
    "    print(root.val)\n",
    "postorder(root)"
   ]
  },
  {
   "cell_type": "code",
   "execution_count": null,
   "metadata": {},
   "outputs": [],
   "source": [
    "# Breadth First Search  - return result grouped level-wise\n",
    "\n",
    "from collections import deque\n",
    "def BFS(root):\n",
    "    if not root:\n",
    "        return []\n",
    "    q=deque([root])\n",
    "    ans=[]\n",
    "    while q:\n",
    "        level=[]\n",
    "        for _ in range(len(q)):\n",
    "            node=q.popleft()\n",
    "            level.append(node.val)\n",
    "            if node.left:\n",
    "                q.append(node.left)\n",
    "            if node.right:\n",
    "                q.append(node.right)\n",
    "        ans.append(level)\n",
    "    return ans"
   ]
  },
  {
   "cell_type": "code",
   "execution_count": null,
   "metadata": {},
   "outputs": [],
   "source": [
    "# Iterative Preorder Traversal\n",
    "\n",
    "from collections import deque\n",
    "class Solution:\n",
    "    def preorderTraversal(root):\n",
    "        if not root:\n",
    "            return []\n",
    "        ans=[]\n",
    "        stack=deque([root])\n",
    "        while stack:\n",
    "            ele=stack.pop()\n",
    "            ans.append(ele.val)\n",
    "            if ele.right:\n",
    "                stack.append(ele.right)\n",
    "            if ele.left:\n",
    "                stack.append(ele.left)    \n",
    "        return ans"
   ]
  },
  {
   "cell_type": "code",
   "execution_count": null,
   "metadata": {},
   "outputs": [],
   "source": [
    "# Iterative Inorder Traversal\n",
    "\n",
    "from collections import deque\n",
    "class Solution:\n",
    "    def inorderTraversal(root):\n",
    "        stack=deque()\n",
    "        ans=[]\n",
    "        while True:\n",
    "            if root:\n",
    "                stack.append(root)\n",
    "                root=root.left\n",
    "            else:\n",
    "                if not stack:\n",
    "                    break\n",
    "                ele=stack.pop()\n",
    "                ans.append(ele.val)\n",
    "                root=ele.right\n",
    "        return ans"
   ]
  },
  {
   "cell_type": "code",
   "execution_count": null,
   "metadata": {},
   "outputs": [],
   "source": [
    "# Iterative Postorder Traversal - 2 stacks\n",
    "\n",
    "from collections import deque\n",
    "class Solution:\n",
    "    def postorderTraversal(root):\n",
    "        if not root:\n",
    "            return []\n",
    "        ans=[]\n",
    "        st1=deque([root])\n",
    "        st2=deque()\n",
    "        while st1:\n",
    "            ele=st1.pop()\n",
    "            st2.append(ele)\n",
    "            if ele.left:\n",
    "                st1.append(ele.left)\n",
    "            if ele.right:\n",
    "                st1.append(ele.right)\n",
    "        while st2:\n",
    "            ele=st2.pop()\n",
    "            ans.append(ele.val)\n",
    "        return ans"
   ]
  }
 ],
 "metadata": {
  "kernelspec": {
   "display_name": "Python 3",
   "language": "python",
   "name": "python3"
  },
  "language_info": {
   "codemirror_mode": {
    "name": "ipython",
    "version": 3
   },
   "file_extension": ".py",
   "mimetype": "text/x-python",
   "name": "python",
   "nbconvert_exporter": "python",
   "pygments_lexer": "ipython3",
   "version": "3.12.3"
  }
 },
 "nbformat": 4,
 "nbformat_minor": 2
}
