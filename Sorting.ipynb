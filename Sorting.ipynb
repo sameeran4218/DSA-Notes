{
 "cells": [
  {
   "cell_type": "markdown",
   "metadata": {},
   "source": [
    "## Sorting"
   ]
  },
  {
   "cell_type": "code",
   "execution_count": null,
   "metadata": {},
   "outputs": [],
   "source": [
    "## Bubble Sort\n",
    "\n",
    "def bubble_sort(arr):\n",
    "    size=len(arr)\n",
    "    for i in range(size-1):\n",
    "        for j in range(size-1-i):\n",
    "            if arr[j]>arr[j+1]:\n",
    "                arr[j],arr[j+1]=arr[j+1],arr[j]\n",
    "    return arr\n",
    "\n",
    "arr=[5,67,1,2,34,88,23]\n",
    "print(bubble_sort(arr))"
   ]
  },
  {
   "cell_type": "code",
   "execution_count": null,
   "metadata": {},
   "outputs": [],
   "source": [
    "## Selection Sort\n",
    "\n",
    "def selection_sort(arr):\n",
    "    size=len(arr)\n",
    "    for i in range(size-1):\n",
    "        min_index=i\n",
    "        for j in range(min_index+1,size):\n",
    "            if arr[j]<arr[min_index]:\n",
    "                min_index=j\n",
    "        arr[i],arr[min_index]=arr[min_index],arr[i]\n",
    "    return arr\n",
    "\n",
    "arr=[5,67,1,2,34,88,23]\n",
    "print(selection_sort(arr))"
   ]
  },
  {
   "cell_type": "code",
   "execution_count": null,
   "metadata": {},
   "outputs": [],
   "source": [
    "## Insertion Sort\n",
    "\n",
    "def insertion_sort(arr):\n",
    "    size=len(arr)\n",
    "    for i in range(1,size):\n",
    "        anchor=arr[i]\n",
    "        j=i-1\n",
    "        while j>=0 and anchor<arr[j]:\n",
    "            arr[j+1]=arr[j]\n",
    "            j=j-1\n",
    "        arr[j+1]=anchor\n",
    "    return arr\n",
    "\n",
    "arr=[5,67,1,2,34,88,23]\n",
    "print(insertion_sort(arr))"
   ]
  },
  {
   "cell_type": "code",
   "execution_count": null,
   "metadata": {},
   "outputs": [],
   "source": [
    "## Merge Sort\n",
    "\n",
    "def merge_sort(arr):\n",
    "    if len(arr)==1:\n",
    "        return \n",
    "    mid=len(arr)//2\n",
    "    left=arr[:mid]\n",
    "    right=arr[mid:]\n",
    "    merge_sort(left)\n",
    "    merge_sort(right)\n",
    "    return merge_sort_two_arrays(left,right,arr)\n",
    "\n",
    "def merge_sort_two_arrays(arr1,arr2,arr):\n",
    "    # both arrays must be sorted\n",
    "    size1,size2=len(arr1),len(arr2)\n",
    "    i,j,k=0,0,0\n",
    "    while i<size1 and j <size2:\n",
    "        if arr1[i]<=arr2[j]:\n",
    "            arr[k]=arr1[i]\n",
    "            k+=1\n",
    "            i+=1\n",
    "        else:\n",
    "            arr[k]=arr2[j]\n",
    "            k+=1\n",
    "            j+=1\n",
    "    while i<size1:\n",
    "        arr[k]=arr1[i]\n",
    "        k+=1\n",
    "        i+=1\n",
    "    while j<size2:\n",
    "        arr[k]=arr2[j]\n",
    "        k+=1\n",
    "        j+=1\n",
    "    return arr\n",
    "\n",
    "arr=[5,67,1,2,34,88,23]\n",
    "print(merge_sort(arr))"
   ]
  },
  {
   "cell_type": "code",
   "execution_count": null,
   "metadata": {},
   "outputs": [],
   "source": [
    "## Quick Sort\n",
    "\n",
    "def quick_sort(elements, start, end):\n",
    "    if start < end:\n",
    "        pi = partition(elements, start, end)\n",
    "        quick_sort(elements, start, pi-1)\n",
    "        quick_sort(elements, pi+1, end)\n",
    "    return elements\n",
    "\n",
    "def partition(elements, start, end):\n",
    "    pivot_index = start\n",
    "    pivot = elements[pivot_index]\n",
    "\n",
    "    while start < end:\n",
    "        while start < len(elements) and elements[start] <= pivot:\n",
    "            start+=1\n",
    "\n",
    "        while elements[end] > pivot:\n",
    "            end-=1\n",
    "\n",
    "        if start < end:\n",
    "            elements[start],elements[end]=elements[end],elements[start]\n",
    "\n",
    "    elements[pivot_index],elements[end]=elements[end],elements[pivot_index]\n",
    "\n",
    "    return end\n",
    "\n",
    "elements = [11,9,29,7,2,15,28]\n",
    "print(quick_sort(elements, 0, len(elements)-1))"
   ]
  }
 ],
 "metadata": {
  "kernelspec": {
   "display_name": "Python 3",
   "language": "python",
   "name": "python3"
  },
  "language_info": {
   "codemirror_mode": {
    "name": "ipython",
    "version": 3
   },
   "file_extension": ".py",
   "mimetype": "text/x-python",
   "name": "python",
   "nbconvert_exporter": "python",
   "pygments_lexer": "ipython3",
   "version": "3.12.0"
  }
 },
 "nbformat": 4,
 "nbformat_minor": 2
}
