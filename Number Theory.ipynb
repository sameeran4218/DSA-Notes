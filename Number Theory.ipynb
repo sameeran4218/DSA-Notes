{
 "cells": [
  {
   "cell_type": "markdown",
   "metadata": {},
   "source": [
    "# Number Thoery"
   ]
  },
  {
   "cell_type": "code",
   "execution_count": null,
   "metadata": {},
   "outputs": [],
   "source": [
    "## GCD of two numbers - Euclidean Algorithm\n",
    "# GCD of n1 and n2 is the same as GCD of n1 and n2-n1 and so on until the numbers become equal or n2<n1\n",
    "#LCM *GCD = n1*n2\n",
    "def gcd(n1,n2):\n",
    "    if n1==n2:\n",
    "        return n1\n",
    "    if n2<n1:\n",
    "        return n2\n",
    "    else:\n",
    "        return gcd(n1,n2-n1)\n",
    "a=12\n",
    "b=18\n",
    "gcd=gcd(a,b)\n",
    "print('GCD=',gcd)\n",
    "print('LCM=',(a*b)/gcd)"
   ]
  },
  {
   "cell_type": "code",
   "execution_count": null,
   "metadata": {},
   "outputs": [],
   "source": [
    "# Check for Prime in O(sqrt(n))\n",
    "# if i is a factor then n/i is also a factor (if n/i not equal to i)\n",
    "import math\n",
    "def isprime(n):\n",
    "    if n<=1:\n",
    "          return False\n",
    "    for i in range(2,int(math.sqrt(n)+1)):\n",
    "         if n%i==0:\n",
    "              return False\n",
    "    return True\n",
    "\n",
    "print(isprime(37))\n",
    "\n"
   ]
  },
  {
   "cell_type": "code",
   "execution_count": null,
   "metadata": {},
   "outputs": [],
   "source": [
    "# Find prime factors of a number in O(logn)\n",
    "import math\n",
    "def factors(n):\n",
    "    lst=[]\n",
    "    for i in range(2,int(math.sqrt(n))):\n",
    "        if n%i==0:\n",
    "            lst.append(i)\n",
    "            while(n%i==0):\n",
    "                n=n/i\n",
    "    if n!=1:\n",
    "        lst.append(n)\n",
    "    return lst\n",
    "\n",
    "lst=factors(37)\n",
    "print('prime factors=',lst)"
   ]
  }
 ],
 "metadata": {
  "kernelspec": {
   "display_name": "Python 3",
   "language": "python",
   "name": "python3"
  },
  "language_info": {
   "codemirror_mode": {
    "name": "ipython",
    "version": 3
   },
   "file_extension": ".py",
   "mimetype": "text/x-python",
   "name": "python",
   "nbconvert_exporter": "python",
   "pygments_lexer": "ipython3",
   "version": "3.12.0"
  }
 },
 "nbformat": 4,
 "nbformat_minor": 2
}
