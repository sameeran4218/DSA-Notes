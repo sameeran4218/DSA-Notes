{
 "cells": [
  {
   "cell_type": "markdown",
   "metadata": {},
   "source": [
    "# Two Pointers"
   ]
  },
  {
   "cell_type": "markdown",
   "metadata": {},
   "source": [
    "for i in range(n):\n",
    "    j=-i-1\n",
    " \n",
    "// This code i starts from 0 and goes till end of array .j starts from teh end and comes till the start index"
   ]
  },
  {
   "cell_type": "code",
   "execution_count": null,
   "metadata": {},
   "outputs": [],
   "source": [
    "# Two Pointers or Two Indices \n",
    "# choose any two indices as left and right and move them towards the center. the loop continues as long as left<right\n",
    "\n",
    "# sort the squares of a given array in O(n) time eg[-4,-1,0,3,10]\n",
    "\n",
    "def sort_squares(arr):\n",
    "    result=[]\n",
    "    left,right=0,len(arr)-1\n",
    "    while left<=right:\n",
    "        if abs(arr[left])>abs(arr[right]):\n",
    "            result.append(arr[left]**2)\n",
    "            left+=1\n",
    "        else:\n",
    "            result.append(arr[right]**2)\n",
    "            right-=1\n",
    "    result.reverse() # reverses array in place in O(n)\n",
    "    return result\n",
    "\n",
    "arr=[-4,-1,0,3,10]\n",
    "print(sort_squares(arr))"
   ]
  },
  {
   "cell_type": "code",
   "execution_count": null,
   "metadata": {},
   "outputs": [],
   "source": [
    "# Reverse a string \n",
    "\n",
    "def reverse_string(s):\n",
    "    left,right=0,len(s)-1\n",
    "    while left<=right:\n",
    "            s[left],s[right]=s[right],s[left]\n",
    "            left+=1\n",
    "            right-=1\n",
    "    return s\n",
    "\n",
    "s = list('hello')\n",
    "print(reverse_string(s))"
   ]
  },
  {
   "cell_type": "code",
   "execution_count": null,
   "metadata": {},
   "outputs": [],
   "source": [
    "# remove duplicates from a sorted array\n",
    "\n",
    "arr=[1,1,1,1,1,1,1,2,2,2,2,2,3,3,3,3,4,4,4,5]\n",
    "\n",
    "cnt=1\n",
    "for i in range(len(arr)-1):\n",
    "    if arr[i+1]>arr[i]:\n",
    "        cnt+=1\n",
    "\n",
    "def remove_duplicates(arr):\n",
    "    left,right=0,1\n",
    "    while right<=len(arr)-1:\n",
    "        if arr[left]==arr[right]:\n",
    "            del arr[right]\n",
    "        left+=1\n",
    "        right+=1\n",
    "    return arr\n",
    "\n",
    "while len(arr)!=cnt:\n",
    "    arr=remove_duplicates(arr)\n",
    "\n",
    "print(arr)\n",
    "\n"
   ]
  },
  {
   "cell_type": "code",
   "execution_count": null,
   "metadata": {},
   "outputs": [],
   "source": [
    "# Find the index of first occurence\n",
    "\n",
    "def first_occurence(needle,haystack):\n",
    "    for i in range(len(haystack)):\n",
    "        if haystack[i]==needle[0]:\n",
    "            cnt,n=0,0\n",
    "            j=i\n",
    "            start=i\n",
    "            while n<len(needle):\n",
    "                if needle[n]==haystack[j]:\n",
    "                    n+=1 \n",
    "                    j+=1\n",
    "                    cnt+=1\n",
    "                else:\n",
    "                    break\n",
    "            if cnt==len(needle):\n",
    "                return start\n",
    "    return -1\n",
    "\n",
    "needle='ll'\n",
    "haystack='hello'\n",
    "first_occurence(needle,haystack)\n"
   ]
  },
  {
   "cell_type": "code",
   "execution_count": null,
   "metadata": {},
   "outputs": [],
   "source": [
    "# Two Sum - for both sorted and unsorted array using hashing and two pointer approach\n",
    "# i.e nums[i]+nums[j]=k\n",
    "def hashing(nums,k):\n",
    "    num_index={}\n",
    "    for i in range(len(nums)):\n",
    "        complement=k-nums[i]\n",
    "        if complement in num_index:\n",
    "            return [num_index[complement],i]\n",
    "        num_index[nums[i]]=i\n",
    "    return -1\n",
    "\n",
    "def two_pointer(nums,k):\n",
    "    nums=sorted(nums)\n",
    "    left,right=0,len(nums)-1\n",
    "    while left<=right:\n",
    "        sum=nums[left]+nums[right]\n",
    "        if sum==k:\n",
    "            return [left,right]\n",
    "        elif sum>k:\n",
    "            right-=1\n",
    "        elif sum<k:\n",
    "            left+=1\n",
    "    return -1\n",
    "\n",
    "nums=[1,2,3,4,5,6]\n",
    "k=10\n",
    "print(hashing(nums,k))\n",
    "print(two_pointer(nums,k))"
   ]
  },
  {
   "cell_type": "code",
   "execution_count": null,
   "metadata": {},
   "outputs": [],
   "source": [
    "# You are given a sorted unique integer array nums. A range [a,b] is the set of all integers from a to b (inclusive).\n",
    "# Return the smallest sorted list of ranges that cover all the numbers in the array exactly. \n",
    "# That is, each element of nums is covered by exactly one of the ranges, and there is no integer x such that x is in one of the ranges but not in nums.\n",
    "# Each range [a,b] in the list should be output as:\n",
    "# \"a->b\" if a != b \"a\" if a == b\n",
    "nums = [0,2,3,4,6,8,9]\n",
    "ranges=[]\n",
    "def SummaryRanges(nums):\n",
    "    if len(nums)==0:\n",
    "        return []\n",
    "    i,j=0,1\n",
    "    start=nums[0]\n",
    "    while i<len(nums) and j<len(nums):\n",
    "\n",
    "        if nums[j]-nums[i]!=1:\n",
    "            end=nums[i]\n",
    "            if start!=end:\n",
    "                ranges.append(f'{start}->{end}')\n",
    "            else:\n",
    "                ranges.append(f'{start}')\n",
    "            start=nums[j]\n",
    "\n",
    "        if j==len(nums)-1:\n",
    "            if start!=nums[j]:\n",
    "                ranges.append(f'{start}->{nums[j]}')\n",
    "            else:\n",
    "                ranges.append(f'{start}')\n",
    "\n",
    "        i+=1\n",
    "        j+=1\n",
    "    return ranges\n",
    "ranges=SummaryRanges(nums)\n",
    "ranges\n",
    "\n",
    "\n",
    "\n"
   ]
  },
  {
   "cell_type": "code",
   "execution_count": 14,
   "metadata": {},
   "outputs": [
    {
     "data": {
      "text/plain": [
       "[[-1, -1, 2], [-1, 0, 1]]"
      ]
     },
     "execution_count": 14,
     "metadata": {},
     "output_type": "execute_result"
    }
   ],
   "source": [
    "# Three sum problem i.e nums[i]+nums[j]+nums[k]=0 - Two Pointer Approach\n",
    "\n",
    "nums=[-4,-1,-1,0,1,2]  \n",
    "def three_sum(nums):\n",
    "    nums.sort()  # first sort the array\n",
    "    res=[]\n",
    "    for i in range(len(nums)):  # fix an element\n",
    "        if nums[i]>0:                # if its postive then all elements ahead will be positive and sum wont be zer\n",
    "            break\n",
    "        if i>0 and nums[i]==nums[i-1]:    # to check if the fixed element is not repeated\n",
    "            continue\n",
    "        left=i+1\n",
    "        right=len(nums)-1\n",
    "        while left<right:\n",
    "            sum=nums[i]+nums[left]+nums[right]\n",
    "            if sum>0:\n",
    "                right-=1\n",
    "            elif sum<0:\n",
    "                left+=1\n",
    "            else:\n",
    "                res.append([nums[i],nums[left],nums[right]])\n",
    "                left+=1                         # increase and decrease two pointers to avoid duplicate solutions\n",
    "                right-=1\n",
    "                while left<right and nums[left]==nums[left-1]:\n",
    "                    left+=1\n",
    "                while right>left and nums[right+1]==nums[right]:\n",
    "                    right-=1\n",
    "    return res\n",
    "\n",
    "three_sum(nums)\n"
   ]
  },
  {
   "cell_type": "code",
   "execution_count": null,
   "metadata": {},
   "outputs": [],
   "source": []
  }
 ],
 "metadata": {
  "kernelspec": {
   "display_name": "Python 3",
   "language": "python",
   "name": "python3"
  },
  "language_info": {
   "codemirror_mode": {
    "name": "ipython",
    "version": 3
   },
   "file_extension": ".py",
   "mimetype": "text/x-python",
   "name": "python",
   "nbconvert_exporter": "python",
   "pygments_lexer": "ipython3",
   "version": "3.12.3"
  }
 },
 "nbformat": 4,
 "nbformat_minor": 2
}
