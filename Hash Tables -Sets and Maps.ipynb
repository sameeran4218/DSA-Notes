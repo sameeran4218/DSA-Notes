{
 "cells": [
  {
   "cell_type": "code",
   "execution_count": 4,
   "metadata": {},
   "outputs": [
    {
     "name": "stdout",
     "output_type": "stream",
     "text": [
      "{'a': 9, 'b': 5, 'c': 4, 'd': 10}\n"
     ]
    }
   ],
   "source": [
    "# count the number of occurences of each element\n",
    "\n",
    "from collections import Counter\n",
    "s='aaaaaaaaabbbbbccccdddddddddd'\n",
    "cnt=dict(Counter(s))\n",
    "print(cnt)"
   ]
  },
  {
   "cell_type": "code",
   "execution_count": 2,
   "metadata": {},
   "outputs": [
    {
     "data": {
      "text/plain": [
       "1"
      ]
     },
     "execution_count": 2,
     "metadata": {},
     "output_type": "execute_result"
    }
   ],
   "source": [
    "# Given a string text, you want to use the characters of text to form as many instances of the word \"balloon\" as possible.\n",
    "# You can use each character in text at most once. Return the maximum number of instances that can be formed.\n",
    "# Input: text = \"loonbalxballpoon\" Output: 2\n",
    "\n",
    "from collections import Counter\n",
    "class Solution:\n",
    "    def maxNumberOfBalloons(text: str) -> int:\n",
    "        ball=dict(Counter(text))\n",
    "        st=set(['b','a','l','o','n'])\n",
    "        ball1=dict()\n",
    "        for key,value in ball.items():\n",
    "            if key=='l' or key=='o':\n",
    "                ball1[key]=value//2\n",
    "            if key=='b' or key=='a' or key=='n':\n",
    "                ball1[key]=value\n",
    "        if len(st)!=len(st.intersection(set(ball1.keys()))):\n",
    "            return 0\n",
    "        mini=float('inf')\n",
    "        for value in ball1.values():\n",
    "            if value<mini:\n",
    "                mini=value\n",
    "        return mini\n"
   ]
  },
  {
   "cell_type": "code",
   "execution_count": 9,
   "metadata": {},
   "outputs": [
    {
     "data": {
      "text/plain": [
       "[1, 2]"
      ]
     },
     "execution_count": 9,
     "metadata": {},
     "output_type": "execute_result"
    }
   ],
   "source": [
    "# Two Sum\n",
    "\n",
    "nums = [3,2,4]\n",
    "target = 6\n",
    "def TwoSum(nums,target):\n",
    "    st=set()\n",
    "    for i in range(len(nums)):\n",
    "        if (target-nums[i]) in st:\n",
    "            return [nums.index(target-nums[i]),i]\n",
    "        st.add(nums[i])\n",
    "TwoSum(nums,target)\n"
   ]
  },
  {
   "cell_type": "code",
   "execution_count": 23,
   "metadata": {},
   "outputs": [
    {
     "data": {
      "text/plain": [
       "[['eat', 'tea', 'ate'], ['tan', 'nat'], ['bat']]"
      ]
     },
     "execution_count": 23,
     "metadata": {},
     "output_type": "execute_result"
    }
   ],
   "source": [
    "# Group Anagrams Together\n",
    "# Given an array of strings strs, group the anagrams together.\n",
    "# Input: strs = [\"eat\",\"tea\",\"tan\",\"ate\",\"nat\",\"bat\"]\n",
    "# Output: [[\"bat\"],[\"nat\",\"tan\"],[\"ate\",\"eat\",\"tea\"]]\n",
    "\n",
    "strs = [\"eat\",\"tea\",\"tan\",\"ate\",\"nat\",\"bat\"]\n",
    "from collections import defaultdict   # default dictionary is a special dictionary wherein if a given key is not present it creates the key\n",
    "# and assigns the default value . for eg here the value type was list so it assigned an empty list to the key\n",
    "\n",
    "def groupAnagrams(strs):\n",
    "    anagrams_dict = defaultdict(list)\n",
    "    for s in strs: # n\n",
    "        count = [0] * 26  # make an frequency array of 26 zeroes to store the freq of each characteer in string\n",
    "        for c in s:\n",
    "            count[ord(c) - ord(\"a\")] += 1 # here ord(c) is used to access the ASCII value of the character\n",
    "            # eg ord('b')-ord('a')=> 98-97=1 i.e we add 1 to the 1st index in the frequency array\n",
    "        key = tuple(count) # we make the count a tuple to make it hashable and make a key\n",
    "        # now whenever any other string with the same count frequency array occurs it is appended to the key\n",
    "        anagrams_dict[key].append(s)\n",
    "\n",
    "    return list(anagrams_dict.values())\n",
    "groupAnagrams(strs)\n",
    "\n"
   ]
  },
  {
   "cell_type": "code",
   "execution_count": null,
   "metadata": {},
   "outputs": [],
   "source": []
  }
 ],
 "metadata": {
  "kernelspec": {
   "display_name": "Python 3",
   "language": "python",
   "name": "python3"
  },
  "language_info": {
   "codemirror_mode": {
    "name": "ipython",
    "version": 3
   },
   "file_extension": ".py",
   "mimetype": "text/x-python",
   "name": "python",
   "nbconvert_exporter": "python",
   "pygments_lexer": "ipython3",
   "version": "3.12.3"
  }
 },
 "nbformat": 4,
 "nbformat_minor": 2
}
