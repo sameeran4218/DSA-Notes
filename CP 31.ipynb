{
 "cells": [
  {
   "cell_type": "markdown",
   "metadata": {},
   "source": [
    "# CP 31"
   ]
  },
  {
   "cell_type": "markdown",
   "metadata": {},
   "source": [
    "## 800"
   ]
  },
  {
   "cell_type": "code",
   "execution_count": null,
   "metadata": {},
   "outputs": [],
   "source": [
    "# Codeforces 1903A\n",
    "def atMostKReverse(arr,k):\n",
    "    if k==1:\n",
    "        for i in range(len(arr)-1):\n",
    "            if arr[i+1]<arr[i]:\n",
    "                return False\n",
    "        return True\n",
    "    else:\n",
    "        return True\n",
    "t=int(input())\n",
    "for _ in range(t):\n",
    "    n,k=list(map(int,input().split()))\n",
    "    arr=list(map(int,input().split()))\n",
    "    print(atMostKReverse(arr,k))\n",
    "\n",
    "\n"
   ]
  },
  {
   "cell_type": "code",
   "execution_count": null,
   "metadata": {},
   "outputs": [],
   "source": [
    "# Codeforces 1901A\n",
    "def minimumFuel(fuel_station,x):\n",
    "    vol=-fuel_station[0]\n",
    "    min_vol=-fuel_station[0]\n",
    "    for i in range(len(fuel_station)-1):\n",
    "        vol=-(fuel_station[i+1]-fuel_station[i])\n",
    "        min_vol=min(min_vol,vol)\n",
    "    vol=-2*(x-fuel_station[-1])\n",
    "    min_vol=min(min_vol,vol)\n",
    "    for i in range(len(fuel_station)-1,0,-1):\n",
    "        vol=-(fuel_station[i]-fuel_station[i-1])\n",
    "        min_vol=min(min_vol,vol)\n",
    "    return abs(min_vol)\n",
    "\n",
    "t=int(input())\n",
    "for _ in range(t):\n",
    "    n,x=list(map(int,input().split()))\n",
    "    fuel_station=list(map(int,input().split()))\n",
    "    print(minimumFuel(fuel_station,x))\n",
    "\n"
   ]
  },
  {
   "cell_type": "code",
   "execution_count": null,
   "metadata": {},
   "outputs": [],
   "source": [
    "# Coddeforces 1900A\n",
    "def pourWater(n,s):\n",
    "    arr=[]\n",
    "    for i in range(n):\n",
    "        if s[i]=='.':\n",
    "            arr.append(i)\n",
    "    prev=0\n",
    "    \n",
    "            \n",
    "t=int(input())\n",
    "for _ in range(t):\n",
    "    n=int(input())\n",
    "    s=list(input())\n",
    "    print(s)\n",
    "    print(pourWater(n,s))"
   ]
  },
  {
   "cell_type": "code",
   "execution_count": null,
   "metadata": {},
   "outputs": [],
   "source": [
    "# Codeforces 1896 A\n",
    "def jaggedSort(arr):\n",
    "    mini=float('inf')\n",
    "    for i in range(len(arr)):\n",
    "        if arr[i]<mini:\n",
    "            mini=arr[i]\n",
    "    if arr[0]==mini:\n",
    "        return 'YES'\n",
    "    return 'NO'\n",
    "t=int(input())\n",
    "for _ in range(t):\n",
    "    n=int(input())\n",
    "    arr=list(map(int,input().split()))\n",
    "    print(jaggedSort(arr))"
   ]
  },
  {
   "cell_type": "code",
   "execution_count": null,
   "metadata": {},
   "outputs": [],
   "source": [
    "# Codeforces 1881 A\n",
    "def substring(x,s):\n",
    "    if s in x:\n",
    "        return 0\n",
    "    cnt=0\n",
    "    while len(x)<=25:\n",
    "        x+=x\n",
    "        cnt+=1\n",
    "        if s in x:\n",
    "            return cnt\n",
    "    return -1\n",
    "t=int(input())\n",
    "for _ in range(t):\n",
    "    n,m=list(map(int,input().split()))\n",
    "    x=input()\n",
    "    s=input()\n",
    "    print(substring(x,s))"
   ]
  },
  {
   "cell_type": "code",
   "execution_count": null,
   "metadata": {},
   "outputs": [],
   "source": [
    "# Codeforces 1814 A\n",
    "def coins(n,k):\n",
    "    if n%2==0 or n%k==0:\n",
    "        return 'YES'\n",
    "    b=False\n",
    "    a=False\n",
    "    k_coins=n//k\n",
    "    rem=n-k_coins*k\n",
    "    if rem%2!=0:\n",
    "        b=False\n",
    "    else:\n",
    "        b=True\n",
    "    \n",
    "    coins_2=n//2\n",
    "    rem=n-coins_2*2\n",
    "    if rem%k!=0:\n",
    "        a=False\n",
    "    else:\n",
    "        a=True\n",
    "    if a or b:\n",
    "        return 'YES'\n",
    "    return 'NO'\n",
    "t=int(input())\n",
    "for _ in range(t):\n",
    "    n,k=list(map(int,input().split()))\n",
    "    print(coins(n,k))"
   ]
  },
  {
   "cell_type": "markdown",
   "metadata": {},
   "source": [
    "# 900\n"
   ]
  },
  {
   "cell_type": "code",
   "execution_count": null,
   "metadata": {},
   "outputs": [],
   "source": [
    "# Codeforces 1904 A\n",
    "def forked(xk,yk,xq,yq,a,b):\n",
    "    st1=set([(xk+a,yk+b),(xk+a,yk-b),(xk-a,yk+b),(xk-a,yk-b),(xk+b,yk+a),(xk+b,yk-a),(xk-b,yk+a),(xk-b,yk-a)])\n",
    "    st2=set([(xq+a,yq+b),(xq+a,yq-b),(xq-a,yq+b),(xq-a,yq-b),(xq+b,yq+a),(xq+b,yq-a),(xq-b,yq+a),(xq-b,yq-a)])\n",
    "    return len(st1.intersection(st2))\n",
    "t=int(input())\n",
    "for _ in range(t):\n",
    "    a,b=list(map(int,input().split()))\n",
    "    xk,yk=list(map(int,input().split()))\n",
    "    xq,yk=list(map(int,input().split()))\n",
    "    print(forked(xk,yk,xq,yk,a,b))\n"
   ]
  },
  {
   "cell_type": "code",
   "execution_count": null,
   "metadata": {},
   "outputs": [],
   "source": [
    "# Codeforces 1883 A\n",
    "from collections import Counter\n",
    "def palindrome(s,k):\n",
    "    freq=dict(Counter(s))\n",
    "    cnt=0\n",
    "    for value in freq.values():\n",
    "        if value%2!=0:\n",
    "            cnt+=1\n",
    "    if cnt<=k+1:\n",
    "        return 'YES'\n",
    "    return 'NO'\n",
    "\n",
    "t=int(input())\n",
    "for _ in range(t):\n",
    "    n,k=list(map(int,input().split()))\n",
    "    s=input()\n",
    "    print(palindrome(s,k))"
   ]
  },
  {
   "cell_type": "code",
   "execution_count": null,
   "metadata": {},
   "outputs": [],
   "source": [
    "# Codeforces 1875 A\n",
    "def bomb(a,b,x):\n",
    "    c=b\n",
    "    cnt1=0\n",
    "    cnt=0\n",
    "    i=0\n",
    "    for i in range(len(x)):\n",
    "        if c==0:\n",
    "            return cnt\n",
    "        if c==1:\n",
    "            c=min(c+x[i],a)\n",
    "        cnt+=1\n",
    "        c-=1\n",
    "    return cnt\n",
    "t=int(input())\n",
    "for _ in range(t):\n",
    "    a,b,n=list(map(int,input().split()))\n",
    "    x=list(map(int,input().split()))\n",
    "    print(bomb(a,b,x))"
   ]
  },
  {
   "cell_type": "code",
   "execution_count": null,
   "metadata": {},
   "outputs": [],
   "source": [
    "# Codeforces 1837B\n",
    "def compatible(s):\n",
    "    n=len(s)\n",
    "    i=0\n",
    "    max_length=0\n",
    "    j=0\n",
    "    st=set()\n",
    "    st.add(s[0])\n",
    "    for j in range(n):\n",
    "        if s[j] not in st:\n",
    "            i=j\n",
    "            st.clear()\n",
    "        length=j-i+1\n",
    "        max_length=max(max_length,length)\n",
    "        st.add(s[j])\n",
    "    min_cost=max_length+1\n",
    "    return min_cost"
   ]
  },
  {
   "cell_type": "code",
   "execution_count": null,
   "metadata": {},
   "outputs": [],
   "source": [
    "# Codeforces 1807D\n",
    "def sumOdd(arr_sum,prefix_arr,l,r,k):\n",
    "    sum_lr=prefix_arr[r]-prefix_arr[l-1]\n",
    "    new_sum=arr_sum-sum_lr+k*(l-r+1)\n",
    "    if new_sum%2==1:\n",
    "        return 'YES'\n",
    "    return 'NO'\n",
    "\n",
    "t=int(input())\n",
    "for _ in range(t):\n",
    "    n,q=list(map(int,input().split()))\n",
    "    arr=list(map(int,input().split()))\n",
    "    arr_sum=sum(arr)\n",
    "    pr=[0]\n",
    "    for i in arr:\n",
    "        pr.append(pr[-1]+i)\n",
    "\n",
    "    for i in range(q):\n",
    "        l,r,k=list(map(int,input().split()))\n",
    "        print(sumOdd(arr_sum,pr,l,r,k))"
   ]
  },
  {
   "cell_type": "code",
   "execution_count": null,
   "metadata": {},
   "outputs": [],
   "source": [
    "def sumTillK(n):\n",
    "    sum=0\n",
    "    i=1\n",
    "    j=0\n",
    "    cnt=0\n",
    "    while abs(sum)<=n:\n",
    "        if j%2==0:\n",
    "            sum+=i\n",
    "        else:\n",
    "            sum-=i\n",
    "        j+=1\n",
    "        i=i+2\n",
    "        cnt+=1\n",
    "    if cnt%2==0:\n",
    "        return 'Kosuke'\n",
    "    return 'sakurako'\n",
    "t=int(input())\n",
    "for _ in range(t):\n",
    "    n=int(input())\n",
    "    print(sumTillK(n))"
   ]
  },
  {
   "cell_type": "code",
   "execution_count": null,
   "metadata": {},
   "outputs": [],
   "source": [
    "def minIncrements(matrix, n):\n",
    "    ans = 0\n",
    "    # traverse the lower diagonals\n",
    "    for i in range(n):\n",
    "        cnt = 0\n",
    "        for j in range(n - i):\n",
    "            cnt = min(cnt, matrix[i + j][j])\n",
    "        ans += abs(cnt)\n",
    "    # traverse the upper diagonals\n",
    "    for j in range(1, n):\n",
    "        cnt = 0\n",
    "        for i in range(n - j):\n",
    "            cnt = min(cnt, matrix[i][i + j])\n",
    "        ans += abs(cnt)\n",
    "    return ans\n",
    "\n",
    "\n",
    "t = int(input())\n",
    "for _ in range(t):\n",
    "    n = int(input())\n",
    "    matrix = [list(map(int, input().split())) for _ in range(n)]\n",
    "    print(minIncrements(matrix, n))\n"
   ]
  },
  {
   "cell_type": "code",
   "execution_count": 3,
   "metadata": {},
   "outputs": [
    {
     "data": {
      "text/plain": [
       "[3, 5, 4, 6]"
      ]
     },
     "execution_count": 3,
     "metadata": {},
     "output_type": "execute_result"
    }
   ],
   "source": [
    "# Codeforces 1794 B\n",
    "def notDivide(arr,n):\n",
    "    for i in range(n):\n",
    "        if arr[i]==1:\n",
    "            arr[i]+=1\n",
    "    for i in range(1,n):\n",
    "        if arr[i]%arr[i-1]==0:\n",
    "            arr[i]+=1\n",
    "    return arr\n",
    "t=int(input())\n",
    "for _ in range(t):\n",
    "    n=int(input())\n",
    "    arr=list(map(int,input().split()))\n",
    "    arr=notDivide(arr,n)\n",
    "    for a in arr:\n",
    "        print(a,end=' ')\n",
    "    print()"
   ]
  },
  {
   "cell_type": "code",
   "execution_count": null,
   "metadata": {},
   "outputs": [],
   "source": [
    "# Codeforces 1607B\n",
    "def finalCoordinate(x,n):\n",
    "    if x%2==0:\n",
    "        if n%4==0:\n",
    "            return x\n",
    "        elif n%4==3:\n",
    "            return x+n+1\n",
    "        elif n%4==2:\n",
    "            return x+1\n",
    "        elif n%4==1:\n",
    "            return x-n\n",
    "    else:\n",
    "        if n%4==0:\n",
    "            return x\n",
    "        elif n%4==3:\n",
    "            return x-n-1\n",
    "        elif n%4==2:\n",
    "            return x-1\n",
    "        elif n%4==1:\n",
    "            return x+n\n",
    "\n",
    "t=int(input())\n",
    "for _ in range(t):\n",
    "    x,n=list(map(int,input().split()))\n",
    "    print(finalCoordinate(x,n))"
   ]
  },
  {
   "cell_type": "code",
   "execution_count": null,
   "metadata": {},
   "outputs": [],
   "source": [
    "# Codeforces 1850D\n",
    "def rounds(arr,n,k):\n",
    "    arr.sort()\n",
    "    cnt=1\n",
    "    max_cnt=0\n",
    "    for i in range(1,n):\n",
    "        if arr[i]-arr[i-1]>k:\n",
    "            cnt=1\n",
    "        else:\n",
    "            cnt+=1\n",
    "        max_cnt=max(max_cnt,cnt)\n",
    "    max_length=n-max_cnt\n",
    "    return max_length"
   ]
  },
  {
   "cell_type": "code",
   "execution_count": null,
   "metadata": {},
   "outputs": [],
   "source": [
    "# Codeforces 2027A\n",
    "def coloring(arr,n):\n",
    "    max_h,max_w=0,0\n",
    "    for i in range(n):\n",
    "        if arr[i][0]>=max_w:\n",
    "            max_w=arr[i][0]\n",
    "        if arr[i][1]>=max_h:\n",
    "            max_h=arr[i][1]\n",
    "    perimeter=2*(max_h+max_w)\n",
    "    return perimeter\n",
    "t=int(input())\n",
    "for _ in range(t):\n",
    "    arr=[]\n",
    "    n=int(input())\n",
    "    w,h=list(map(int,input().split()))\n",
    "    arr.append([w,h])\n",
    "    print(coloring(arr,n))"
   ]
  },
  {
   "cell_type": "code",
   "execution_count": 3,
   "metadata": {},
   "outputs": [
    {
     "data": {
      "text/plain": [
       "[6, 4, 9, 2, 4, 5, 2]"
      ]
     },
     "execution_count": 3,
     "metadata": {},
     "output_type": "execute_result"
    }
   ],
   "source": [
    "# Codeforces 2027B\n",
    "def stalinSort(arr):\n",
    "    max_length=0\n",
    "    for i in range(n):\n",
    "        cnt=0\n",
    "        for j in range(i,n):\n",
    "            if arr[j]<=arr[i]:\n",
    "                cnt+=1\n",
    "        max_length=max(max_length,cnt)\n",
    "    return len(arr)-max_length\n",
    "\n",
    "t=int(input())\n",
    "for _ in range(t):\n",
    "        n=int(input())\n",
    "        arr=list(map(int,input().split()))\n",
    "        print(stalinSort(arr))"
   ]
  },
  {
   "cell_type": "code",
   "execution_count": null,
   "metadata": {},
   "outputs": [],
   "source": [
    "# Codeforces 2032A\n",
    "def switches(arr):\n",
    "    zeroes=arr.count(0)\n",
    "    ones=arr.count(1)\n",
    "    if zeroes==0 or ones==0:\n",
    "        return 0,0\n",
    "    min_lights,max_lights=0,0\n",
    "    if zeroes%2==0:\n",
    "        min_lights=0\n",
    "        max_lights=min(zeroes,ones)\n",
    "    else:\n",
    "        min_lights=1\n",
    "        max_lights=min(zeroes,ones)\n",
    "    return min_lights,max_lights\n",
    "t=int(input())\n",
    "for _ in range(t):\n",
    "    n=int(input())\n",
    "    arr=list(map(int,input().split()))\n",
    "    min_lights,max_lights=switches(arr)\n",
    "    print(min_lights,max_lights)"
   ]
  },
  {
   "cell_type": "code",
   "execution_count": null,
   "metadata": {},
   "outputs": [],
   "source": [
    "# Codeforces 2302B\n",
    "t=int(input())\n",
    "for _ in range(t):\n",
    "    n,k=list(map(int,input().split()))\n",
    "    if len(n)==1:\n",
    "        print(1)\n",
    "        print(1)\n",
    "        continue\n",
    "    if k==1 or k==n:\n",
    "        print(-1)\n",
    "        continue\n",
    "    print(3)\n",
    "    if k%2==0:\n",
    "        print(1,k,k+1)\n",
    "    else:\n",
    "        print(1,k-1,k+2)"
   ]
  },
  {
   "cell_type": "code",
   "execution_count": null,
   "metadata": {},
   "outputs": [
    {
     "name": "stdout",
     "output_type": "stream",
     "text": [
      "No\n"
     ]
    }
   ],
   "source": [
    "# Codeforces 1475A\n",
    "def oddDivisor(n):\n",
    "    while n>1:\n",
    "        n=n/2\n",
    "    if n==1:\n",
    "        return 'NO'\n",
    "    return 'YES'\n",
    "t=int(input())\n",
    "for _ in range(t):\n",
    "    n=int(input())\n",
    "    print(oddDivisor(n))\n"
   ]
  },
  {
   "cell_type": "code",
   "execution_count": null,
   "metadata": {},
   "outputs": [
    {
     "data": {
      "text/plain": [
       "1.75"
      ]
     },
     "execution_count": 5,
     "metadata": {},
     "output_type": "execute_result"
    }
   ],
   "source": [
    "# Codeforces 1374B\n",
    "def divideandmultiply(n):\n",
    "    n1=n\n",
    "    cnt2,cnt3=0,0\n",
    "    while n1%2==0:\n",
    "        n1=n1/2\n",
    "        cnt2+=1\n",
    "    while n1%3==0:\n",
    "        n1=n/3\n",
    "        cnt3+=1\n",
    "    if n1==1:\n",
    "        if cnt3>cnt2:\n",
    "            return 2*cnt3-cnt2\n",
    "        return -1\n",
    "    else:\n",
    "        return -1\n",
    "t=int(input())\n",
    "for _ in range(t):\n",
    "    n=int(input())\n",
    "    print(divideandmultiply(n))"
   ]
  },
  {
   "cell_type": "code",
   "execution_count": 2,
   "metadata": {},
   "outputs": [
    {
     "data": {
      "text/plain": [
       "4"
      ]
     },
     "execution_count": 2,
     "metadata": {},
     "output_type": "execute_result"
    }
   ],
   "source": [
    "import math\n",
    "int(math.sqrt(10)+1)"
   ]
  },
  {
   "cell_type": "code",
   "execution_count": null,
   "metadata": {},
   "outputs": [],
   "source": [
    "from collections import defaultdict\n",
    "def startup(n,k,bottles):\n",
    "    brands_total=defaultdict()\n",
    "    for i in range(len(bottles)):\n",
    "        brands_total[bottles[i][0]]+=bottles[i][1]\n",
    "    top_sum=sorted(brands_total.values(),reverse=True)[:n]\n",
    "    net_sum=sum(top_sum)\n",
    "    return net_sum\n",
    "t=int(input())\n",
    "for _ in range(t):\n",
    "    n,k=list(map(int,input().split()))\n",
    "    bottles=[]\n",
    "    for i in range(k):\n",
    "        b,c=list(map(int,input().split()))\n",
    "        bottles.append((b,c))\n",
    "    print(startup(n,k,bottles))\n"
   ]
  },
  {
   "cell_type": "code",
   "execution_count": 2,
   "metadata": {},
   "outputs": [
    {
     "data": {
      "text/plain": [
       "2"
      ]
     },
     "execution_count": 2,
     "metadata": {},
     "output_type": "execute_result"
    }
   ],
   "source": [
    "arr=[1,2,3,4]\n",
    "n=3\n",
    "arr[-n]"
   ]
  },
  {
   "cell_type": "markdown",
   "metadata": {},
   "source": [
    "#  1000\n"
   ]
  },
  {
   "cell_type": "code",
   "execution_count": null,
   "metadata": {},
   "outputs": [],
   "source": [
    "# Codforces 1715B \n",
    "def beautiful(n,k,b,s):\n",
    "    smax=k*b+(k-1)*n\n",
    "    if s>smax:\n",
    "        return -1\n",
    "    if s<k*b:\n",
    "        return -1\n",
    "    max_elem=min(s,b*k+k-1)\n",
    "    new_arr=[max_elem]\n",
    "    cur_sum=max_elem\n",
    "    while n>1:\n",
    "        new_arr.append(min(s-cur_sum,k-1))\n",
    "        cur_sum+=new_arr[-1]\n",
    "        n-=1\n",
    "    return new_arr\n",
    "\n",
    "for _ in range(int(input())):\n",
    "    n,k,b,s=list(map(int,input().split()))\n",
    "    arr=beautiful(n,k,b,s)\n",
    "    if arr==-1:\n",
    "        print(-1)\n",
    "        continue\n",
    "    for i in range(len(arr)):\n",
    "        print(arr[i],end=' ')\n",
    "    print()"
   ]
  },
  {
   "cell_type": "code",
   "execution_count": null,
   "metadata": {},
   "outputs": [
    {
     "ename": "AttributeError",
     "evalue": "'list' object has no attribute 'find'",
     "output_type": "error",
     "traceback": [
      "\u001b[1;31m---------------------------------------------------------------------------\u001b[0m",
      "\u001b[1;31mAttributeError\u001b[0m                            Traceback (most recent call last)",
      "Cell \u001b[1;32mIn[8], line 2\u001b[0m\n\u001b[0;32m      1\u001b[0m arr\u001b[38;5;241m=\u001b[39m[\u001b[38;5;241m1\u001b[39m,\u001b[38;5;241m2\u001b[39m,\u001b[38;5;241m3\u001b[39m,\u001b[38;5;241m45\u001b[39m]\n\u001b[1;32m----> 2\u001b[0m \u001b[43marr\u001b[49m\u001b[38;5;241;43m.\u001b[39;49m\u001b[43mfind\u001b[49m(\u001b[38;5;241m1\u001b[39m)\n",
      "\u001b[1;31mAttributeError\u001b[0m: 'list' object has no attribute 'find'"
     ]
    }
   ],
   "source": [
    "arr=[1,2,3,45]\n",
    "a"
   ]
  },
  {
   "cell_type": "code",
   "execution_count": null,
   "metadata": {},
   "outputs": [],
   "source": []
  }
 ],
 "metadata": {
  "kernelspec": {
   "display_name": "Python 3",
   "language": "python",
   "name": "python3"
  },
  "language_info": {
   "codemirror_mode": {
    "name": "ipython",
    "version": 3
   },
   "file_extension": ".py",
   "mimetype": "text/x-python",
   "name": "python",
   "nbconvert_exporter": "python",
   "pygments_lexer": "ipython3",
   "version": "3.12.3"
  }
 },
 "nbformat": 4,
 "nbformat_minor": 2
}
