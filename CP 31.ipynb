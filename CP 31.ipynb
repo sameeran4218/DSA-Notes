{
 "cells": [
  {
   "cell_type": "markdown",
   "metadata": {},
   "source": [
    "# CP 31"
   ]
  },
  {
   "cell_type": "markdown",
   "metadata": {},
   "source": [
    "## 800"
   ]
  },
  {
   "cell_type": "code",
   "execution_count": null,
   "metadata": {},
   "outputs": [],
   "source": [
    "# Codeforces 1903A\n",
    "def atMostKReverse(arr,k):\n",
    "    if k==1:\n",
    "        for i in range(len(arr)-1):\n",
    "            if arr[i+1]<arr[i]:\n",
    "                return False\n",
    "        return True\n",
    "    else:\n",
    "        return True\n",
    "t=int(input())\n",
    "for _ in range(t):\n",
    "    n,k=list(map(int,input().split()))\n",
    "    arr=list(map(int,input().split()))\n",
    "    print(atMostKReverse(arr,k))\n",
    "\n",
    "\n"
   ]
  },
  {
   "cell_type": "code",
   "execution_count": null,
   "metadata": {},
   "outputs": [],
   "source": [
    "# Codeforces 1901A\n",
    "def minimumFuel(fuel_station,x):\n",
    "    vol=-fuel_station[0]\n",
    "    min_vol=-fuel_station[0]\n",
    "    for i in range(len(fuel_station)-1):\n",
    "        vol=-(fuel_station[i+1]-fuel_station[i])\n",
    "        min_vol=min(min_vol,vol)\n",
    "    vol=-2*(x-fuel_station[-1])\n",
    "    min_vol=min(min_vol,vol)\n",
    "    for i in range(len(fuel_station)-1,0,-1):\n",
    "        vol=-(fuel_station[i]-fuel_station[i-1])\n",
    "        min_vol=min(min_vol,vol)\n",
    "    return abs(min_vol)\n",
    "\n",
    "t=int(input())\n",
    "for _ in range(t):\n",
    "    n,x=list(map(int,input().split()))\n",
    "    fuel_station=list(map(int,input().split()))\n",
    "    print(minimumFuel(fuel_station,x))\n",
    "\n"
   ]
  },
  {
   "cell_type": "code",
   "execution_count": null,
   "metadata": {},
   "outputs": [],
   "source": [
    "# Coddeforces 1900A\n",
    "def pourWater(n,s):\n",
    "    arr=[]\n",
    "    for i in range(n):\n",
    "        if s[i]=='.':\n",
    "            arr.append(i)\n",
    "    prev=0\n",
    "    \n",
    "            \n",
    "t=int(input())\n",
    "for _ in range(t):\n",
    "    n=int(input())\n",
    "    s=list(input())\n",
    "    print(s)\n",
    "    print(pourWater(n,s))"
   ]
  },
  {
   "cell_type": "code",
   "execution_count": 3,
   "metadata": {},
   "outputs": [
    {
     "name": "stdout",
     "output_type": "stream",
     "text": [
      "YES\n"
     ]
    }
   ],
   "source": [
    "# Codeforces 1896 A\n",
    "def jaggedSort(arr):\n",
    "    mini=float('inf')\n",
    "    for i in range(len(arr)):\n",
    "        if arr[i]<mini:\n",
    "            mini=arr[i]\n",
    "    if arr[0]==mini:\n",
    "        return 'YES'\n",
    "    return 'NO'\n",
    "t=int(input())\n",
    "for _ in range(t):\n",
    "    n=int(input())\n",
    "    arr=list(map(int,input().split()))\n",
    "    print(jaggedSort(arr))"
   ]
  },
  {
   "cell_type": "code",
   "execution_count": null,
   "metadata": {},
   "outputs": [],
   "source": [
    "# Codeforces 1881 A\n",
    "def substring(x,s):\n",
    "    if s in x:\n",
    "        return 0\n",
    "    cnt=0\n",
    "    while len(x)<=25:\n",
    "        x+=x\n",
    "        cnt+=1\n",
    "        if s in x:\n",
    "            return cnt\n",
    "    return -1\n",
    "t=int(input())\n",
    "for _ in range(t):\n",
    "    n,m=list(map(int,input().split()))\n",
    "    x=input()\n",
    "    s=input()\n",
    "    print(substring(x,s))"
   ]
  },
  {
   "cell_type": "code",
   "execution_count": null,
   "metadata": {},
   "outputs": [],
   "source": [
    "# Codeforces 1814 A\n",
    "def coins(n,k):\n",
    "    if n%2==0 or n%k==0:\n",
    "        return 'YES'\n",
    "    b=False\n",
    "    a=False\n",
    "    k_coins=n//k\n",
    "    rem=n-k_coins*k\n",
    "    if rem%2!=0:\n",
    "        b=False\n",
    "    else:\n",
    "        b=True\n",
    "    \n",
    "    coins_2=n//2\n",
    "    rem=n-coins_2*2\n",
    "    if rem%k!=0:\n",
    "        a=False\n",
    "    else:\n",
    "        a=True\n",
    "    if a or b:\n",
    "        return 'YES'\n",
    "    return 'NO'\n",
    "t=int(input())\n",
    "for _ in range(t):\n",
    "    n,k=list(map(int,input().split()))\n",
    "    print(coins(n,k))"
   ]
  },
  {
   "cell_type": "markdown",
   "metadata": {},
   "source": [
    "# 900\n"
   ]
  },
  {
   "cell_type": "code",
   "execution_count": null,
   "metadata": {},
   "outputs": [],
   "source": [
    "# Codeforces 1904 A\n",
    "def forked(xk,yk,xq,yq,a,b):\n",
    "    st1=set([(xk+a,yk+b),(xk+a,yk-b),(xk-a,yk+b),(xk-a,yk-b),(xk+b,yk+a),(xk+b,yk-a),(xk-b,yk+a),(xk-b,yk-a)])\n",
    "    st2=set([(xq+a,yq+b),(xq+a,yq-b),(xq-a,yq+b),(xq-a,yq-b),(xq+b,yq+a),(xq+b,yq-a),(xq-b,yq+a),(xq-b,yq-a)])\n",
    "    return len(st1.intersection(st2))\n",
    "t=int(input())\n",
    "for _ in range(t):\n",
    "    a,b=list(map(int,input().split()))\n",
    "    xk,yk=list(map(int,input().split()))\n",
    "    xq,yk=list(map(int,input().split()))\n",
    "    print(forked(xk,yk,xq,yk,a,b))\n"
   ]
  },
  {
   "cell_type": "code",
   "execution_count": null,
   "metadata": {},
   "outputs": [],
   "source": [
    "# Codeforces 1883 A\n",
    "from collections import Counter\n",
    "def palindrome(s,k):\n",
    "    freq=dict(Counter(s))\n",
    "    cnt=0\n",
    "    for value in freq.values():\n",
    "        if value%2!=0:\n",
    "            cnt+=1\n",
    "    if cnt<=k+1:\n",
    "        return 'YES'\n",
    "    return 'NO'\n",
    "\n",
    "t=int(input())\n",
    "for _ in range(t):\n",
    "    n,k=list(map(int,input().split()))\n",
    "    s=input()\n",
    "    print(palindrome(s,k))"
   ]
  },
  {
   "cell_type": "code",
   "execution_count": 13,
   "metadata": {},
   "outputs": [
    {
     "name": "stdout",
     "output_type": "stream",
     "text": [
      "3\n"
     ]
    }
   ],
   "source": [
    "# Codeforces 1875 A\n",
    "def bomb(a,b,x):\n",
    "    c=b\n",
    "    cnt1=0\n",
    "    cnt=0\n",
    "    i=0\n",
    "    for i in range(len(x)):\n",
    "        if c==0:\n",
    "            return cnt\n",
    "        if c==1:\n",
    "            c=min(c+x[i],a)\n",
    "        cnt+=1\n",
    "        c-=1\n",
    "    return cnt\n",
    "t=int(input())\n",
    "for _ in range(t):\n",
    "    a,b,n=list(map(int,input().split()))\n",
    "    x=list(map(int,input().split()))\n",
    "    print(bomb(a,b,x))"
   ]
  },
  {
   "cell_type": "code",
   "execution_count": null,
   "metadata": {},
   "outputs": [],
   "source": [
    "def sumTillK(n):\n",
    "    sum=0\n",
    "    i=1\n",
    "    j=0\n",
    "    cnt=0\n",
    "    while abs(sum)<=n:\n",
    "        if j%2==0:\n",
    "            sum+=i\n",
    "        else:\n",
    "            sum-=i\n",
    "        j+=1\n",
    "        i=i+2\n",
    "        cnt+=1\n",
    "    if cnt%2==0:\n",
    "        return 'Kosuke'\n",
    "    return 'sakurako'\n",
    "t=int(input())\n",
    "for _ in range(t):\n",
    "    n=int(input())\n",
    "    print(sumTillK(n))"
   ]
  },
  {
   "cell_type": "code",
   "execution_count": null,
   "metadata": {},
   "outputs": [],
   "source": [
    "def minIncrements(matrix, n):\n",
    "    ans = 0\n",
    "    # traverse the lower diagonals\n",
    "    for i in range(n):\n",
    "        cnt = 0\n",
    "        for j in range(n - i):\n",
    "            cnt = min(cnt, matrix[i + j][j])\n",
    "        ans += abs(cnt)\n",
    "    # traverse the upper diagonals\n",
    "    for j in range(1, n):\n",
    "        cnt = 0\n",
    "        for i in range(n - j):\n",
    "            cnt = min(cnt, matrix[i][i + j])\n",
    "        ans += abs(cnt)\n",
    "    return ans\n",
    "\n",
    "\n",
    "t = int(input())\n",
    "for _ in range(t):\n",
    "    n = int(input())\n",
    "    matrix = [list(map(int, input().split())) for _ in range(n)]\n",
    "    print(minIncrements(matrix, n))\n"
   ]
  }
 ],
 "metadata": {
  "kernelspec": {
   "display_name": "Python 3",
   "language": "python",
   "name": "python3"
  },
  "language_info": {
   "codemirror_mode": {
    "name": "ipython",
    "version": 3
   },
   "file_extension": ".py",
   "mimetype": "text/x-python",
   "name": "python",
   "nbconvert_exporter": "python",
   "pygments_lexer": "ipython3",
   "version": "3.12.3"
  }
 },
 "nbformat": 4,
 "nbformat_minor": 2
}
