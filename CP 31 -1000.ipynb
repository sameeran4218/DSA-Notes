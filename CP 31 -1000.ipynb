{
 "cells": [
  {
   "cell_type": "markdown",
   "metadata": {},
   "source": [
    "# TLE: CP 31 Sheet : Difficulty-1000"
   ]
  },
  {
   "cell_type": "code",
   "execution_count": null,
   "metadata": {},
   "outputs": [],
   "source": [
    "# You are given a binary string s\n",
    "# You can perform two types of operations on s:1. delete one character from s. This operation costs 1 coin; 2.swap any pair of characters in s. This operation is free (costs 0 coins).\n",
    "# You can perform these operations any number of times and in any order.\n",
    "# Let's name a string you've got after performing operations above as t. The string t is good if ti≠si\n",
    "# What is the minimum total cost to make the string t good?\n",
    "\n",
    "t=int(input())\n",
    "for _ in range(t):\n",
    "    s=list(input())\n",
    "    n=len(s)\n",
    "    ones,zeroes=0,0\n",
    "    for i in range(n):\n",
    "        if s[i]=='1':\n",
    "            ones+=1\n",
    "        else:\n",
    "            zeroes+=1\n",
    "    f=0\n",
    "    for i in range(n):\n",
    "        if s[i]=='1' and zeroes>0:\n",
    "            zeroes-=1\n",
    "        elif s[i]=='0'and ones>0:\n",
    "            ones-=1\n",
    "        else:\n",
    "            f=n-i\n",
    "            break\n",
    "    print(f)"
   ]
  },
  {
   "cell_type": "code",
   "execution_count": null,
   "metadata": {},
   "outputs": [],
   "source": [
    "def raspberries(nums,k):\n",
    "    prod=1\n",
    "    for num in nums:\n",
    "        prod*=num\n",
    "    if prod%k==0:\n",
    "        return 0\n",
    "    for i in range(len(nums)):\n",
    "        nums[i]=k-(nums[i]%k)\n",
    "    return min(nums)\n",
    "t=int(input())\n",
    "for _ in range(t):\n",
    "    n,k=list(map(int,input().split()))\n",
    "    nums=list(map(int,input().split()))\n",
    "    print(raspberries(nums,k))"
   ]
  },
  {
   "cell_type": "code",
   "execution_count": null,
   "metadata": {},
   "outputs": [],
   "source": []
  }
 ],
 "metadata": {
  "kernelspec": {
   "display_name": "Python 3",
   "language": "python",
   "name": "python3"
  },
  "language_info": {
   "codemirror_mode": {
    "name": "ipython",
    "version": 3
   },
   "file_extension": ".py",
   "mimetype": "text/x-python",
   "name": "python",
   "nbconvert_exporter": "python",
   "pygments_lexer": "ipython3",
   "version": "3.12.3"
  }
 },
 "nbformat": 4,
 "nbformat_minor": 2
}
